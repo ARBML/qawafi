{
  "nbformat": 4,
  "nbformat_minor": 0,
  "metadata": {
    "colab": {
      "name": "Barmajan: Diacrtization Inference.ipynb",
      "provenance": [],
      "collapsed_sections": [],
      "machine_shape": "hm"
    },
    "kernelspec": {
      "name": "python3",
      "display_name": "Python 3"
    },
    "language_info": {
      "name": "python"
    },
    "accelerator": "GPU"
  },
  "cells": [
    {
      "cell_type": "code",
      "execution_count": 1,
      "metadata": {
        "colab": {
          "base_uri": "https://localhost:8080/"
        },
        "id": "oQU8AedGy6jr",
        "outputId": "7951f45a-b458-43c0-da79-8c5abc05b402"
      },
      "outputs": [
        {
          "output_type": "stream",
          "name": "stdout",
          "text": [
            "Cloning into 'Arabic_Diacritization'...\n",
            "remote: Enumerating objects: 78, done.\u001b[K\n",
            "remote: Counting objects: 100% (78/78), done.\u001b[K\n",
            "remote: Compressing objects: 100% (70/70), done.\u001b[K\n",
            "remote: Total 78 (delta 32), reused 29 (delta 6), pack-reused 0\u001b[K\n",
            "Unpacking objects: 100% (78/78), done.\n",
            "/content/Arabic_Diacritization\n"
          ]
        }
      ],
      "source": [
        "!git clone https://github.com/zaidalyafeai/Arabic_Diacritization\n",
        "%cd Arabic_Diacritization"
      ]
    },
    {
      "cell_type": "code",
      "source": [
        "%%capture\n",
        "!pip install -r requirement.txt"
      ],
      "metadata": {
        "id": "Uz2ArtV40i3w"
      },
      "execution_count": 2,
      "outputs": []
    },
    {
      "cell_type": "code",
      "source": [
        "from predict import DiacritizationTester\n",
        "tester = DiacritizationTester('config/test.yml', 'cbhg')"
      ],
      "metadata": {
        "colab": {
          "base_uri": "https://localhost:8080/"
        },
        "id": "khKoJJOlaV2q",
        "outputId": "470645d1-08c7-4586-d881-02fb7410a4aa"
      },
      "execution_count": 3,
      "outputs": [
        {
          "output_type": "stream",
          "name": "stdout",
          "text": [
            "Exporting the pretrained models ... \n"
          ]
        },
        {
          "output_type": "stream",
          "name": "stderr",
          "text": [
            "Cached Downloading: model.zip\n",
            "Downloading...\n",
            "From: https://drive.google.com/uc?id=1dG9xhsfrTs4euDiUht0FRydaU5fl4_8U\n",
            "To: /root/.cache/gdown/tmp8z6p_t3x/dl\n",
            "100%|██████████| 166M/166M [00:01<00:00, 149MB/s]\n"
          ]
        },
        {
          "output_type": "stream",
          "name": "stdout",
          "text": [
            "WARNING: could not check git hash. 'git_hash'\n",
            "loading from CA_MSA.base.cbhg/models/25000-snapshot.pt\n"
          ]
        }
      ]
    },
    {
      "cell_type": "code",
      "source": [
        "tester.infer(\"لا تعذل المشتاق في أشواقه حتى يكون حشاك في أحشائه\")"
      ],
      "metadata": {
        "colab": {
          "base_uri": "https://localhost:8080/",
          "height": 35
        },
        "id": "t-PX164pajth",
        "outputId": "eaf78028-2758-4943-fd1d-159bd8860f14"
      },
      "execution_count": 6,
      "outputs": [
        {
          "output_type": "execute_result",
          "data": {
            "text/plain": [
              "'لا تَعْذَلُ الْمُشْتَاقَ فِي أَشْوَاقِهِ حَتَّى يَكُونَ حَشَاكَ فِي أَحْشَائِهِ'"
            ],
            "application/vnd.google.colaboratory.intrinsic+json": {
              "type": "string"
            }
          },
          "metadata": {},
          "execution_count": 6
        }
      ]
    }
  ]
}