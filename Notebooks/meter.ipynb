{
  "cells": [
    {
      "cell_type": "code",
      "execution_count": null,
      "metadata": {
        "colab": {
          "base_uri": "https://localhost:8080/"
        },
        "id": "KEAe4Yy5v8Ir",
        "outputId": "e9f3363e-d526-4c21-bb33-86f18ebdacc1"
      },
      "outputs": [
        {
          "output_type": "stream",
          "name": "stdout",
          "text": [
            "Mounted at /content/drive\n"
          ]
        }
      ],
      "source": [
        "from google.colab import drive\n",
        "drive.mount('/content/drive')"
      ]
    },
    {
      "cell_type": "code",
      "source": [
        "!pip freeze | grep sklearn"
      ],
      "metadata": {
        "colab": {
          "base_uri": "https://localhost:8080/"
        },
        "id": "dWlr9ptawUHM",
        "outputId": "a868507f-ce87-48e3-b282-7d59954b48fc"
      },
      "execution_count": null,
      "outputs": [
        {
          "output_type": "stream",
          "name": "stdout",
          "text": [
            "sklearn==0.0\n",
            "sklearn-pandas==1.8.0\n"
          ]
        }
      ]
    },
    {
      "cell_type": "markdown",
      "metadata": {
        "id": "Klf1-MC3DEhi"
      },
      "source": [
        "We use a product review dataset"
      ]
    },
    {
      "cell_type": "code",
      "execution_count": null,
      "metadata": {
        "id": "kvOJw5Bg6c5J"
      },
      "outputs": [],
      "source": [
        "!cp drive/MyDrive/Research/Barmajan/*.txt ."
      ]
    },
    {
      "cell_type": "markdown",
      "metadata": {
        "id": "ZwlvjSR-DS15"
      },
      "source": [
        "## Imports"
      ]
    },
    {
      "cell_type": "code",
      "execution_count": null,
      "metadata": {
        "id": "23FSFg5t6fc1"
      },
      "outputs": [],
      "source": [
        "import tensorflow as tf\n",
        "import numpy as np\n",
        "import os\n",
        "import time\n",
        "import glob\n",
        "from tensorflow.keras.layers import GRU, Embedding, Dense, Input, Dropout, Bidirectional, BatchNormalization, Flatten, Reshape\n",
        "from tensorflow.keras.models import Sequential\n",
        "from keras.preprocessing.text import Tokenizer, text_to_word_sequence\n",
        "from keras.preprocessing.sequence import pad_sequences\n",
        "from sklearn.utils import shuffle\n",
        "from sklearn.metrics import confusion_matrix\n",
        "from sklearn.model_selection import train_test_split\n",
        "import matplotlib.pyplot as plt"
      ]
    },
    {
      "cell_type": "code",
      "execution_count": null,
      "metadata": {
        "id": "ZZEFvXv2SqUg"
      },
      "outputs": [],
      "source": [
        "with open('labels.txt', 'r') as f:\n",
        "  label2name = f.readlines()\n",
        "  label2name = [name.replace('\\n', '') for name in label2name]"
      ]
    },
    {
      "cell_type": "markdown",
      "metadata": {
        "id": "bfbnvdT4Cmz0"
      },
      "source": [
        "## Read the Dataset"
      ]
    },
    {
      "cell_type": "code",
      "source": [
        "import random\n",
        "random.seed(400)"
      ],
      "metadata": {
        "id": "eJkhlwizM4gX"
      },
      "execution_count": null,
      "outputs": []
    },
    {
      "cell_type": "markdown",
      "metadata": {
        "id": "MKhqB_MfCjEP"
      },
      "source": [
        "preprocess a review by removing special characters and long spaces"
      ]
    },
    {
      "cell_type": "code",
      "execution_count": null,
      "metadata": {
        "id": "4Y2WG66L273k"
      },
      "outputs": [],
      "source": [
        "vocab = list('إةابتثجحخدذرزسشصضطظعغفقكلمنهويىأءئؤ#آ ')\n",
        "vocab += list('ًٌٍَُِّ') +['ْ']+['ٓ']"
      ]
    },
    {
      "cell_type": "code",
      "execution_count": null,
      "metadata": {
        "id": "T7MjMLLn6gtK"
      },
      "outputs": [],
      "source": [
        "# Read, then decode for py2 compat.\n",
        "def extract_data(path, thresh = 128, on_shatrs = False, set_max = -1):\n",
        "  global vocab\n",
        "\n",
        "  char_mapper = {\n",
        "      'ک':'ك',\n",
        "      'ﺑ':'ب',\n",
        "      'ھ':'ه',\n",
        "      'ی':'ى'\n",
        "  }\n",
        "  text = \"\"\n",
        "  \n",
        "  X = []\n",
        "  y = []\n",
        "    \n",
        "  t = open(path, 'r').read()\n",
        "  \n",
        "  # remove some exteranous chars \n",
        "  # execluded = '!()*-ـ.:=o[]«»;؛,،~?؟\\u200f\\ufeffـ'\n",
        "  out = \"\"\n",
        "  \n",
        "  baits = t.split('\\n')\n",
        "  ex_chars = []\n",
        "\n",
        "  for i, line in enumerate(baits):\n",
        "    if i > set_max and set_max != -1:\n",
        "      break\n",
        "    if len(line) <= 1:\n",
        "      continue\n",
        "    label, bait = line.split(' ', 1)\n",
        "    cleaned_bait = \"\"\n",
        "    \n",
        "    for char in bait:\n",
        "      if char in vocab:\n",
        "        cleaned_bait += char\n",
        "      elif char in char_mapper:\n",
        "        cleaned_bait += char_mapper[char]\n",
        "      else:\n",
        "        ex_chars.append(char)\n",
        "    label = int(label)\n",
        "    cleaned_bait  = cleaned_bait.strip()\n",
        "    # if len(cleaned_bait) == 1:\n",
        "    #   print(cleaned_bait, label,line)\n",
        "    if len(cleaned_bait) > thresh:\n",
        "      print(cleaned_bait)\n",
        "      continue\n",
        "    if on_shatrs:\n",
        "      shatrs = cleaned_bait.split('#')\n",
        "      for shatr in shatrs:\n",
        "        X.append(shatr.strip())\n",
        "        y.append(label)\n",
        "    else:\n",
        "        X.append(cleaned_bait.strip())\n",
        "        y.append(label)\n",
        "  \n",
        "  #shuffle the data\n",
        "  print(set(ex_chars))\n",
        "  print(len(X)) \n",
        "  X, y = shuffle(X, y, random_state = 41)\n",
        "  return X, y"
      ]
    },
    {
      "cell_type": "code",
      "execution_count": null,
      "metadata": {
        "id": "LWwTc-z2fv69",
        "colab": {
          "base_uri": "https://localhost:8080/"
        },
        "outputId": "8a46fc85-a970-4eb6-e69d-a1a5ab8b0867"
      },
      "outputs": [
        {
          "output_type": "stream",
          "name": "stdout",
          "text": [
            "قَوْلُهُ قِنًّا كُلُّهُ خَرَجَ الْمُبَعَّضُ فَهَلْ الْمُرَادُ أَنَّ # لَهُ جَمِيعَ الْمَهْرِ أَوْ أَنَّ لَهُ بِقِسْطِهِ رَاجِعْهُ\n",
            "أَمَّا إذَا أَكَلَ مِنْهُ وَلَمْ يَقْتُلْهُ أَوْ قَتَلَهُ # ثُمَّ انْصَرَفَ وَعَادَ إلَيْهِ فَأَكَلَ مِنْهُ فَإِنَّهُ لَا يَضُرُّ\n",
            "وَمُطْلَقُ مَسِّ ذَكَرِهِ الْمُتَّصِلِ وَلَوْ خُنْثَى مُشْكِلًا بِبَطْنٍ # أَوْ جَنْبٍ لِكَفٍّ أَوْ إصْبَعٍ وَإِنْ زَائِدًا حَسَّ\n",
            "وَقَالَ ابْنُ سَعْدٍ رَوَى عَنْ أُبَيِّ بْنِ كَعْبٍ # وَعُثْمَانَ وَعَلِيٍّ وَكَانَ ثِقَةً لَهُ فَضْلٌ وَوَرَعٌ وَعَقْلٌ وَأَدَبٌ\n",
            "الْمُصَنِّفِ لَوْ قَالَ لَهُ عَلَيَّ أَلْفٌ مِنْ ثَمَنِ مَبِيعٍ # لَمْ أَقْبِضْهُ وَقَالَ الْمُقَرُّ لَهُ بَلْ دَيْنٌ فِي ذِمَّتِك\n",
            "هذي حياتي وهذا الشوقُ يُجْبِرُني  على التّغُزّلِ في آلاءِ فاتنتي # ما كلّ حُسْن بهذا الكون يَذبَحُني أوْ كُلّ رامِيَةٍ بالعين راميتي\n",
            "وَإِنْ يَقُلْ وَاَللَّهِ لَا أُكَلِّمُ يَزِيدَ أَوْ عَلَيْهِ # لَا أُسَلِّمُ فَإِنْ عَلَى قَوْمٍ يُسَلِّمْ وَلَوْ مِنْ الصَّلَاةِ\n",
            "إلَخْ أَيْ وَيَجُوزُ لَهُ الدَّفْعُ بِلَا بَيِّنَةٍ لَكِنْ # يُشْتَرَطُ فِي دَفْعِ الْعَيْنِ غَلَبَةُ ظَنِّهِ بِأَنَّهُ وَكَّلَهُ\n",
            "الْقِنَّةِ فَكَيْفَ يَضْمَنُ عِنْدَهُمَا وَلَدَ أُمِّ وَلَدِهِ مَعَ # أَنَّهُ لَمْ يُعَلَّقْ شَيْءٌ مِنْهُ عَلَى مِلْكِ الشَّرِيكِ\n",
            "وَأَخْبَرَ صَلَّى اللهُ عَلَيْهِ وَسَلَّمَ أَنَّهُ لَا # نَبِيَّ بَعْدَهُ فَعُلِمَ بِذَلِكَ بُطْلَانُ كُلِّ مُدَّعٍ لِلنُّبُوَّةِ\n",
            "{'N', 'I', '!', 'e', 'a', '\\u200c', '8', 'L', '2', '\\uf02d', '±', ';', 's', '„', '?', '/', '\\uf020', ',', 'i', '|', '…', '\"', 'U', '[', '£', ')', '7', 'R', 'ـ', 'c', 'E', 't', '0', '»', '”', '=', 'ˆ', '3', '_', '4', 'G', '\\uf03a', 'y', '٤', '\\uf02e', 'l', 'f', '�', '،', '-', '؟', 'H', 'g', 'x', 'A', '٩', 'C', 'n', '\\u200d', '–', '؛', ':', '\\u200f', 'p', '*', '«', 'h', 'P', '~', 'ٹ', '>', 'o', '´', 'd', '1', '×', '.', 'Q', '§', '\\t', '†', '5', 'M', '(', ']', '·', 'T', '}', 'r'}\n",
            "1466576\n",
            "{'y', 'I', '[', ':', '!', '\\u200f', 'l', ')', '�', '*', 'e', 'a', '«', 'h', 'R', '\\u200c', '،', '6', 'ـ', 'P', '8', '9', '2', '-', '؟', '\\uf02d', 't', 'H', '>', 'g', 'x', ';', 's', '»', '1', '”', '.', '?', '…', '\\t', 'n', '=', '\\uf020', '/', '5', '3', '(', '4', ',', '_', 'G', '\\u200d', '“', 'i', '–', ']', '؛', 'T', 'r', '\"'}\n",
            "362798\n"
          ]
        }
      ],
      "source": [
        "# X, y = extract_data(\"train.txt\",)\n",
        "X_text, y_text = extract_data(\"train.txt\",)\n",
        "X_text_test, y_text_test = extract_data(\"test.txt\")"
      ]
    },
    {
      "cell_type": "code",
      "source": [
        "from collections import defaultdict\n",
        "\n",
        "def remove_dups(X, y, lbl =14):\n",
        "  meter_baits = []\n",
        "  other_baits = []\n",
        "  other_labels = []\n",
        "\n",
        "  print('remove dups for ', label2name[lbl])\n",
        "  assert len(X) == len(y)\n",
        "  for i, bait in enumerate(X):\n",
        "    label = y[i]\n",
        "    if label == lbl:\n",
        "      meter_baits.append(bait)\n",
        "    else:\n",
        "      other_baits.append(bait)\n",
        "      other_labels.append(label)\n",
        "  unique_baits = list(set(meter_baits))\n",
        "\n",
        "  print('before ', len(meter_baits))\n",
        "  print('after  ', len(unique_baits))\n",
        "  return other_baits+unique_baits, other_labels+ [lbl] * len(unique_baits)"
      ],
      "metadata": {
        "id": "cVDF8x1dSP-i"
      },
      "execution_count": null,
      "outputs": []
    },
    {
      "cell_type": "code",
      "source": [
        "for lbl in range(len(label2name)):\n",
        "  X_text, y_text = remove_dups(X_text, y_text,  lbl =lbl,)"
      ],
      "metadata": {
        "colab": {
          "base_uri": "https://localhost:8080/"
        },
        "id": "CZGRtbVWaonN",
        "outputId": "4fec9622-5036-46a1-d244-7a87284608fe"
      },
      "execution_count": null,
      "outputs": [
        {
          "output_type": "stream",
          "name": "stdout",
          "text": [
            "remove dups for  saree\n",
            "before  49670\n",
            "after   49487\n",
            "remove dups for  kamel\n",
            "before  311923\n",
            "after   308754\n",
            "remove dups for  mutakareb\n",
            "before  55838\n",
            "after   55166\n",
            "remove dups for  mutadarak\n",
            "before  10624\n",
            "after   10578\n",
            "remove dups for  munsareh\n",
            "before  23648\n",
            "after   23324\n",
            "remove dups for  madeed\n",
            "before  6155\n",
            "after   6154\n",
            "remove dups for  mujtath\n",
            "before  14942\n",
            "after   14863\n",
            "remove dups for  ramal\n",
            "before  66938\n",
            "after   66529\n",
            "remove dups for  baseet\n",
            "before  203503\n",
            "after   201368\n",
            "remove dups for  khafeef\n",
            "before  133738\n",
            "after   131744\n",
            "remove dups for  taweel\n",
            "before  341879\n",
            "after   336923\n",
            "remove dups for  wafer\n",
            "before  114834\n",
            "after   113315\n",
            "remove dups for  hazaj\n",
            "before  6593\n",
            "after   6531\n",
            "remove dups for  rajaz\n",
            "before  99578\n",
            "after   98056\n",
            "remove dups for  mudhare\n",
            "before  111\n",
            "after   111\n",
            "remove dups for  muqtadheb\n",
            "before  644\n",
            "after   644\n",
            "remove dups for  prose\n",
            "before  25958\n",
            "after   25624\n"
          ]
        }
      ]
    },
    {
      "cell_type": "code",
      "execution_count": null,
      "metadata": {
        "id": "6u2_i_WifZKB"
      },
      "outputs": [],
      "source": [
        "from collections import defaultdict\n",
        "\n",
        "def augment_meter(X, y, lbl =14, aug_size = 50_000, truncate = False):\n",
        "  meter_baits = []\n",
        "  other_baits = []\n",
        "  other_labels = []\n",
        "\n",
        "  print('augmenting ', label2name[lbl])\n",
        "  assert len(X) == len(y)\n",
        "\n",
        "  for i, bait in enumerate(X):\n",
        "    label = y[i]\n",
        "    if label == lbl:\n",
        "      meter_baits.append(bait)\n",
        "    else:\n",
        "      other_baits.append(bait)\n",
        "      other_labels.append(label)\n",
        "\n",
        "  meter_baits = shuffle(meter_baits, random_state = 41)\n",
        "  aug_meter_baits = meter_baits.copy()\n",
        "\n",
        "\n",
        "  cached_i_j = defaultdict(list)\n",
        "  dups = []\n",
        "  for i in range(0, len(meter_baits)):\n",
        "    for j in range(i+1, len(meter_baits)):\n",
        "\n",
        "      first_shatr = meter_baits[i].split('#')[1].strip()\n",
        "      second_shatr = meter_baits[j].split('#')[0].strip()\n",
        "      aug_bait = (' # ').join([first_shatr, second_shatr])\n",
        "      \n",
        "      if aug_bait in aug_meter_baits:\n",
        "        continue\n",
        "      aug_meter_baits.append(aug_bait)\n",
        "\n",
        "      if len(aug_meter_baits) > aug_size:\n",
        "        break\n",
        "    if len(aug_meter_baits) > aug_size:\n",
        "        break\n",
        "    \n",
        "  meter_labels = [lbl]*len(aug_meter_baits)\n",
        "  if truncate:\n",
        "    aug_meter_baits = aug_meter_baits[:aug_size]\n",
        "    meter_labels = meter_labels[:aug_size]\n",
        "    \n",
        "  return other_baits + aug_meter_baits, other_labels + meter_labels"
      ]
    },
    {
      "cell_type": "code",
      "execution_count": null,
      "metadata": {
        "id": "4B-Bpj-viNlg",
        "colab": {
          "base_uri": "https://localhost:8080/"
        },
        "outputId": "97858313-3635-4dec-83c9-4f88aadc3665"
      },
      "outputs": [
        {
          "output_type": "stream",
          "name": "stdout",
          "text": [
            "augmenting  saree\n",
            "augmenting  kamel\n",
            "augmenting  mutakareb\n",
            "augmenting  mutadarak\n",
            "augmenting  munsareh\n",
            "augmenting  madeed\n",
            "augmenting  mujtath\n",
            "augmenting  ramal\n",
            "augmenting  baseet\n",
            "augmenting  khafeef\n",
            "augmenting  taweel\n",
            "augmenting  wafer\n",
            "augmenting  hazaj\n",
            "augmenting  rajaz\n",
            "augmenting  mudhare\n",
            "augmenting  muqtadheb\n",
            "augmenting  prose\n"
          ]
        }
      ],
      "source": [
        "X_aug, y_aug = X_text, y_text\n",
        "\n",
        "for lbl in range(len(label2name)):\n",
        "  X_aug, y_aug = augment_meter(X_aug, y_aug,  lbl =lbl, truncate = True)"
      ]
    },
    {
      "cell_type": "code",
      "execution_count": null,
      "metadata": {
        "colab": {
          "base_uri": "https://localhost:8080/"
        },
        "id": "NvG12zlFi9ui",
        "outputId": "dc95ad9d-524b-42f1-8407-0bba10f7f0b1"
      },
      "outputs": [
        {
          "output_type": "execute_result",
          "data": {
            "text/plain": [
              "('جاءَت بِناءً عَلَى نَصِيحَةٍ رُوسِيَّةٍ # أَنْ يُكَفَّنَ فِي ثِيَابِ جُمُعَتِهِ',\n",
              " 16)"
            ]
          },
          "metadata": {},
          "execution_count": 19
        }
      ],
      "source": [
        "X_aug[-1], y_aug[-1]"
      ]
    },
    {
      "cell_type": "code",
      "source": [
        "import seaborn as sns\n",
        "sns.countplot(y_text_test,)"
      ],
      "metadata": {
        "colab": {
          "base_uri": "https://localhost:8080/",
          "height": 337
        },
        "id": "jECylIalmgF5",
        "outputId": "d58af7c5-be64-4287-e522-ab37d04d27f7"
      },
      "execution_count": null,
      "outputs": [
        {
          "output_type": "stream",
          "name": "stderr",
          "text": [
            "/usr/local/lib/python3.7/dist-packages/seaborn/_decorators.py:43: FutureWarning: Pass the following variable as a keyword arg: x. From version 0.12, the only valid positional argument will be `data`, and passing other arguments without an explicit keyword will result in an error or misinterpretation.\n",
            "  FutureWarning\n"
          ]
        },
        {
          "output_type": "execute_result",
          "data": {
            "text/plain": [
              "<matplotlib.axes._subplots.AxesSubplot at 0x7fe6efa5f790>"
            ]
          },
          "metadata": {},
          "execution_count": 20
        },
        {
          "output_type": "display_data",
          "data": {
            "text/plain": [
              "<Figure size 432x288 with 1 Axes>"
            ],
            "image/png": "[encoded data removed]"
          },
          "metadata": {
            "needs_background": "light"
          }
        }
      ]
    },
    {
      "cell_type": "code",
      "execution_count": null,
      "metadata": {
        "colab": {
          "base_uri": "https://localhost:8080/",
          "height": 337
        },
        "id": "Qh1Slg6RBhBT",
        "outputId": "5e14abaa-5930-475c-d241-14d8a0d5ee8c"
      },
      "outputs": [
        {
          "output_type": "stream",
          "name": "stderr",
          "text": [
            "/usr/local/lib/python3.7/dist-packages/seaborn/_decorators.py:43: FutureWarning: Pass the following variable as a keyword arg: x. From version 0.12, the only valid positional argument will be `data`, and passing other arguments without an explicit keyword will result in an error or misinterpretation.\n",
            "  FutureWarning\n"
          ]
        },
        {
          "output_type": "execute_result",
          "data": {
            "text/plain": [
              "<matplotlib.axes._subplots.AxesSubplot at 0x7fe6f1ceeb10>"
            ]
          },
          "metadata": {},
          "execution_count": 21
        },
        {
          "output_type": "display_data",
          "data": {
            "text/plain": [
              "<Figure size 432x288 with 1 Axes>"
            ],
            "image/png": "[encoded data removed]"
          },
          "metadata": {
            "needs_background": "light"
          }
        }
      ],
      "source": [
        "import seaborn as sns\n",
        "sns.countplot(y_aug, )"
      ]
    },
    {
      "cell_type": "code",
      "execution_count": null,
      "metadata": {
        "id": "azw3IJxcqon4"
      },
      "outputs": [],
      "source": [
        "char2idx = {u:i+1 for i, u in enumerate(vocab)}"
      ]
    },
    {
      "cell_type": "code",
      "execution_count": null,
      "metadata": {
        "id": "cT6jvdXBk2c8"
      },
      "outputs": [],
      "source": [
        "import random \n",
        "\n",
        "class DataGenerator(tf.keras.utils.Sequence):\n",
        "    'Generates data for Keras'\n",
        "    def __init__(self, data, labels, batch_size=256, shuffle=True, augment = True):\n",
        "        'Initialization'\n",
        "        self.batch_size = batch_size\n",
        "        self.labels = labels\n",
        "        self.data = data\n",
        "        self.shuffle = shuffle\n",
        "        self.tashkeel = list('ًٌٍَُِّ') +['ْ']+['ٓ']\n",
        "        self.augment = augment\n",
        "        self.on_epoch_end()\n",
        "\n",
        "    def __len__(self):\n",
        "        'Denotes the number of batches per epoch'\n",
        "        return int(np.floor(len(self.data) / self.batch_size))\n",
        "\n",
        "    def __getitem__(self, index):\n",
        "        'Generate one batch of data'\n",
        "        # Generate indexes of the batch\n",
        "        indices = self.indexes[index*self.batch_size:(index+1)*self.batch_size]\n",
        "\n",
        "        # Generate data\n",
        "        X, y = self.__data_generation(indices)\n",
        "\n",
        "        return X, y\n",
        "\n",
        "    def on_epoch_end(self):\n",
        "        'Updates indexes after each epoch'\n",
        "        self.indexes = np.arange(len(self.data))\n",
        "        if self.shuffle == True:\n",
        "            np.random.shuffle(self.indexes)\n",
        "\n",
        "    def _random_strip_tashkeel(self, text):\n",
        "      out_text = \"\"\n",
        "      for char in text:\n",
        "        if char in self.tashkeel:\n",
        "          if random.random() > 0.5:\n",
        "            out_text += char\n",
        "        else:\n",
        "          out_text += char\n",
        "      return out_text\n",
        "\n",
        "    def _augment(self, text):\n",
        "        if random.random() > 0.5:\n",
        "          text = self._random_strip_tashkeel(text)\n",
        "\n",
        "        if random.random() > 0.5:\n",
        "          text = (' # ').join(text.split(' # ')[::-1])\n",
        "        return text \n",
        "\n",
        "    def _preprocess_item(self, text):\n",
        "        if self.augment:\n",
        "          text = self._augment(text)\n",
        "\n",
        "        x = [[char2idx[char] for char in text]]\n",
        "        x = pad_sequences(x, padding='post', value=0, maxlen = 128)\n",
        "        return x\n",
        "      \n",
        "    def __data_generation(self, indices):\n",
        "        'Generates data containing batch_size samples' \n",
        "\n",
        "        # Initialization\n",
        "        X = np.empty((self.batch_size, 128))\n",
        "        y = np.empty((self.batch_size), dtype=int)\n",
        "\n",
        "        # Generate data\n",
        "        for i, index in enumerate(indices):\n",
        "            X[i,] = self._preprocess_item(self.data[index])\n",
        "            y[i] = self.labels[index]\n",
        "\n",
        "        return X, y"
      ]
    },
    {
      "cell_type": "code",
      "execution_count": null,
      "metadata": {
        "id": "ROef8aerf8ar"
      },
      "outputs": [],
      "source": [
        "X_train, X_valid , y_train, y_valid = train_test_split(X_aug, y_aug, test_size = 0.15, random_state = 41)"
      ]
    },
    {
      "cell_type": "code",
      "execution_count": null,
      "metadata": {
        "id": "3K7U7VL5nOZp"
      },
      "outputs": [],
      "source": [
        "train_generator = DataGenerator(X_train, y_train)\n",
        "valid_generator = DataGenerator(X_valid, y_valid, augment = False, shuffle=False)"
      ]
    },
    {
      "cell_type": "markdown",
      "metadata": {
        "id": "5uHdRK4cCrGJ"
      },
      "source": [
        "## Create the model"
      ]
    },
    {
      "cell_type": "code",
      "execution_count": null,
      "metadata": {
        "id": "p3u3OxEcBfJ2"
      },
      "outputs": [],
      "source": [
        "def create_model():\n",
        "  model = Sequential()\n",
        "  model.add(Input((128,)))\n",
        "  model.add(Embedding(len(char2idx)+1, 256))\n",
        "  model.add(Bidirectional(GRU(units = 256, return_sequences=True)))\n",
        "  model.add(Bidirectional(GRU(units = 256, return_sequences=True)))\n",
        "  model.add(Bidirectional(GRU(units = 256, return_sequences=True)))\n",
        "  model.add(Bidirectional(GRU(units = 256, return_sequences=True)))\n",
        "  model.add(Bidirectional(GRU(units = 256)))\n",
        "  model.add(Dense(128, activation = 'relu'))\n",
        "  model.add(Dropout(0.3))\n",
        "  model.add(Dense(len(label2name), activation = 'softmax'))\n",
        "  model.compile(optimizer = 'adam', loss = 'sparse_categorical_crossentropy', metrics = ['accuracy'])\n",
        "  return model\n",
        "\n",
        "def create_model_v1():\n",
        "  model = Sequential()\n",
        "  model.add(Input((128,)))\n",
        "  model.add(Embedding(len(char2idx)+1, 32))\n",
        "  model.add(Bidirectional(GRU(units = 64, return_sequences=True)))\n",
        "  model.add(Bidirectional(GRU(units = 64, return_sequences=True)))\n",
        "  model.add(Bidirectional(GRU(units = 64, return_sequences=True)))\n",
        "  model.add(Bidirectional(GRU(units = 64)))\n",
        "  model.add(Dense(len(label2name), activation = 'softmax'))\n",
        "  model.compile(optimizer = 'adam', loss = 'sparse_categorical_crossentropy', metrics = ['accuracy'])\n",
        "  return model\n",
        "\n",
        "import tensorflow as tf\n",
        "from tensorflow import keras\n",
        "from tensorflow.keras import layers\n",
        "\n",
        "class TransformerBlock(layers.Layer):\n",
        "    def __init__(self, embed_dim, num_heads, ff_dim, rate=0.1):\n",
        "        super(TransformerBlock, self).__init__()\n",
        "        self.att = layers.MultiHeadAttention(num_heads=num_heads, key_dim=embed_dim)\n",
        "        # self.ffn = keras.Sequential(\n",
        "        #     [layers.Dense(ff_dim, activation=\"relu\"), layers.Dense(embed_dim),]\n",
        "        # )\n",
        "        self.ffn = keras.Sequential(\n",
        "            [layers.Bidirectional(GRU(units = ff_dim, return_sequences=True)),\n",
        "             layers.Bidirectional(GRU(units = ff_dim, return_sequences=True)),\n",
        "             layers.Bidirectional(GRU(units = ff_dim, return_sequences=True)),\n",
        "             layers.Dense(embed_dim)]\n",
        "        )\n",
        "        self.layernorm1 = layers.LayerNormalization(epsilon=1e-6)\n",
        "        self.layernorm2 = layers.LayerNormalization(epsilon=1e-6)\n",
        "        self.dropout1 = layers.Dropout(rate)\n",
        "        self.dropout2 = layers.Dropout(rate)\n",
        "\n",
        "    def call(self, inputs, training):\n",
        "        attn_output = self.att(inputs, inputs)\n",
        "        attn_output = self.dropout1(attn_output, training=training)\n",
        "        out1 = self.layernorm1(inputs + attn_output)\n",
        "        # print(out1.shape)\n",
        "        ffn_output = self.ffn(out1)\n",
        "        ffn_output = self.dropout2(ffn_output, training=training)\n",
        "        return self.layernorm2(out1 + ffn_output)\n",
        "\n",
        "class TokenAndPositionEmbedding(layers.Layer):\n",
        "    def __init__(self, maxlen, vocab_size, embed_dim):\n",
        "        super(TokenAndPositionEmbedding, self).__init__()\n",
        "        self.token_emb = layers.Embedding(input_dim=vocab_size, output_dim=embed_dim)\n",
        "        self.pos_emb = layers.Embedding(input_dim=maxlen, output_dim=embed_dim)\n",
        "\n",
        "    def call(self, x):\n",
        "        maxlen = tf.shape(x)[-1]\n",
        "        positions = tf.range(start=0, limit=maxlen, delta=1)\n",
        "        positions = self.pos_emb(positions)\n",
        "        x = self.token_emb(x)\n",
        "        # return x + positions\n",
        "        return x\n",
        "\n",
        "def create_transformer_model():\n",
        "  embed_dim = 64  # Embedding size for each token\n",
        "  num_heads = 3  # Number of attention heads\n",
        "  ff_dim = 64  # Hidden layer size in feed forward network inside transformer\n",
        "  maxlen = 128 \n",
        "  vocab_size = len(char2idx)+1\n",
        "  inputs = layers.Input(shape=(maxlen,))\n",
        "  embedding_layer = TokenAndPositionEmbedding(maxlen, vocab_size, embed_dim)\n",
        "  x = embedding_layer(inputs)\n",
        "  transformer_block = TransformerBlock(embed_dim, num_heads, ff_dim)\n",
        "  x = transformer_block(x)\n",
        "  x = layers.Flatten()(x)\n",
        "  # x = layers.Dropout(0.1)(x)\n",
        "  x = layers.Dense(128, activation=\"relu\")(x)\n",
        "  # x = layers.Dropout(0.1)(x)\n",
        "  outputs = layers.Dense(len(label2name), activation=\"softmax\")(x)\n",
        "\n",
        "  model = keras.Model(inputs=inputs, outputs=outputs)\n",
        "  model.compile(optimizer = 'adam', loss = 'sparse_categorical_crossentropy', metrics = ['accuracy'])\n",
        "  return model"
      ]
    },
    {
      "cell_type": "markdown",
      "metadata": {
        "id": "5-7U36aDCtQu"
      },
      "source": [
        "## Train the model"
      ]
    },
    {
      "cell_type": "code",
      "execution_count": null,
      "metadata": {
        "id": "nEHRYgLhkozM"
      },
      "outputs": [],
      "source": [
        "# checkpoint_path = \"drive/MyDrive/Barmajan/Models/ashaar_model_vocab_changed_diacritized_fixed3_smaller_model_bs512/cp.ckpt\"\n",
        "# the best model name till now is: ashaar_model_vocab_changed_diacritized_fixed3_smaller_model_bs512_50ktrain although it was run on 256 batch size not 512\n",
        "checkpoint_path = \"drive/MyDrive/Research/Barmajan/Models/ashaar_model_vocab_changed_diacritized_fixed4_transformer_bs256_50k_with_prose_augment_balanced_dedup/cp.ckpt\"\n",
        "checkpoint_dir = os.path.dirname(checkpoint_path)\n",
        "\n",
        "callbacks = [tf.keras.callbacks.ReduceLROnPlateau(monitor='val_loss', factor=0.1, patience=2, min_delta=0.0001, min_lr=0.0001)]\n",
        "callbacks = [tf.keras.callbacks.ModelCheckpoint(checkpoint_path,\n",
        "                                                 monitor='val_loss',\n",
        "                                                 verbose=1,\n",
        "                                                 save_weights_only=True,\n",
        "                                                 save_best_only= True,\n",
        "                                                 mode='min')]"
      ]
    },
    {
      "cell_type": "code",
      "execution_count": null,
      "metadata": {
        "id": "9Elg8Vdd9tLj"
      },
      "outputs": [],
      "source": [
        "# model = create_model_v1()\n",
        "model = create_transformer_model()"
      ]
    },
    {
      "cell_type": "code",
      "source": [
        "model.summary()"
      ],
      "metadata": {
        "id": "X2qwO_GANKrH"
      },
      "execution_count": null,
      "outputs": []
    },
    {
      "cell_type": "code",
      "execution_count": null,
      "metadata": {
        "id": "52Ew-5ZyC3Nf"
      },
      "outputs": [],
      "source": [
        "model.fit(train_generator, validation_data = valid_generator ,epochs = 15, callbacks=callbacks)"
      ]
    },
    {
      "cell_type": "code",
      "execution_count": null,
      "metadata": {
        "id": "3Mpgd5ux06HQ"
      },
      "outputs": [],
      "source": [
        "def create_test_data(X, y):\n",
        "  X_test = []\n",
        "  y_test = []\n",
        "\n",
        "  for text in X:\n",
        "    x = [[char2idx[char] for char in text]]\n",
        "    x = pad_sequences(x, padding='post', value=0, maxlen = 128)\n",
        "    X_test.append(x[0])\n",
        "  \n",
        "  return np.array(X_test), np.array(y) "
      ]
    },
    {
      "cell_type": "code",
      "execution_count": null,
      "metadata": {
        "id": "Ntr28SXD1LBr"
      },
      "outputs": [],
      "source": [
        "X_test, y_test = create_test_data(X_text_test, y_text_test)"
      ]
    },
    {
      "cell_type": "code",
      "execution_count": null,
      "metadata": {
        "colab": {
          "base_uri": "https://localhost:8080/"
        },
        "id": "gRYJoGMd1q1V",
        "outputId": "1cc0b320-8280-463f-c108-fd065cafd0c4"
      },
      "outputs": [
        {
          "output_type": "stream",
          "name": "stdout",
          "text": [
            "1418/1418 [==============================] - 58s 39ms/step - loss: 0.2228 - accuracy: 0.9551\n"
          ]
        },
        {
          "output_type": "execute_result",
          "data": {
            "text/plain": [
              "[0.2228369414806366, 0.9550934433937073]"
            ]
          },
          "metadata": {},
          "execution_count": 32
        }
      ],
      "source": [
        "model = create_transformer_model()\n",
        "model.load_weights(checkpoint_path)\n",
        "model.evaluate(X_test, y_test, batch_size = 256)"
      ]
    },
    {
      "cell_type": "markdown",
      "metadata": {
        "id": "jwZQrxhdDV4r"
      },
      "source": [
        "## Tests"
      ]
    },
    {
      "cell_type": "code",
      "execution_count": null,
      "metadata": {
        "id": "FraLoOkf5ePG"
      },
      "outputs": [],
      "source": [
        "y_pred = model.predict(X_test, batch_size = 256)"
      ]
    },
    {
      "cell_type": "code",
      "execution_count": null,
      "metadata": {
        "colab": {
          "base_uri": "https://localhost:8080/",
          "height": 476
        },
        "id": "e6-M7mmi5XuP",
        "outputId": "b4947ce5-618f-4688-e868-73378863840d"
      },
      "outputs": [
        {
          "output_type": "display_data",
          "data": {
            "text/plain": [
              "<Figure size 720x504 with 2 Axes>"
            ],
            "image/png": "[encoded data removed]"
          },
          "metadata": {
            "needs_background": "light"
          }
        }
      ],
      "source": [
        "import seaborn as sn\n",
        "import pandas as pd\n",
        "import matplotlib.pyplot as plt\n",
        "from sklearn.metrics import confusion_matrix\n",
        "\n",
        "cm = confusion_matrix(y_test, y_pred.argmax(-1))\n",
        "cmn = cm.astype('float') / cm.sum(axis=1)[:, np.newaxis]\n",
        "df_cm = pd.DataFrame(cmn, label2name, label2name)\n",
        "plt.figure(figsize=(10,7))\n",
        "sn.heatmap(df_cm, annot=True, annot_kws={\"size\": 10}, fmt='.2f') # font size\n",
        "\n",
        "plt.show()"
      ]
    },
    {
      "cell_type": "code",
      "execution_count": null,
      "metadata": {
        "colab": {
          "base_uri": "https://localhost:8080/"
        },
        "id": "bUH27ppBtx8u",
        "outputId": "6ed68db3-343c-469b-f2b1-0791ffe63677"
      },
      "outputs": [
        {
          "output_type": "stream",
          "name": "stdout",
          "text": [
            "انا المنادي بذل # وانت عني غني\n",
            "[ 6 13  7  2  4]\n",
            "فلم يجبني بعيد # وليس في القرب موئل\n",
            "[ 6 13  9  4  8]\n",
            "صلاة الورى عليه # وصلاة من هداكا\n",
            "[ 7  5  9  0 16]\n",
            "لكم فؤادي دواماً # وإنما الروح أنتمْ\n",
            "[ 6  9 14  7 13]\n",
            "بنيت في البال قصرا # وقلت من سوف ينزل\n",
            "[ 6  7  4  8 13]\n",
            "فكلنا سوف يبلى # وأنت وحدك حي\n",
            "[ 6 12 14  7 13]\n"
          ]
        },
        {
          "output_type": "execute_result",
          "data": {
            "text/plain": [
              "0.7857142857142857"
            ]
          },
          "metadata": {},
          "execution_count": 35
        }
      ],
      "source": [
        "accuracy_for_mudhare = 0\n",
        "mudhare_baits = []\n",
        "for i, lbl in enumerate(y_text_test):\n",
        "  if lbl == 14:\n",
        "    text = X_text_test[i]\n",
        "    mudhare_baits.append(text)\n",
        "    x = [[char2idx[char] for char in text]]\n",
        "    x = pad_sequences(x, padding='post', value=0, maxlen = 128)\n",
        "    logits = model.predict(x)[0]\n",
        "    top_k_lbls = (-logits).argsort()[:5]\n",
        "    # print(text)\n",
        "    # for pred_lbl in top_k_lbls:\n",
        "    #   print(label2name[pred_lbl])\n",
        "    if top_k_lbls[0] != 14:\n",
        "      print(text)\n",
        "      print(top_k_lbls)\n",
        "    else:\n",
        "      accuracy_for_mudhare += 1\n",
        "\n",
        "\n",
        "accuracy_for_mudhare / len(mudhare_baits)\n",
        "        "
      ]
    },
    {
      "cell_type": "code",
      "execution_count": null,
      "metadata": {
        "id": "NUKsbkik6ixp",
        "colab": {
          "base_uri": "https://localhost:8080/"
        },
        "outputId": "112ca871-3390-4efc-a210-b9465c1b4c6b"
      },
      "outputs": [
        {
          "output_type": "stream",
          "name": "stdout",
          "text": [
            "--2022-05-19 03:29:11--  https://raw.githubusercontent.com/zaidalyafeai/Arabic-Poetry/master/final_baits.zip\n",
            "Resolving raw.githubusercontent.com (raw.githubusercontent.com)... 185.199.108.133, 185.199.109.133, 185.199.110.133, ...\n",
            "Connecting to raw.githubusercontent.com (raw.githubusercontent.com)|185.199.108.133|:443... connected.\n",
            "HTTP request sent, awaiting response... 200 OK\n",
            "Length: 2267882 (2.2M) [application/zip]\n",
            "Saving to: ‘final_baits.zip’\n",
            "\n",
            "final_baits.zip     100%[===================>]   2.16M  --.-KB/s    in 0.04s   \n",
            "\n",
            "2022-05-19 03:29:12 (57.1 MB/s) - ‘final_baits.zip’ saved [2267882/2267882]\n",
            "\n",
            "Archive:  final_baits.zip\n",
            "   creating: final_baits/\n",
            "  inflating: final_baits/train.txt   \n",
            "  inflating: final_baits/labels.txt  \n",
            "  inflating: final_baits/test.txt    \n"
          ]
        }
      ],
      "source": [
        "!wget 'https://raw.githubusercontent.com/zaidalyafeai/Arabic-Poetry/master/final_baits.zip'\n",
        "!unzip final_baits.zip"
      ]
    },
    {
      "cell_type": "code",
      "execution_count": null,
      "metadata": {
        "colab": {
          "base_uri": "https://localhost:8080/"
        },
        "id": "GWYhfomg59_2",
        "outputId": "95c47b54-7b6a-41c4-c423-fb77aa5e6073"
      },
      "outputs": [
        {
          "output_type": "stream",
          "name": "stdout",
          "text": [
            "{'(', '،', 'ـ', ':', '\\u200f', '!', '؟', ')'}\n",
            "8316\n"
          ]
        }
      ],
      "source": [
        "metrec_x_test, metrec_y_test = extract_data('final_baits/test.txt')\n",
        "\n",
        "metrec_x = []\n",
        "\n",
        "for text in metrec_x_test:\n",
        "  x = [[char2idx[char] for char in text]]\n",
        "  x = pad_sequences(x, padding='post', value=0, maxlen = 128)\n",
        "  metrec_x.append(x[0])\n",
        "metrec_x, metrec_y = np.array(metrec_x), np.array(metrec_y_test)"
      ]
    },
    {
      "cell_type": "code",
      "execution_count": null,
      "metadata": {
        "colab": {
          "base_uri": "https://localhost:8080/"
        },
        "id": "f1WWMtBW60zu",
        "outputId": "a1375e54-79ce-4fb3-bd6e-36b829de41fd"
      },
      "outputs": [
        {
          "output_type": "stream",
          "name": "stdout",
          "text": [
            "33/33 [==============================] - 1s 39ms/step - loss: 0.1553 - accuracy: 0.9701\n"
          ]
        },
        {
          "output_type": "execute_result",
          "data": {
            "text/plain": [
              "[0.15531587600708008, 0.9700577259063721]"
            ]
          },
          "metadata": {},
          "execution_count": 38
        }
      ],
      "source": [
        "model.evaluate(metrec_x, metrec_y, batch_size = 256)"
      ]
    },
    {
      "cell_type": "code",
      "execution_count": null,
      "metadata": {
        "id": "BJaEn-oJ9-1b"
      },
      "outputs": [],
      "source": [
        "metrec_y_pred = model.predict(metrec_x, batch_size = 256)"
      ]
    },
    {
      "cell_type": "code",
      "execution_count": null,
      "metadata": {
        "colab": {
          "base_uri": "https://localhost:8080/",
          "height": 525
        },
        "id": "UcLdHaok977m",
        "outputId": "ec377d08-e3f2-4e14-db05-4e3972ecf3cf"
      },
      "outputs": [
        {
          "output_type": "stream",
          "name": "stderr",
          "text": [
            "/usr/local/lib/python3.7/dist-packages/ipykernel_launcher.py:7: RuntimeWarning: invalid value encountered in true_divide\n",
            "  import sys\n"
          ]
        },
        {
          "output_type": "stream",
          "name": "stdout",
          "text": [
            "16\n"
          ]
        },
        {
          "output_type": "display_data",
          "data": {
            "text/plain": [
              "<Figure size 720x504 with 2 Axes>"
            ],
            "image/png": "[encoded data removed]"
          },
          "metadata": {
            "needs_background": "light"
          }
        }
      ],
      "source": [
        "import seaborn as sn\n",
        "import pandas as pd\n",
        "import matplotlib.pyplot as plt\n",
        "from sklearn.metrics import confusion_matrix\n",
        "\n",
        "cm = confusion_matrix(metrec_y_test, metrec_y_pred.argmax(-1))\n",
        "cmn = cm.astype('float') / cm.sum(axis=1)[:, np.newaxis]\n",
        "print(metrec_y_pred.argmax(-1).max())\n",
        "df_cm = pd.DataFrame(cmn, label2name[:cm.shape[0]], label2name[:cm.shape[0]])\n",
        "plt.figure(figsize=(10,7))\n",
        "sn.heatmap(df_cm, annot=True, annot_kws={\"size\": 10}, fmt='.2f') # font size\n",
        "\n",
        "plt.show()"
      ]
    },
    {
      "cell_type": "code",
      "execution_count": null,
      "metadata": {
        "id": "5RWYrVJc8woB"
      },
      "outputs": [],
      "source": [
        ""
      ]
    }
  ],
  "metadata": {
    "accelerator": "GPU",
    "colab": {
      "collapsed_sections": [],
      "machine_shape": "hm",
      "name": "meter.ipynb",
      "provenance": []
    },
    "kernelspec": {
      "display_name": "Python 3",
      "name": "python3"
    }
  },
  "nbformat": 4,
  "nbformat_minor": 0
}