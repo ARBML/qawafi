{
  "cells": [
    {
      "cell_type": "code",
      "execution_count": 1,
      "metadata": {
        "id": "kvOJw5Bg6c5J",
        "colab": {
          "base_uri": "https://localhost:8080/",
          "height": 139
        },
        "outputId": "18c0f129-12c0-4e98-d1a7-d3eb8f00486b"
      },
      "outputs": [
        {
          "output_type": "stream",
          "name": "stdout",
          "text": [
            "Exporting the pretrained models ... \n"
          ]
        },
        {
          "output_type": "stream",
          "name": "stderr",
          "text": [
            "Cached Downloading: meters_dataset.zip\n",
            "Downloading...\n",
            "From: https://drive.google.com/uc?id=11iIHChBR7sVcUfGMnxfEAjbe7sSjzx5M\n",
            "To: /root/.cache/gdown/tmpux6zqtnw/dl\n",
            "100%|██████████| 108M/108M [00:03<00:00, 34.3MB/s] \n"
          ]
        },
        {
          "output_type": "execute_result",
          "data": {
            "text/plain": [
              "'meters_dataset.zip'"
            ],
            "application/vnd.google.colaboratory.intrinsic+json": {
              "type": "string"
            }
          },
          "metadata": {},
          "execution_count": 1
        }
      ],
      "source": [
        "import gdown \n",
        "print(\"Exporting the pretrained models ... \")\n",
        "url = 'https://drive.google.com/uc?id=11iIHChBR7sVcUfGMnxfEAjbe7sSjzx5M' \n",
        "gdown.cached_download(url,'meters_dataset.zip', quiet=False, postprocess=gdown.extractall)"
      ]
    },
    {
      "cell_type": "markdown",
      "metadata": {
        "id": "ZwlvjSR-DS15"
      },
      "source": [
        "## Imports"
      ]
    },
    {
      "cell_type": "code",
      "execution_count": 2,
      "metadata": {
        "id": "23FSFg5t6fc1"
      },
      "outputs": [],
      "source": [
        "import tensorflow as tf\n",
        "import numpy as np\n",
        "import os\n",
        "import time\n",
        "import glob\n",
        "from tensorflow.keras.layers import GRU, Embedding, Dense, Input, Dropout, Bidirectional, BatchNormalization, Flatten, Reshape\n",
        "from tensorflow.keras.models import Sequential\n",
        "from keras.preprocessing.text import Tokenizer, text_to_word_sequence\n",
        "from keras.preprocessing.sequence import pad_sequences\n",
        "from sklearn.utils import shuffle\n",
        "from sklearn.metrics import confusion_matrix\n",
        "from sklearn.model_selection import train_test_split\n",
        "import matplotlib.pyplot as plt"
      ]
    },
    {
      "cell_type": "code",
      "execution_count": 3,
      "metadata": {
        "id": "ZZEFvXv2SqUg"
      },
      "outputs": [],
      "source": [
        "with open('labels.txt', 'r') as f:\n",
        "  label2name = f.readlines()\n",
        "  label2name = [name.replace('\\n', '') for name in label2name]"
      ]
    },
    {
      "cell_type": "markdown",
      "metadata": {
        "id": "bfbnvdT4Cmz0"
      },
      "source": [
        "## Read the Dataset"
      ]
    },
    {
      "cell_type": "code",
      "execution_count": 4,
      "metadata": {
        "id": "eJkhlwizM4gX"
      },
      "outputs": [],
      "source": [
        "import random\n",
        "random.seed(400)"
      ]
    },
    {
      "cell_type": "markdown",
      "metadata": {
        "id": "MKhqB_MfCjEP"
      },
      "source": [
        "preprocess a review by removing special characters and long spaces"
      ]
    },
    {
      "cell_type": "code",
      "execution_count": 5,
      "metadata": {
        "id": "4Y2WG66L273k"
      },
      "outputs": [],
      "source": [
        "vocab = list('إةابتثجحخدذرزسشصضطظعغفقكلمنهويىأءئؤ#آ ')\n",
        "vocab += list('ًٌٍَُِّ') +['ْ']+['ٓ']"
      ]
    },
    {
      "cell_type": "code",
      "execution_count": 6,
      "metadata": {
        "id": "T7MjMLLn6gtK"
      },
      "outputs": [],
      "source": [
        "# Read, then decode for py2 compat.\n",
        "def extract_data(path, thresh = 128, on_shatrs = False, set_max = -1):\n",
        "  global vocab\n",
        "\n",
        "  char_mapper = {\n",
        "      'ک':'ك',\n",
        "      'ﺑ':'ب',\n",
        "      'ھ':'ه',\n",
        "      'ی':'ى'\n",
        "  }\n",
        "  text = \"\"\n",
        "  \n",
        "  X = []\n",
        "  y = []\n",
        "    \n",
        "  t = open(path, 'r').read()\n",
        "  \n",
        "  # remove some exteranous chars \n",
        "  # execluded = '!()*-ـ.:=o[]«»;؛,،~?؟\\u200f\\ufeffـ'\n",
        "  out = \"\"\n",
        "  \n",
        "  baits = t.split('\\n')\n",
        "  ex_chars = []\n",
        "\n",
        "  for i, line in enumerate(baits):\n",
        "    if i > set_max and set_max != -1:\n",
        "      break\n",
        "    if len(line) <= 1:\n",
        "      continue\n",
        "    label, bait = line.split(' ', 1)\n",
        "    cleaned_bait = \"\"\n",
        "    \n",
        "    for char in bait:\n",
        "      if char in vocab:\n",
        "        cleaned_bait += char\n",
        "      elif char in char_mapper:\n",
        "        cleaned_bait += char_mapper[char]\n",
        "      else:\n",
        "        ex_chars.append(char)\n",
        "    label = int(label)\n",
        "    cleaned_bait  = cleaned_bait.strip()\n",
        "    # if len(cleaned_bait) == 1:\n",
        "    #   print(cleaned_bait, label,line)\n",
        "    if len(cleaned_bait) > thresh:\n",
        "      print(cleaned_bait)\n",
        "      continue\n",
        "    if on_shatrs:\n",
        "      shatrs = cleaned_bait.split('#')\n",
        "      for shatr in shatrs:\n",
        "        X.append(shatr.strip())\n",
        "        y.append(label)\n",
        "    else:\n",
        "        X.append(cleaned_bait.strip())\n",
        "        y.append(label)\n",
        "  \n",
        "  #shuffle the data\n",
        "  print(set(ex_chars))\n",
        "  print(len(X)) \n",
        "  X, y = shuffle(X, y, random_state = 41)\n",
        "  return X, y"
      ]
    },
    {
      "cell_type": "code",
      "execution_count": 7,
      "metadata": {
        "colab": {
          "base_uri": "https://localhost:8080/"
        },
        "id": "LWwTc-z2fv69",
        "outputId": "d35fe0fe-2b6a-40ca-88c2-befb92b85573"
      },
      "outputs": [
        {
          "output_type": "stream",
          "name": "stdout",
          "text": [
            "قَوْلُهُ قِنًّا كُلُّهُ خَرَجَ الْمُبَعَّضُ فَهَلْ الْمُرَادُ أَنَّ # لَهُ جَمِيعَ الْمَهْرِ أَوْ أَنَّ لَهُ بِقِسْطِهِ رَاجِعْهُ\n",
            "أَمَّا إذَا أَكَلَ مِنْهُ وَلَمْ يَقْتُلْهُ أَوْ قَتَلَهُ # ثُمَّ انْصَرَفَ وَعَادَ إلَيْهِ فَأَكَلَ مِنْهُ فَإِنَّهُ لَا يَضُرُّ\n",
            "وَمُطْلَقُ مَسِّ ذَكَرِهِ الْمُتَّصِلِ وَلَوْ خُنْثَى مُشْكِلًا بِبَطْنٍ # أَوْ جَنْبٍ لِكَفٍّ أَوْ إصْبَعٍ وَإِنْ زَائِدًا حَسَّ\n",
            "وَقَالَ ابْنُ سَعْدٍ رَوَى عَنْ أُبَيِّ بْنِ كَعْبٍ # وَعُثْمَانَ وَعَلِيٍّ وَكَانَ ثِقَةً لَهُ فَضْلٌ وَوَرَعٌ وَعَقْلٌ وَأَدَبٌ\n",
            "الْمُصَنِّفِ لَوْ قَالَ لَهُ عَلَيَّ أَلْفٌ مِنْ ثَمَنِ مَبِيعٍ # لَمْ أَقْبِضْهُ وَقَالَ الْمُقَرُّ لَهُ بَلْ دَيْنٌ فِي ذِمَّتِك\n",
            "هذي حياتي وهذا الشوقُ يُجْبِرُني  على التّغُزّلِ في آلاءِ فاتنتي # ما كلّ حُسْن بهذا الكون يَذبَحُني أوْ كُلّ رامِيَةٍ بالعين راميتي\n",
            "وَإِنْ يَقُلْ وَاَللَّهِ لَا أُكَلِّمُ يَزِيدَ أَوْ عَلَيْهِ # لَا أُسَلِّمُ فَإِنْ عَلَى قَوْمٍ يُسَلِّمْ وَلَوْ مِنْ الصَّلَاةِ\n",
            "إلَخْ أَيْ وَيَجُوزُ لَهُ الدَّفْعُ بِلَا بَيِّنَةٍ لَكِنْ # يُشْتَرَطُ فِي دَفْعِ الْعَيْنِ غَلَبَةُ ظَنِّهِ بِأَنَّهُ وَكَّلَهُ\n",
            "الْقِنَّةِ فَكَيْفَ يَضْمَنُ عِنْدَهُمَا وَلَدَ أُمِّ وَلَدِهِ مَعَ # أَنَّهُ لَمْ يُعَلَّقْ شَيْءٌ مِنْهُ عَلَى مِلْكِ الشَّرِيكِ\n",
            "وَأَخْبَرَ صَلَّى اللهُ عَلَيْهِ وَسَلَّمَ أَنَّهُ لَا # نَبِيَّ بَعْدَهُ فَعُلِمَ بِذَلِكَ بُطْلَانُ كُلِّ مُدَّعٍ لِلنُّبُوَّةِ\n",
            "{'\\u200c', ')', '\\uf02d', '£', 'Q', 'C', '*', ',', 'e', '،', '…', 'l', '»', '!', '7', 't', '\\uf020', '8', 'g', '=', '(', '?', 'T', '×', '·', '«', '/', 'E', '„', 'I', '\"', 'i', '4', '†', '1', 'y', '|', '-', '”', '.', '\\u200f', 'h', 'd', '2', '´', 'p', ']', 'c', '–', 's', '؛', '_', 'G', '>', 'n', 'ـ', '�', '؟', ':', 'M', ';', 'L', '\\t', 'P', 'a', 'ٹ', 'A', '٤', 'f', '٩', '}', 'x', '\\u200d', 'R', 'H', '\\uf03a', '~', 'r', '[', 'ˆ', 'N', '0', '§', '5', '±', 'o', '\\uf02e', 'U', '3'}\n",
            "1466576\n",
            "{'\\u200c', ')', 'R', 'H', '\\uf02d', '9', ']', '–', 's', '\"', 'I', '*', '؛', 'i', 'r', '[', ',', '_', '>', 'n', 'G', 'ـ', 'e', '،', '�', ':', '؟', '4', 'l', ';', '…', '“', '1', '»', '!', '\\t', 'y', 'P', 'a', 't', '\\uf020', '8', 'g', '5', '=', '6', '-', '/', '”', '.', '(', '\\u200f', '3', 'h', '?', 'T', '«', '2', 'x', '\\u200d'}\n",
            "362798\n"
          ]
        }
      ],
      "source": [
        "# X, y = extract_data(\"train.txt\",)\n",
        "X_text, y_text = extract_data(\"train.txt\",)\n",
        "X_text_test, y_text_test = extract_data(\"test.txt\")"
      ]
    },
    {
      "cell_type": "code",
      "execution_count": 8,
      "metadata": {
        "id": "cVDF8x1dSP-i"
      },
      "outputs": [],
      "source": [
        "from collections import defaultdict\n",
        "\n",
        "def remove_dups(X, y, lbl =14):\n",
        "  meter_baits = []\n",
        "  other_baits = []\n",
        "  other_labels = []\n",
        "\n",
        "  print('remove dups for ', label2name[lbl])\n",
        "  assert len(X) == len(y)\n",
        "  for i, bait in enumerate(X):\n",
        "    label = y[i]\n",
        "    if label == lbl:\n",
        "      meter_baits.append(bait)\n",
        "    else:\n",
        "      other_baits.append(bait)\n",
        "      other_labels.append(label)\n",
        "  unique_baits = list(set(meter_baits))\n",
        "\n",
        "  print('before ', len(meter_baits))\n",
        "  print('after  ', len(unique_baits))\n",
        "  return other_baits+unique_baits, other_labels+ [lbl] * len(unique_baits)"
      ]
    },
    {
      "cell_type": "code",
      "execution_count": 9,
      "metadata": {
        "colab": {
          "base_uri": "https://localhost:8080/"
        },
        "id": "CZGRtbVWaonN",
        "outputId": "0154130e-f7e1-4c03-dec0-911f2fffac73"
      },
      "outputs": [
        {
          "output_type": "stream",
          "name": "stdout",
          "text": [
            "remove dups for  saree\n",
            "before  49670\n",
            "after   49487\n",
            "remove dups for  kamel\n",
            "before  311923\n",
            "after   308754\n",
            "remove dups for  mutakareb\n",
            "before  55838\n",
            "after   55166\n",
            "remove dups for  mutadarak\n",
            "before  10624\n",
            "after   10578\n",
            "remove dups for  munsareh\n",
            "before  23648\n",
            "after   23324\n",
            "remove dups for  madeed\n",
            "before  6155\n",
            "after   6154\n",
            "remove dups for  mujtath\n",
            "before  14942\n",
            "after   14863\n",
            "remove dups for  ramal\n",
            "before  66938\n",
            "after   66529\n",
            "remove dups for  baseet\n",
            "before  203503\n",
            "after   201368\n",
            "remove dups for  khafeef\n",
            "before  133738\n",
            "after   131744\n",
            "remove dups for  taweel\n",
            "before  341879\n",
            "after   336923\n",
            "remove dups for  wafer\n",
            "before  114834\n",
            "after   113315\n",
            "remove dups for  hazaj\n",
            "before  6593\n",
            "after   6531\n",
            "remove dups for  rajaz\n",
            "before  99578\n",
            "after   98056\n",
            "remove dups for  mudhare\n",
            "before  111\n",
            "after   111\n",
            "remove dups for  muqtadheb\n",
            "before  644\n",
            "after   644\n",
            "remove dups for  prose\n",
            "before  25958\n",
            "after   25624\n"
          ]
        }
      ],
      "source": [
        "for lbl in range(len(label2name)):\n",
        "  X_text, y_text = remove_dups(X_text, y_text,  lbl =lbl,)"
      ]
    },
    {
      "cell_type": "code",
      "execution_count": 10,
      "metadata": {
        "id": "6u2_i_WifZKB"
      },
      "outputs": [],
      "source": [
        "from collections import defaultdict\n",
        "\n",
        "def augment_meter(X, y, lbl =14, aug_size = 50_000, truncate = False):\n",
        "  meter_baits = []\n",
        "  other_baits = []\n",
        "  other_labels = []\n",
        "\n",
        "  print('augmenting ', label2name[lbl])\n",
        "  assert len(X) == len(y)\n",
        "\n",
        "  for i, bait in enumerate(X):\n",
        "    label = y[i]\n",
        "    if label == lbl:\n",
        "      meter_baits.append(bait)\n",
        "    else:\n",
        "      other_baits.append(bait)\n",
        "      other_labels.append(label)\n",
        "\n",
        "  meter_baits = shuffle(meter_baits, random_state = 41)\n",
        "  aug_meter_baits = meter_baits.copy()\n",
        "\n",
        "\n",
        "  cached_i_j = defaultdict(list)\n",
        "  dups = []\n",
        "  for i in range(0, len(meter_baits)):\n",
        "    for j in range(i+1, len(meter_baits)):\n",
        "\n",
        "      first_shatr = meter_baits[i].split('#')[1].strip()\n",
        "      second_shatr = meter_baits[j].split('#')[0].strip()\n",
        "      aug_bait = (' # ').join([first_shatr, second_shatr])\n",
        "      \n",
        "      if aug_bait in aug_meter_baits:\n",
        "        continue\n",
        "      aug_meter_baits.append(aug_bait)\n",
        "\n",
        "      if len(aug_meter_baits) > aug_size:\n",
        "        break\n",
        "    if len(aug_meter_baits) > aug_size:\n",
        "        break\n",
        "    \n",
        "  meter_labels = [lbl]*len(aug_meter_baits)\n",
        "  if truncate:\n",
        "    aug_meter_baits = aug_meter_baits[:aug_size]\n",
        "    meter_labels = meter_labels[:aug_size]\n",
        "    \n",
        "  return other_baits + aug_meter_baits, other_labels + meter_labels"
      ]
    },
    {
      "cell_type": "code",
      "execution_count": 11,
      "metadata": {
        "colab": {
          "base_uri": "https://localhost:8080/"
        },
        "id": "4B-Bpj-viNlg",
        "outputId": "a7501b50-6a53-455d-b592-0c93e3fc88b4"
      },
      "outputs": [
        {
          "output_type": "stream",
          "name": "stdout",
          "text": [
            "augmenting  saree\n",
            "augmenting  kamel\n",
            "augmenting  mutakareb\n",
            "augmenting  mutadarak\n",
            "augmenting  munsareh\n",
            "augmenting  madeed\n",
            "augmenting  mujtath\n",
            "augmenting  ramal\n",
            "augmenting  baseet\n",
            "augmenting  khafeef\n",
            "augmenting  taweel\n",
            "augmenting  wafer\n",
            "augmenting  hazaj\n",
            "augmenting  rajaz\n",
            "augmenting  mudhare\n",
            "augmenting  muqtadheb\n",
            "augmenting  prose\n"
          ]
        }
      ],
      "source": [
        "X_aug, y_aug = X_text, y_text\n",
        "\n",
        "for lbl in range(len(label2name)):\n",
        "  X_aug, y_aug = augment_meter(X_aug, y_aug,  lbl =lbl, truncate = True)"
      ]
    },
    {
      "cell_type": "code",
      "execution_count": 12,
      "metadata": {
        "colab": {
          "base_uri": "https://localhost:8080/"
        },
        "id": "NvG12zlFi9ui",
        "outputId": "d097b445-0168-4eb7-f076-804676adb67d"
      },
      "outputs": [
        {
          "output_type": "execute_result",
          "data": {
            "text/plain": [
              "('تَصْنِيعِ نَماذِجَ تَجْرِيبِيَّةٍ لِهذِهِ الصَّوارِيخِ # وَبَحَثْنا فِي إِمْكانِ تَقْدِيمِ الدَّعْمِ',\n",
              " 16)"
            ]
          },
          "metadata": {},
          "execution_count": 12
        }
      ],
      "source": [
        "X_aug[-1], y_aug[-1]"
      ]
    },
    {
      "cell_type": "code",
      "execution_count": 13,
      "metadata": {
        "colab": {
          "base_uri": "https://localhost:8080/",
          "height": 337
        },
        "id": "jECylIalmgF5",
        "outputId": "87494cd6-fc66-416d-a3ab-46fa0a8eeb64"
      },
      "outputs": [
        {
          "output_type": "stream",
          "name": "stderr",
          "text": [
            "/usr/local/lib/python3.7/dist-packages/seaborn/_decorators.py:43: FutureWarning: Pass the following variable as a keyword arg: x. From version 0.12, the only valid positional argument will be `data`, and passing other arguments without an explicit keyword will result in an error or misinterpretation.\n",
            "  FutureWarning\n"
          ]
        },
        {
          "output_type": "execute_result",
          "data": {
            "text/plain": [
              "<matplotlib.axes._subplots.AxesSubplot at 0x7f76bae96050>"
            ]
          },
          "metadata": {},
          "execution_count": 13
        },
        {
          "output_type": "display_data",
          "data": {
            "text/plain": [
              "<Figure size 432x288 with 1 Axes>"
            ],
            "image/png": "[encoded data removed]"
          },
          "metadata": {
            "needs_background": "light"
          }
        }
      ],
      "source": [
        "import seaborn as sns\n",
        "sns.countplot(y_text_test,)"
      ]
    },
    {
      "cell_type": "code",
      "execution_count": 14,
      "metadata": {
        "colab": {
          "base_uri": "https://localhost:8080/",
          "height": 337
        },
        "id": "Qh1Slg6RBhBT",
        "outputId": "4044d7ee-e987-44d3-a9b7-b242aa545863"
      },
      "outputs": [
        {
          "output_type": "stream",
          "name": "stderr",
          "text": [
            "/usr/local/lib/python3.7/dist-packages/seaborn/_decorators.py:43: FutureWarning: Pass the following variable as a keyword arg: x. From version 0.12, the only valid positional argument will be `data`, and passing other arguments without an explicit keyword will result in an error or misinterpretation.\n",
            "  FutureWarning\n"
          ]
        },
        {
          "output_type": "execute_result",
          "data": {
            "text/plain": [
              "<matplotlib.axes._subplots.AxesSubplot at 0x7f76b592edd0>"
            ]
          },
          "metadata": {},
          "execution_count": 14
        },
        {
          "output_type": "display_data",
          "data": {
            "text/plain": [
              "<Figure size 432x288 with 1 Axes>"
            ],
            "image/png": "[encoded data removed]"
          },
          "metadata": {
            "needs_background": "light"
          }
        }
      ],
      "source": [
        "import seaborn as sns\n",
        "sns.countplot(y_aug, )"
      ]
    },
    {
      "cell_type": "code",
      "execution_count": 15,
      "metadata": {
        "id": "azw3IJxcqon4"
      },
      "outputs": [],
      "source": [
        "char2idx = {u:i+1 for i, u in enumerate(vocab)}"
      ]
    },
    {
      "cell_type": "code",
      "execution_count": 16,
      "metadata": {
        "id": "cT6jvdXBk2c8"
      },
      "outputs": [],
      "source": [
        "import random \n",
        "\n",
        "class DataGenerator(tf.keras.utils.Sequence):\n",
        "    'Generates data for Keras'\n",
        "    def __init__(self, data, labels, batch_size=256, shuffle=True, augment = True):\n",
        "        'Initialization'\n",
        "        self.batch_size = batch_size\n",
        "        self.labels = labels\n",
        "        self.data = data\n",
        "        self.shuffle = shuffle\n",
        "        self.tashkeel = list('ًٌٍَُِّ') +['ْ']+['ٓ']\n",
        "        self.augment = augment\n",
        "        self.on_epoch_end()\n",
        "\n",
        "    def __len__(self):\n",
        "        'Denotes the number of batches per epoch'\n",
        "        return int(np.floor(len(self.data) / self.batch_size))\n",
        "\n",
        "    def __getitem__(self, index):\n",
        "        'Generate one batch of data'\n",
        "        # Generate indexes of the batch\n",
        "        indices = self.indexes[index*self.batch_size:(index+1)*self.batch_size]\n",
        "\n",
        "        # Generate data\n",
        "        X, y = self.__data_generation(indices)\n",
        "\n",
        "        return X, y\n",
        "\n",
        "    def on_epoch_end(self):\n",
        "        'Updates indexes after each epoch'\n",
        "        self.indexes = np.arange(len(self.data))\n",
        "        if self.shuffle == True:\n",
        "            np.random.shuffle(self.indexes)\n",
        "\n",
        "    def _random_strip_tashkeel(self, text):\n",
        "      out_text = \"\"\n",
        "      for char in text:\n",
        "        if char in self.tashkeel:\n",
        "          if random.random() > 0.5:\n",
        "            out_text += char\n",
        "        else:\n",
        "          out_text += char\n",
        "      return out_text\n",
        "\n",
        "    def _augment(self, text):\n",
        "        if random.random() > 0.5:\n",
        "          text = self._random_strip_tashkeel(text)\n",
        "\n",
        "        if random.random() > 0.5:\n",
        "          text = (' # ').join(text.split(' # ')[::-1])\n",
        "        return text \n",
        "\n",
        "    def _preprocess_item(self, text):\n",
        "        if self.augment:\n",
        "          text = self._augment(text)\n",
        "\n",
        "        x = [[char2idx[char] for char in text]]\n",
        "        x = pad_sequences(x, padding='post', value=0, maxlen = 128)\n",
        "        return x\n",
        "      \n",
        "    def __data_generation(self, indices):\n",
        "        'Generates data containing batch_size samples' \n",
        "\n",
        "        # Initialization\n",
        "        X = np.empty((self.batch_size, 128))\n",
        "        y = np.empty((self.batch_size), dtype=int)\n",
        "\n",
        "        # Generate data\n",
        "        for i, index in enumerate(indices):\n",
        "            X[i,] = self._preprocess_item(self.data[index])\n",
        "            y[i] = self.labels[index]\n",
        "\n",
        "        return X, y"
      ]
    },
    {
      "cell_type": "code",
      "execution_count": 17,
      "metadata": {
        "id": "ROef8aerf8ar"
      },
      "outputs": [],
      "source": [
        "X_train, X_valid , y_train, y_valid = train_test_split(X_aug, y_aug, test_size = 0.15, random_state = 41)"
      ]
    },
    {
      "cell_type": "code",
      "execution_count": 18,
      "metadata": {
        "id": "3K7U7VL5nOZp"
      },
      "outputs": [],
      "source": [
        "train_generator = DataGenerator(X_train, y_train)\n",
        "valid_generator = DataGenerator(X_valid, y_valid, augment = False, shuffle=False)"
      ]
    },
    {
      "cell_type": "markdown",
      "metadata": {
        "id": "5uHdRK4cCrGJ"
      },
      "source": [
        "## Create the model"
      ]
    },
    {
      "cell_type": "code",
      "execution_count": 19,
      "metadata": {
        "id": "p3u3OxEcBfJ2"
      },
      "outputs": [],
      "source": [
        "import tensorflow as tf\n",
        "from tensorflow import keras\n",
        "from tensorflow.keras import layers\n",
        "\n",
        "class TransformerBlock(layers.Layer):\n",
        "    def __init__(self, embed_dim, num_heads, ff_dim, rate=0.1):\n",
        "        super(TransformerBlock, self).__init__()\n",
        "        self.att = layers.MultiHeadAttention(num_heads=num_heads, key_dim=embed_dim)\n",
        "        # self.ffn = keras.Sequential(\n",
        "        #     [layers.Dense(ff_dim, activation=\"relu\"), layers.Dense(embed_dim),]\n",
        "        # )\n",
        "        self.ffn = keras.Sequential(\n",
        "            [layers.Bidirectional(GRU(units = ff_dim, return_sequences=True)),\n",
        "             layers.Bidirectional(GRU(units = ff_dim, return_sequences=True)),\n",
        "             layers.Bidirectional(GRU(units = ff_dim, return_sequences=True)),\n",
        "             layers.Dense(embed_dim)]\n",
        "        )\n",
        "        self.layernorm1 = layers.LayerNormalization(epsilon=1e-6)\n",
        "        self.layernorm2 = layers.LayerNormalization(epsilon=1e-6)\n",
        "        self.dropout1 = layers.Dropout(rate)\n",
        "        self.dropout2 = layers.Dropout(rate)\n",
        "\n",
        "    def call(self, inputs, training):\n",
        "        attn_output = self.att(inputs, inputs)\n",
        "        attn_output = self.dropout1(attn_output, training=training)\n",
        "        out1 = self.layernorm1(inputs + attn_output)\n",
        "        # print(out1.shape)\n",
        "        ffn_output = self.ffn(out1)\n",
        "        ffn_output = self.dropout2(ffn_output, training=training)\n",
        "        return self.layernorm2(out1 + ffn_output)\n",
        "\n",
        "class TokenAndPositionEmbedding(layers.Layer):\n",
        "    def __init__(self, maxlen, vocab_size, embed_dim):\n",
        "        super(TokenAndPositionEmbedding, self).__init__()\n",
        "        self.token_emb = layers.Embedding(input_dim=vocab_size, output_dim=embed_dim)\n",
        "        self.pos_emb = layers.Embedding(input_dim=maxlen, output_dim=embed_dim)\n",
        "\n",
        "    def call(self, x):\n",
        "        maxlen = tf.shape(x)[-1]\n",
        "        positions = tf.range(start=0, limit=maxlen, delta=1)\n",
        "        positions = self.pos_emb(positions)\n",
        "        x = self.token_emb(x)\n",
        "        # return x + positions\n",
        "        return x\n",
        "\n",
        "def create_transformer_model():\n",
        "  embed_dim = 64  # Embedding size for each token\n",
        "  num_heads = 3  # Number of attention heads\n",
        "  ff_dim = 64  # Hidden layer size in feed forward network inside transformer\n",
        "  maxlen = 128 \n",
        "  vocab_size = len(char2idx)+1\n",
        "  inputs = layers.Input(shape=(maxlen,))\n",
        "  embedding_layer = TokenAndPositionEmbedding(maxlen, vocab_size, embed_dim)\n",
        "  x = embedding_layer(inputs)\n",
        "  transformer_block = TransformerBlock(embed_dim, num_heads, ff_dim)\n",
        "  x = transformer_block(x)\n",
        "  x = layers.Flatten()(x)\n",
        "  # x = layers.Dropout(0.1)(x)\n",
        "  x = layers.Dense(128, activation=\"relu\")(x)\n",
        "  # x = layers.Dropout(0.1)(x)\n",
        "  outputs = layers.Dense(len(label2name), activation=\"softmax\")(x)\n",
        "\n",
        "  model = keras.Model(inputs=inputs, outputs=outputs)\n",
        "  model.compile(optimizer = 'adam', loss = 'sparse_categorical_crossentropy', metrics = ['accuracy'])\n",
        "  return model"
      ]
    },
    {
      "cell_type": "markdown",
      "metadata": {
        "id": "5-7U36aDCtQu"
      },
      "source": [
        "## Train the model"
      ]
    },
    {
      "cell_type": "code",
      "execution_count": 20,
      "metadata": {
        "id": "nEHRYgLhkozM"
      },
      "outputs": [],
      "source": [
        "checkpoint_path = \"/content/cp.ckpt\"\n",
        "checkpoint_dir = os.path.dirname(checkpoint_path)\n",
        "\n",
        "callbacks = [tf.keras.callbacks.ModelCheckpoint(checkpoint_path,\n",
        "                                                 monitor='val_loss',\n",
        "                                                 verbose=1,\n",
        "                                                 save_weights_only=True,\n",
        "                                                 save_best_only= True,\n",
        "                                                 mode='min')]"
      ]
    },
    {
      "cell_type": "code",
      "execution_count": 21,
      "metadata": {
        "id": "9Elg8Vdd9tLj"
      },
      "outputs": [],
      "source": [
        "model = create_transformer_model()"
      ]
    },
    {
      "cell_type": "code",
      "execution_count": 22,
      "metadata": {
        "id": "X2qwO_GANKrH",
        "colab": {
          "base_uri": "https://localhost:8080/"
        },
        "outputId": "751b5689-6d04-4bad-dd6a-1e63669e9c09"
      },
      "outputs": [
        {
          "output_type": "stream",
          "name": "stdout",
          "text": [
            "Model: \"model\"\n",
            "_________________________________________________________________\n",
            " Layer (type)                Output Shape              Param #   \n",
            "=================================================================\n",
            " input_1 (InputLayer)        [(None, 128)]             0         \n",
            "                                                                 \n",
            " token_and_position_embeddin  (None, 128, 64)          11264     \n",
            " g (TokenAndPositionEmbeddin                                     \n",
            " g)                                                              \n",
            "                                                                 \n",
            " transformer_block (Transfor  (None, 128, 64)          257216    \n",
            " merBlock)                                                       \n",
            "                                                                 \n",
            " flatten (Flatten)           (None, 8192)              0         \n",
            "                                                                 \n",
            " dense_1 (Dense)             (None, 128)               1048704   \n",
            "                                                                 \n",
            " dense_2 (Dense)             (None, 17)                2193      \n",
            "                                                                 \n",
            "=================================================================\n",
            "Total params: 1,319,377\n",
            "Trainable params: 1,319,377\n",
            "Non-trainable params: 0\n",
            "_________________________________________________________________\n"
          ]
        }
      ],
      "source": [
        "model.summary()"
      ]
    },
    {
      "cell_type": "code",
      "execution_count": null,
      "metadata": {
        "id": "52Ew-5ZyC3Nf"
      },
      "outputs": [],
      "source": [
        "model.fit(train_generator, validation_data = valid_generator ,epochs = 15, callbacks=callbacks)"
      ]
    },
    {
      "cell_type": "code",
      "execution_count": null,
      "metadata": {
        "id": "3Mpgd5ux06HQ"
      },
      "outputs": [],
      "source": [
        "def create_test_data(X, y):\n",
        "  X_test = []\n",
        "  y_test = []\n",
        "\n",
        "  for text in X:\n",
        "    x = [[char2idx[char] for char in text]]\n",
        "    x = pad_sequences(x, padding='post', value=0, maxlen = 128)\n",
        "    X_test.append(x[0])\n",
        "  \n",
        "  return np.array(X_test), np.array(y) "
      ]
    },
    {
      "cell_type": "code",
      "execution_count": null,
      "metadata": {
        "id": "Ntr28SXD1LBr"
      },
      "outputs": [],
      "source": [
        "X_test, y_test = create_test_data(X_text_test, y_text_test)"
      ]
    },
    {
      "cell_type": "code",
      "execution_count": null,
      "metadata": {
        "colab": {
          "base_uri": "https://localhost:8080/"
        },
        "id": "gRYJoGMd1q1V",
        "outputId": "1cc0b320-8280-463f-c108-fd065cafd0c4"
      },
      "outputs": [
        {
          "name": "stdout",
          "output_type": "stream",
          "text": [
            "1418/1418 [==============================] - 58s 39ms/step - loss: 0.2228 - accuracy: 0.9551\n"
          ]
        },
        {
          "data": {
            "text/plain": [
              "[0.2228369414806366, 0.9550934433937073]"
            ]
          },
          "execution_count": 32,
          "metadata": {},
          "output_type": "execute_result"
        }
      ],
      "source": [
        "model = create_transformer_model()\n",
        "model.load_weights(checkpoint_path)\n",
        "model.evaluate(X_test, y_test, batch_size = 256)"
      ]
    },
    {
      "cell_type": "markdown",
      "metadata": {
        "id": "jwZQrxhdDV4r"
      },
      "source": [
        "## Tests"
      ]
    },
    {
      "cell_type": "code",
      "execution_count": null,
      "metadata": {
        "id": "FraLoOkf5ePG"
      },
      "outputs": [],
      "source": [
        "y_pred = model.predict(X_test, batch_size = 256)"
      ]
    },
    {
      "cell_type": "code",
      "execution_count": null,
      "metadata": {
        "colab": {
          "base_uri": "https://localhost:8080/",
          "height": 476
        },
        "id": "e6-M7mmi5XuP",
        "outputId": "b4947ce5-618f-4688-e868-73378863840d"
      },
      "outputs": [
        {
          "data": {
            "image/png": "[encoded data removed]",
            "text/plain": [
              "<Figure size 720x504 with 2 Axes>"
            ]
          },
          "metadata": {
            "needs_background": "light"
          },
          "output_type": "display_data"
        }
      ],
      "source": [
        "import seaborn as sn\n",
        "import pandas as pd\n",
        "import matplotlib.pyplot as plt\n",
        "from sklearn.metrics import confusion_matrix\n",
        "\n",
        "cm = confusion_matrix(y_test, y_pred.argmax(-1))\n",
        "cmn = cm.astype('float') / cm.sum(axis=1)[:, np.newaxis]\n",
        "df_cm = pd.DataFrame(cmn, label2name, label2name)\n",
        "plt.figure(figsize=(10,7))\n",
        "sn.heatmap(df_cm, annot=True, annot_kws={\"size\": 10}, fmt='.2f') # font size\n",
        "\n",
        "plt.show()"
      ]
    }
  ],
  "metadata": {
    "accelerator": "GPU",
    "colab": {
      "collapsed_sections": [],
      "machine_shape": "hm",
      "name": "qawafi: meter.ipynb",
      "provenance": []
    },
    "kernelspec": {
      "display_name": "Python 3",
      "name": "python3"
    }
  },
  "nbformat": 4,
  "nbformat_minor": 0
}