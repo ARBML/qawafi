{
  "nbformat": 4,
  "nbformat_minor": 0,
  "metadata": {
    "colab": {
      "name": "era.ipynb",
      "provenance": [],
      "collapsed_sections": [],
      "machine_shape": "hm"
    },
    "kernelspec": {
      "name": "python3",
      "display_name": "Python 3"
    },
    "language_info": {
      "name": "python"
    },
    "accelerator": "GPU",
    "widgets": {
      "application/vnd.jupyter.widget-state+json": {
        "d11c6a8154b84a6a8318a21646d2d8ce": {
          "model_module": "@jupyter-widgets/controls",
          "model_name": "HBoxModel",
          "model_module_version": "1.5.0",
          "state": {
            "_dom_classes": [],
            "_model_module": "@jupyter-widgets/controls",
            "_model_module_version": "1.5.0",
            "_model_name": "HBoxModel",
            "_view_count": null,
            "_view_module": "@jupyter-widgets/controls",
            "_view_module_version": "1.5.0",
            "_view_name": "HBoxView",
            "box_style": "",
            "children": [
              "IPY_MODEL_4fe0e1b8854e46c1af9bb0f3dab91b8c",
              "IPY_MODEL_14fa5c05f81a4c0a951e2e4ea6a6f69e",
              "IPY_MODEL_b3f92abd3112469a8a264735ff79cc24"
            ],
            "layout": "IPY_MODEL_aa6c11c7f51540f39b865fabf1eacd1d"
          }
        },
        "4fe0e1b8854e46c1af9bb0f3dab91b8c": {
          "model_module": "@jupyter-widgets/controls",
          "model_name": "HTMLModel",
          "model_module_version": "1.5.0",
          "state": {
            "_dom_classes": [],
            "_model_module": "@jupyter-widgets/controls",
            "_model_module_version": "1.5.0",
            "_model_name": "HTMLModel",
            "_view_count": null,
            "_view_module": "@jupyter-widgets/controls",
            "_view_module_version": "1.5.0",
            "_view_name": "HTMLView",
            "description": "",
            "description_tooltip": null,
            "layout": "IPY_MODEL_fd5ae56cdff8412fb1fc8e66aab6184b",
            "placeholder": "​",
            "style": "IPY_MODEL_e2cb484a7afb4d28abd5387a7eecfbf2",
            "value": "100%"
          }
        },
        "14fa5c05f81a4c0a951e2e4ea6a6f69e": {
          "model_module": "@jupyter-widgets/controls",
          "model_name": "FloatProgressModel",
          "model_module_version": "1.5.0",
          "state": {
            "_dom_classes": [],
            "_model_module": "@jupyter-widgets/controls",
            "_model_module_version": "1.5.0",
            "_model_name": "FloatProgressModel",
            "_view_count": null,
            "_view_module": "@jupyter-widgets/controls",
            "_view_module_version": "1.5.0",
            "_view_name": "ProgressView",
            "bar_style": "success",
            "description": "",
            "description_tooltip": null,
            "layout": "IPY_MODEL_528071e5c7db457a850abe9fd98c67e4",
            "max": 1,
            "min": 0,
            "orientation": "horizontal",
            "style": "IPY_MODEL_4e7c6ee4b75f4883b82c1d92848eac5b",
            "value": 1
          }
        },
        "b3f92abd3112469a8a264735ff79cc24": {
          "model_module": "@jupyter-widgets/controls",
          "model_name": "HTMLModel",
          "model_module_version": "1.5.0",
          "state": {
            "_dom_classes": [],
            "_model_module": "@jupyter-widgets/controls",
            "_model_module_version": "1.5.0",
            "_model_name": "HTMLModel",
            "_view_count": null,
            "_view_module": "@jupyter-widgets/controls",
            "_view_module_version": "1.5.0",
            "_view_name": "HTMLView",
            "description": "",
            "description_tooltip": null,
            "layout": "IPY_MODEL_8aaffed4e0414876b50d29bcf8bd9d3a",
            "placeholder": "​",
            "style": "IPY_MODEL_22f80175fd7f4ca9aa5e82440d752a6d",
            "value": " 1/1 [00:00&lt;00:00, 34.66it/s]"
          }
        },
        "aa6c11c7f51540f39b865fabf1eacd1d": {
          "model_module": "@jupyter-widgets/base",
          "model_name": "LayoutModel",
          "model_module_version": "1.2.0",
          "state": {
            "_model_module": "@jupyter-widgets/base",
            "_model_module_version": "1.2.0",
            "_model_name": "LayoutModel",
            "_view_count": null,
            "_view_module": "@jupyter-widgets/base",
            "_view_module_version": "1.2.0",
            "_view_name": "LayoutView",
            "align_content": null,
            "align_items": null,
            "align_self": null,
            "border": null,
            "bottom": null,
            "display": null,
            "flex": null,
            "flex_flow": null,
            "grid_area": null,
            "grid_auto_columns": null,
            "grid_auto_flow": null,
            "grid_auto_rows": null,
            "grid_column": null,
            "grid_gap": null,
            "grid_row": null,
            "grid_template_areas": null,
            "grid_template_columns": null,
            "grid_template_rows": null,
            "height": null,
            "justify_content": null,
            "justify_items": null,
            "left": null,
            "margin": null,
            "max_height": null,
            "max_width": null,
            "min_height": null,
            "min_width": null,
            "object_fit": null,
            "object_position": null,
            "order": null,
            "overflow": null,
            "overflow_x": null,
            "overflow_y": null,
            "padding": null,
            "right": null,
            "top": null,
            "visibility": null,
            "width": null
          }
        },
        "fd5ae56cdff8412fb1fc8e66aab6184b": {
          "model_module": "@jupyter-widgets/base",
          "model_name": "LayoutModel",
          "model_module_version": "1.2.0",
          "state": {
            "_model_module": "@jupyter-widgets/base",
            "_model_module_version": "1.2.0",
            "_model_name": "LayoutModel",
            "_view_count": null,
            "_view_module": "@jupyter-widgets/base",
            "_view_module_version": "1.2.0",
            "_view_name": "LayoutView",
            "align_content": null,
            "align_items": null,
            "align_self": null,
            "border": null,
            "bottom": null,
            "display": null,
            "flex": null,
            "flex_flow": null,
            "grid_area": null,
            "grid_auto_columns": null,
            "grid_auto_flow": null,
            "grid_auto_rows": null,
            "grid_column": null,
            "grid_gap": null,
            "grid_row": null,
            "grid_template_areas": null,
            "grid_template_columns": null,
            "grid_template_rows": null,
            "height": null,
            "justify_content": null,
            "justify_items": null,
            "left": null,
            "margin": null,
            "max_height": null,
            "max_width": null,
            "min_height": null,
            "min_width": null,
            "object_fit": null,
            "object_position": null,
            "order": null,
            "overflow": null,
            "overflow_x": null,
            "overflow_y": null,
            "padding": null,
            "right": null,
            "top": null,
            "visibility": null,
            "width": null
          }
        },
        "e2cb484a7afb4d28abd5387a7eecfbf2": {
          "model_module": "@jupyter-widgets/controls",
          "model_name": "DescriptionStyleModel",
          "model_module_version": "1.5.0",
          "state": {
            "_model_module": "@jupyter-widgets/controls",
            "_model_module_version": "1.5.0",
            "_model_name": "DescriptionStyleModel",
            "_view_count": null,
            "_view_module": "@jupyter-widgets/base",
            "_view_module_version": "1.2.0",
            "_view_name": "StyleView",
            "description_width": ""
          }
        },
        "528071e5c7db457a850abe9fd98c67e4": {
          "model_module": "@jupyter-widgets/base",
          "model_name": "LayoutModel",
          "model_module_version": "1.2.0",
          "state": {
            "_model_module": "@jupyter-widgets/base",
            "_model_module_version": "1.2.0",
            "_model_name": "LayoutModel",
            "_view_count": null,
            "_view_module": "@jupyter-widgets/base",
            "_view_module_version": "1.2.0",
            "_view_name": "LayoutView",
            "align_content": null,
            "align_items": null,
            "align_self": null,
            "border": null,
            "bottom": null,
            "display": null,
            "flex": null,
            "flex_flow": null,
            "grid_area": null,
            "grid_auto_columns": null,
            "grid_auto_flow": null,
            "grid_auto_rows": null,
            "grid_column": null,
            "grid_gap": null,
            "grid_row": null,
            "grid_template_areas": null,
            "grid_template_columns": null,
            "grid_template_rows": null,
            "height": null,
            "justify_content": null,
            "justify_items": null,
            "left": null,
            "margin": null,
            "max_height": null,
            "max_width": null,
            "min_height": null,
            "min_width": null,
            "object_fit": null,
            "object_position": null,
            "order": null,
            "overflow": null,
            "overflow_x": null,
            "overflow_y": null,
            "padding": null,
            "right": null,
            "top": null,
            "visibility": null,
            "width": null
          }
        },
        "4e7c6ee4b75f4883b82c1d92848eac5b": {
          "model_module": "@jupyter-widgets/controls",
          "model_name": "ProgressStyleModel",
          "model_module_version": "1.5.0",
          "state": {
            "_model_module": "@jupyter-widgets/controls",
            "_model_module_version": "1.5.0",
            "_model_name": "ProgressStyleModel",
            "_view_count": null,
            "_view_module": "@jupyter-widgets/base",
            "_view_module_version": "1.2.0",
            "_view_name": "StyleView",
            "bar_color": null,
            "description_width": ""
          }
        },
        "8aaffed4e0414876b50d29bcf8bd9d3a": {
          "model_module": "@jupyter-widgets/base",
          "model_name": "LayoutModel",
          "model_module_version": "1.2.0",
          "state": {
            "_model_module": "@jupyter-widgets/base",
            "_model_module_version": "1.2.0",
            "_model_name": "LayoutModel",
            "_view_count": null,
            "_view_module": "@jupyter-widgets/base",
            "_view_module_version": "1.2.0",
            "_view_name": "LayoutView",
            "align_content": null,
            "align_items": null,
            "align_self": null,
            "border": null,
            "bottom": null,
            "display": null,
            "flex": null,
            "flex_flow": null,
            "grid_area": null,
            "grid_auto_columns": null,
            "grid_auto_flow": null,
            "grid_auto_rows": null,
            "grid_column": null,
            "grid_gap": null,
            "grid_row": null,
            "grid_template_areas": null,
            "grid_template_columns": null,
            "grid_template_rows": null,
            "height": null,
            "justify_content": null,
            "justify_items": null,
            "left": null,
            "margin": null,
            "max_height": null,
            "max_width": null,
            "min_height": null,
            "min_width": null,
            "object_fit": null,
            "object_position": null,
            "order": null,
            "overflow": null,
            "overflow_x": null,
            "overflow_y": null,
            "padding": null,
            "right": null,
            "top": null,
            "visibility": null,
            "width": null
          }
        },
        "22f80175fd7f4ca9aa5e82440d752a6d": {
          "model_module": "@jupyter-widgets/controls",
          "model_name": "DescriptionStyleModel",
          "model_module_version": "1.5.0",
          "state": {
            "_model_module": "@jupyter-widgets/controls",
            "_model_module_version": "1.5.0",
            "_model_name": "DescriptionStyleModel",
            "_view_count": null,
            "_view_module": "@jupyter-widgets/base",
            "_view_module_version": "1.2.0",
            "_view_name": "StyleView",
            "description_width": ""
          }
        },
        "c718e79443b94ba2a5325fb2ccc99bd7": {
          "model_module": "@jupyter-widgets/controls",
          "model_name": "HBoxModel",
          "model_module_version": "1.5.0",
          "state": {
            "_dom_classes": [],
            "_model_module": "@jupyter-widgets/controls",
            "_model_module_version": "1.5.0",
            "_model_name": "HBoxModel",
            "_view_count": null,
            "_view_module": "@jupyter-widgets/controls",
            "_view_module_version": "1.5.0",
            "_view_name": "HBoxView",
            "box_style": "",
            "children": [
              "IPY_MODEL_5428687087a84709afb13213f99c1cd3",
              "IPY_MODEL_e9b0e2dea99b4a129c1ba838123af459",
              "IPY_MODEL_80793a4ca77c46059eea3b9b11dd3812"
            ],
            "layout": "IPY_MODEL_c3c46d54c52647388ab706efbcebf5a0"
          }
        },
        "5428687087a84709afb13213f99c1cd3": {
          "model_module": "@jupyter-widgets/controls",
          "model_name": "HTMLModel",
          "model_module_version": "1.5.0",
          "state": {
            "_dom_classes": [],
            "_model_module": "@jupyter-widgets/controls",
            "_model_module_version": "1.5.0",
            "_model_name": "HTMLModel",
            "_view_count": null,
            "_view_module": "@jupyter-widgets/controls",
            "_view_module_version": "1.5.0",
            "_view_name": "HTMLView",
            "description": "",
            "description_tooltip": null,
            "layout": "IPY_MODEL_1c3e3e288b1c4e459e028096c496ce7e",
            "placeholder": "​",
            "style": "IPY_MODEL_0233cb4d4c7e4c779dc175f338f4ff11",
            "value": "100%"
          }
        },
        "e9b0e2dea99b4a129c1ba838123af459": {
          "model_module": "@jupyter-widgets/controls",
          "model_name": "FloatProgressModel",
          "model_module_version": "1.5.0",
          "state": {
            "_dom_classes": [],
            "_model_module": "@jupyter-widgets/controls",
            "_model_module_version": "1.5.0",
            "_model_name": "FloatProgressModel",
            "_view_count": null,
            "_view_module": "@jupyter-widgets/controls",
            "_view_module_version": "1.5.0",
            "_view_name": "ProgressView",
            "bar_style": "success",
            "description": "",
            "description_tooltip": null,
            "layout": "IPY_MODEL_27769c86666748569ba5fa1923f6be00",
            "max": 163526,
            "min": 0,
            "orientation": "horizontal",
            "style": "IPY_MODEL_425a313b1dd1476fb5504d6e6db6deed",
            "value": 163526
          }
        },
        "80793a4ca77c46059eea3b9b11dd3812": {
          "model_module": "@jupyter-widgets/controls",
          "model_name": "HTMLModel",
          "model_module_version": "1.5.0",
          "state": {
            "_dom_classes": [],
            "_model_module": "@jupyter-widgets/controls",
            "_model_module_version": "1.5.0",
            "_model_name": "HTMLModel",
            "_view_count": null,
            "_view_module": "@jupyter-widgets/controls",
            "_view_module_version": "1.5.0",
            "_view_name": "HTMLView",
            "description": "",
            "description_tooltip": null,
            "layout": "IPY_MODEL_141ae3402837457c9690b4900911f771",
            "placeholder": "​",
            "style": "IPY_MODEL_1711f050470641e78dab8e5b90c3ee2e",
            "value": " 163526/163526 [00:20&lt;00:00, 7603.23ex/s]"
          }
        },
        "c3c46d54c52647388ab706efbcebf5a0": {
          "model_module": "@jupyter-widgets/base",
          "model_name": "LayoutModel",
          "model_module_version": "1.2.0",
          "state": {
            "_model_module": "@jupyter-widgets/base",
            "_model_module_version": "1.2.0",
            "_model_name": "LayoutModel",
            "_view_count": null,
            "_view_module": "@jupyter-widgets/base",
            "_view_module_version": "1.2.0",
            "_view_name": "LayoutView",
            "align_content": null,
            "align_items": null,
            "align_self": null,
            "border": null,
            "bottom": null,
            "display": null,
            "flex": null,
            "flex_flow": null,
            "grid_area": null,
            "grid_auto_columns": null,
            "grid_auto_flow": null,
            "grid_auto_rows": null,
            "grid_column": null,
            "grid_gap": null,
            "grid_row": null,
            "grid_template_areas": null,
            "grid_template_columns": null,
            "grid_template_rows": null,
            "height": null,
            "justify_content": null,
            "justify_items": null,
            "left": null,
            "margin": null,
            "max_height": null,
            "max_width": null,
            "min_height": null,
            "min_width": null,
            "object_fit": null,
            "object_position": null,
            "order": null,
            "overflow": null,
            "overflow_x": null,
            "overflow_y": null,
            "padding": null,
            "right": null,
            "top": null,
            "visibility": null,
            "width": null
          }
        },
        "1c3e3e288b1c4e459e028096c496ce7e": {
          "model_module": "@jupyter-widgets/base",
          "model_name": "LayoutModel",
          "model_module_version": "1.2.0",
          "state": {
            "_model_module": "@jupyter-widgets/base",
            "_model_module_version": "1.2.0",
            "_model_name": "LayoutModel",
            "_view_count": null,
            "_view_module": "@jupyter-widgets/base",
            "_view_module_version": "1.2.0",
            "_view_name": "LayoutView",
            "align_content": null,
            "align_items": null,
            "align_self": null,
            "border": null,
            "bottom": null,
            "display": null,
            "flex": null,
            "flex_flow": null,
            "grid_area": null,
            "grid_auto_columns": null,
            "grid_auto_flow": null,
            "grid_auto_rows": null,
            "grid_column": null,
            "grid_gap": null,
            "grid_row": null,
            "grid_template_areas": null,
            "grid_template_columns": null,
            "grid_template_rows": null,
            "height": null,
            "justify_content": null,
            "justify_items": null,
            "left": null,
            "margin": null,
            "max_height": null,
            "max_width": null,
            "min_height": null,
            "min_width": null,
            "object_fit": null,
            "object_position": null,
            "order": null,
            "overflow": null,
            "overflow_x": null,
            "overflow_y": null,
            "padding": null,
            "right": null,
            "top": null,
            "visibility": null,
            "width": null
          }
        },
        "0233cb4d4c7e4c779dc175f338f4ff11": {
          "model_module": "@jupyter-widgets/controls",
          "model_name": "DescriptionStyleModel",
          "model_module_version": "1.5.0",
          "state": {
            "_model_module": "@jupyter-widgets/controls",
            "_model_module_version": "1.5.0",
            "_model_name": "DescriptionStyleModel",
            "_view_count": null,
            "_view_module": "@jupyter-widgets/base",
            "_view_module_version": "1.2.0",
            "_view_name": "StyleView",
            "description_width": ""
          }
        },
        "27769c86666748569ba5fa1923f6be00": {
          "model_module": "@jupyter-widgets/base",
          "model_name": "LayoutModel",
          "model_module_version": "1.2.0",
          "state": {
            "_model_module": "@jupyter-widgets/base",
            "_model_module_version": "1.2.0",
            "_model_name": "LayoutModel",
            "_view_count": null,
            "_view_module": "@jupyter-widgets/base",
            "_view_module_version": "1.2.0",
            "_view_name": "LayoutView",
            "align_content": null,
            "align_items": null,
            "align_self": null,
            "border": null,
            "bottom": null,
            "display": null,
            "flex": null,
            "flex_flow": null,
            "grid_area": null,
            "grid_auto_columns": null,
            "grid_auto_flow": null,
            "grid_auto_rows": null,
            "grid_column": null,
            "grid_gap": null,
            "grid_row": null,
            "grid_template_areas": null,
            "grid_template_columns": null,
            "grid_template_rows": null,
            "height": null,
            "justify_content": null,
            "justify_items": null,
            "left": null,
            "margin": null,
            "max_height": null,
            "max_width": null,
            "min_height": null,
            "min_width": null,
            "object_fit": null,
            "object_position": null,
            "order": null,
            "overflow": null,
            "overflow_x": null,
            "overflow_y": null,
            "padding": null,
            "right": null,
            "top": null,
            "visibility": null,
            "width": null
          }
        },
        "425a313b1dd1476fb5504d6e6db6deed": {
          "model_module": "@jupyter-widgets/controls",
          "model_name": "ProgressStyleModel",
          "model_module_version": "1.5.0",
          "state": {
            "_model_module": "@jupyter-widgets/controls",
            "_model_module_version": "1.5.0",
            "_model_name": "ProgressStyleModel",
            "_view_count": null,
            "_view_module": "@jupyter-widgets/base",
            "_view_module_version": "1.2.0",
            "_view_name": "StyleView",
            "bar_color": null,
            "description_width": ""
          }
        },
        "141ae3402837457c9690b4900911f771": {
          "model_module": "@jupyter-widgets/base",
          "model_name": "LayoutModel",
          "model_module_version": "1.2.0",
          "state": {
            "_model_module": "@jupyter-widgets/base",
            "_model_module_version": "1.2.0",
            "_model_name": "LayoutModel",
            "_view_count": null,
            "_view_module": "@jupyter-widgets/base",
            "_view_module_version": "1.2.0",
            "_view_name": "LayoutView",
            "align_content": null,
            "align_items": null,
            "align_self": null,
            "border": null,
            "bottom": null,
            "display": null,
            "flex": null,
            "flex_flow": null,
            "grid_area": null,
            "grid_auto_columns": null,
            "grid_auto_flow": null,
            "grid_auto_rows": null,
            "grid_column": null,
            "grid_gap": null,
            "grid_row": null,
            "grid_template_areas": null,
            "grid_template_columns": null,
            "grid_template_rows": null,
            "height": null,
            "justify_content": null,
            "justify_items": null,
            "left": null,
            "margin": null,
            "max_height": null,
            "max_width": null,
            "min_height": null,
            "min_width": null,
            "object_fit": null,
            "object_position": null,
            "order": null,
            "overflow": null,
            "overflow_x": null,
            "overflow_y": null,
            "padding": null,
            "right": null,
            "top": null,
            "visibility": null,
            "width": null
          }
        },
        "1711f050470641e78dab8e5b90c3ee2e": {
          "model_module": "@jupyter-widgets/controls",
          "model_name": "DescriptionStyleModel",
          "model_module_version": "1.5.0",
          "state": {
            "_model_module": "@jupyter-widgets/controls",
            "_model_module_version": "1.5.0",
            "_model_name": "DescriptionStyleModel",
            "_view_count": null,
            "_view_module": "@jupyter-widgets/base",
            "_view_module_version": "1.2.0",
            "_view_name": "StyleView",
            "description_width": ""
          }
        },
        "1e7c0e840e954ddebde234fa0ab46ccd": {
          "model_module": "@jupyter-widgets/controls",
          "model_name": "HBoxModel",
          "model_module_version": "1.5.0",
          "state": {
            "_dom_classes": [],
            "_model_module": "@jupyter-widgets/controls",
            "_model_module_version": "1.5.0",
            "_model_name": "HBoxModel",
            "_view_count": null,
            "_view_module": "@jupyter-widgets/controls",
            "_view_module_version": "1.5.0",
            "_view_name": "HBoxView",
            "box_style": "",
            "children": [
              "IPY_MODEL_3c4febd71cda4d07ba5bdc08f9671049",
              "IPY_MODEL_d297cff80cf74652a63191b0e68de434",
              "IPY_MODEL_58cb0011bf734deab9d440f538af1a68"
            ],
            "layout": "IPY_MODEL_6099820df21d4cde88f7d58455ee6a0f"
          }
        },
        "3c4febd71cda4d07ba5bdc08f9671049": {
          "model_module": "@jupyter-widgets/controls",
          "model_name": "HTMLModel",
          "model_module_version": "1.5.0",
          "state": {
            "_dom_classes": [],
            "_model_module": "@jupyter-widgets/controls",
            "_model_module_version": "1.5.0",
            "_model_name": "HTMLModel",
            "_view_count": null,
            "_view_module": "@jupyter-widgets/controls",
            "_view_module_version": "1.5.0",
            "_view_name": "HTMLView",
            "description": "",
            "description_tooltip": null,
            "layout": "IPY_MODEL_ced0010d96ac4cd8ab297d0eefc4f397",
            "placeholder": "​",
            "style": "IPY_MODEL_6b2f2f5525424cd982821609ae9bdea7",
            "value": "100%"
          }
        },
        "d297cff80cf74652a63191b0e68de434": {
          "model_module": "@jupyter-widgets/controls",
          "model_name": "FloatProgressModel",
          "model_module_version": "1.5.0",
          "state": {
            "_dom_classes": [],
            "_model_module": "@jupyter-widgets/controls",
            "_model_module_version": "1.5.0",
            "_model_name": "FloatProgressModel",
            "_view_count": null,
            "_view_module": "@jupyter-widgets/controls",
            "_view_module_version": "1.5.0",
            "_view_name": "ProgressView",
            "bar_style": "success",
            "description": "",
            "description_tooltip": null,
            "layout": "IPY_MODEL_5f28da6b110e481ebe46b0827b805bb7",
            "max": 133,
            "min": 0,
            "orientation": "horizontal",
            "style": "IPY_MODEL_b231954eea45484bbe17ec14d6f1474f",
            "value": 133
          }
        },
        "58cb0011bf734deab9d440f538af1a68": {
          "model_module": "@jupyter-widgets/controls",
          "model_name": "HTMLModel",
          "model_module_version": "1.5.0",
          "state": {
            "_dom_classes": [],
            "_model_module": "@jupyter-widgets/controls",
            "_model_module_version": "1.5.0",
            "_model_name": "HTMLModel",
            "_view_count": null,
            "_view_module": "@jupyter-widgets/controls",
            "_view_module_version": "1.5.0",
            "_view_name": "HTMLView",
            "description": "",
            "description_tooltip": null,
            "layout": "IPY_MODEL_c6bda70b17cf49c091c306751ea122c4",
            "placeholder": "​",
            "style": "IPY_MODEL_af3430ae909a4cca81375cd1514d890f",
            "value": " 133/133 [00:21&lt;00:00,  6.29ba/s]"
          }
        },
        "6099820df21d4cde88f7d58455ee6a0f": {
          "model_module": "@jupyter-widgets/base",
          "model_name": "LayoutModel",
          "model_module_version": "1.2.0",
          "state": {
            "_model_module": "@jupyter-widgets/base",
            "_model_module_version": "1.2.0",
            "_model_name": "LayoutModel",
            "_view_count": null,
            "_view_module": "@jupyter-widgets/base",
            "_view_module_version": "1.2.0",
            "_view_name": "LayoutView",
            "align_content": null,
            "align_items": null,
            "align_self": null,
            "border": null,
            "bottom": null,
            "display": null,
            "flex": null,
            "flex_flow": null,
            "grid_area": null,
            "grid_auto_columns": null,
            "grid_auto_flow": null,
            "grid_auto_rows": null,
            "grid_column": null,
            "grid_gap": null,
            "grid_row": null,
            "grid_template_areas": null,
            "grid_template_columns": null,
            "grid_template_rows": null,
            "height": null,
            "justify_content": null,
            "justify_items": null,
            "left": null,
            "margin": null,
            "max_height": null,
            "max_width": null,
            "min_height": null,
            "min_width": null,
            "object_fit": null,
            "object_position": null,
            "order": null,
            "overflow": null,
            "overflow_x": null,
            "overflow_y": null,
            "padding": null,
            "right": null,
            "top": null,
            "visibility": null,
            "width": null
          }
        },
        "ced0010d96ac4cd8ab297d0eefc4f397": {
          "model_module": "@jupyter-widgets/base",
          "model_name": "LayoutModel",
          "model_module_version": "1.2.0",
          "state": {
            "_model_module": "@jupyter-widgets/base",
            "_model_module_version": "1.2.0",
            "_model_name": "LayoutModel",
            "_view_count": null,
            "_view_module": "@jupyter-widgets/base",
            "_view_module_version": "1.2.0",
            "_view_name": "LayoutView",
            "align_content": null,
            "align_items": null,
            "align_self": null,
            "border": null,
            "bottom": null,
            "display": null,
            "flex": null,
            "flex_flow": null,
            "grid_area": null,
            "grid_auto_columns": null,
            "grid_auto_flow": null,
            "grid_auto_rows": null,
            "grid_column": null,
            "grid_gap": null,
            "grid_row": null,
            "grid_template_areas": null,
            "grid_template_columns": null,
            "grid_template_rows": null,
            "height": null,
            "justify_content": null,
            "justify_items": null,
            "left": null,
            "margin": null,
            "max_height": null,
            "max_width": null,
            "min_height": null,
            "min_width": null,
            "object_fit": null,
            "object_position": null,
            "order": null,
            "overflow": null,
            "overflow_x": null,
            "overflow_y": null,
            "padding": null,
            "right": null,
            "top": null,
            "visibility": null,
            "width": null
          }
        },
        "6b2f2f5525424cd982821609ae9bdea7": {
          "model_module": "@jupyter-widgets/controls",
          "model_name": "DescriptionStyleModel",
          "model_module_version": "1.5.0",
          "state": {
            "_model_module": "@jupyter-widgets/controls",
            "_model_module_version": "1.5.0",
            "_model_name": "DescriptionStyleModel",
            "_view_count": null,
            "_view_module": "@jupyter-widgets/base",
            "_view_module_version": "1.2.0",
            "_view_name": "StyleView",
            "description_width": ""
          }
        },
        "5f28da6b110e481ebe46b0827b805bb7": {
          "model_module": "@jupyter-widgets/base",
          "model_name": "LayoutModel",
          "model_module_version": "1.2.0",
          "state": {
            "_model_module": "@jupyter-widgets/base",
            "_model_module_version": "1.2.0",
            "_model_name": "LayoutModel",
            "_view_count": null,
            "_view_module": "@jupyter-widgets/base",
            "_view_module_version": "1.2.0",
            "_view_name": "LayoutView",
            "align_content": null,
            "align_items": null,
            "align_self": null,
            "border": null,
            "bottom": null,
            "display": null,
            "flex": null,
            "flex_flow": null,
            "grid_area": null,
            "grid_auto_columns": null,
            "grid_auto_flow": null,
            "grid_auto_rows": null,
            "grid_column": null,
            "grid_gap": null,
            "grid_row": null,
            "grid_template_areas": null,
            "grid_template_columns": null,
            "grid_template_rows": null,
            "height": null,
            "justify_content": null,
            "justify_items": null,
            "left": null,
            "margin": null,
            "max_height": null,
            "max_width": null,
            "min_height": null,
            "min_width": null,
            "object_fit": null,
            "object_position": null,
            "order": null,
            "overflow": null,
            "overflow_x": null,
            "overflow_y": null,
            "padding": null,
            "right": null,
            "top": null,
            "visibility": null,
            "width": null
          }
        },
        "b231954eea45484bbe17ec14d6f1474f": {
          "model_module": "@jupyter-widgets/controls",
          "model_name": "ProgressStyleModel",
          "model_module_version": "1.5.0",
          "state": {
            "_model_module": "@jupyter-widgets/controls",
            "_model_module_version": "1.5.0",
            "_model_name": "ProgressStyleModel",
            "_view_count": null,
            "_view_module": "@jupyter-widgets/base",
            "_view_module_version": "1.2.0",
            "_view_name": "StyleView",
            "bar_color": null,
            "description_width": ""
          }
        },
        "c6bda70b17cf49c091c306751ea122c4": {
          "model_module": "@jupyter-widgets/base",
          "model_name": "LayoutModel",
          "model_module_version": "1.2.0",
          "state": {
            "_model_module": "@jupyter-widgets/base",
            "_model_module_version": "1.2.0",
            "_model_name": "LayoutModel",
            "_view_count": null,
            "_view_module": "@jupyter-widgets/base",
            "_view_module_version": "1.2.0",
            "_view_name": "LayoutView",
            "align_content": null,
            "align_items": null,
            "align_self": null,
            "border": null,
            "bottom": null,
            "display": null,
            "flex": null,
            "flex_flow": null,
            "grid_area": null,
            "grid_auto_columns": null,
            "grid_auto_flow": null,
            "grid_auto_rows": null,
            "grid_column": null,
            "grid_gap": null,
            "grid_row": null,
            "grid_template_areas": null,
            "grid_template_columns": null,
            "grid_template_rows": null,
            "height": null,
            "justify_content": null,
            "justify_items": null,
            "left": null,
            "margin": null,
            "max_height": null,
            "max_width": null,
            "min_height": null,
            "min_width": null,
            "object_fit": null,
            "object_position": null,
            "order": null,
            "overflow": null,
            "overflow_x": null,
            "overflow_y": null,
            "padding": null,
            "right": null,
            "top": null,
            "visibility": null,
            "width": null
          }
        },
        "af3430ae909a4cca81375cd1514d890f": {
          "model_module": "@jupyter-widgets/controls",
          "model_name": "DescriptionStyleModel",
          "model_module_version": "1.5.0",
          "state": {
            "_model_module": "@jupyter-widgets/controls",
            "_model_module_version": "1.5.0",
            "_model_name": "DescriptionStyleModel",
            "_view_count": null,
            "_view_module": "@jupyter-widgets/base",
            "_view_module_version": "1.2.0",
            "_view_name": "StyleView",
            "description_width": ""
          }
        },
        "e429c87fcb8545a7a77d8e4866b0148c": {
          "model_module": "@jupyter-widgets/controls",
          "model_name": "HBoxModel",
          "model_module_version": "1.5.0",
          "state": {
            "_dom_classes": [],
            "_model_module": "@jupyter-widgets/controls",
            "_model_module_version": "1.5.0",
            "_model_name": "HBoxModel",
            "_view_count": null,
            "_view_module": "@jupyter-widgets/controls",
            "_view_module_version": "1.5.0",
            "_view_name": "HBoxView",
            "box_style": "",
            "children": [
              "IPY_MODEL_c19f268300cb40309a321312f624ece0",
              "IPY_MODEL_70b89c089ad14cd096d805fa612fc8b1",
              "IPY_MODEL_fc4f1427fa77490b94322c8a0d69f842"
            ],
            "layout": "IPY_MODEL_1f08816fafeb40729b34314e95417083"
          }
        },
        "c19f268300cb40309a321312f624ece0": {
          "model_module": "@jupyter-widgets/controls",
          "model_name": "HTMLModel",
          "model_module_version": "1.5.0",
          "state": {
            "_dom_classes": [],
            "_model_module": "@jupyter-widgets/controls",
            "_model_module_version": "1.5.0",
            "_model_name": "HTMLModel",
            "_view_count": null,
            "_view_module": "@jupyter-widgets/controls",
            "_view_module_version": "1.5.0",
            "_view_name": "HTMLView",
            "description": "",
            "description_tooltip": null,
            "layout": "IPY_MODEL_230f9d54f3ac42b0a4bb3978b41d359b",
            "placeholder": "​",
            "style": "IPY_MODEL_d232f34f4f59482dabd2bf55e6de4e81",
            "value": "100%"
          }
        },
        "70b89c089ad14cd096d805fa612fc8b1": {
          "model_module": "@jupyter-widgets/controls",
          "model_name": "FloatProgressModel",
          "model_module_version": "1.5.0",
          "state": {
            "_dom_classes": [],
            "_model_module": "@jupyter-widgets/controls",
            "_model_module_version": "1.5.0",
            "_model_name": "FloatProgressModel",
            "_view_count": null,
            "_view_module": "@jupyter-widgets/controls",
            "_view_module_version": "1.5.0",
            "_view_name": "ProgressView",
            "bar_style": "success",
            "description": "",
            "description_tooltip": null,
            "layout": "IPY_MODEL_837c34ee04b7472fb8f84616611bb266",
            "max": 17,
            "min": 0,
            "orientation": "horizontal",
            "style": "IPY_MODEL_574f642b2b054b1ba4f4f860bfa6c6f9",
            "value": 17
          }
        },
        "fc4f1427fa77490b94322c8a0d69f842": {
          "model_module": "@jupyter-widgets/controls",
          "model_name": "HTMLModel",
          "model_module_version": "1.5.0",
          "state": {
            "_dom_classes": [],
            "_model_module": "@jupyter-widgets/controls",
            "_model_module_version": "1.5.0",
            "_model_name": "HTMLModel",
            "_view_count": null,
            "_view_module": "@jupyter-widgets/controls",
            "_view_module_version": "1.5.0",
            "_view_name": "HTMLView",
            "description": "",
            "description_tooltip": null,
            "layout": "IPY_MODEL_437771178d6b4b169d47e88924e6edcf",
            "placeholder": "​",
            "style": "IPY_MODEL_a44fb0fbf4764e62b626f230a110cc28",
            "value": " 17/17 [00:02&lt;00:00,  6.25ba/s]"
          }
        },
        "1f08816fafeb40729b34314e95417083": {
          "model_module": "@jupyter-widgets/base",
          "model_name": "LayoutModel",
          "model_module_version": "1.2.0",
          "state": {
            "_model_module": "@jupyter-widgets/base",
            "_model_module_version": "1.2.0",
            "_model_name": "LayoutModel",
            "_view_count": null,
            "_view_module": "@jupyter-widgets/base",
            "_view_module_version": "1.2.0",
            "_view_name": "LayoutView",
            "align_content": null,
            "align_items": null,
            "align_self": null,
            "border": null,
            "bottom": null,
            "display": null,
            "flex": null,
            "flex_flow": null,
            "grid_area": null,
            "grid_auto_columns": null,
            "grid_auto_flow": null,
            "grid_auto_rows": null,
            "grid_column": null,
            "grid_gap": null,
            "grid_row": null,
            "grid_template_areas": null,
            "grid_template_columns": null,
            "grid_template_rows": null,
            "height": null,
            "justify_content": null,
            "justify_items": null,
            "left": null,
            "margin": null,
            "max_height": null,
            "max_width": null,
            "min_height": null,
            "min_width": null,
            "object_fit": null,
            "object_position": null,
            "order": null,
            "overflow": null,
            "overflow_x": null,
            "overflow_y": null,
            "padding": null,
            "right": null,
            "top": null,
            "visibility": null,
            "width": null
          }
        },
        "230f9d54f3ac42b0a4bb3978b41d359b": {
          "model_module": "@jupyter-widgets/base",
          "model_name": "LayoutModel",
          "model_module_version": "1.2.0",
          "state": {
            "_model_module": "@jupyter-widgets/base",
            "_model_module_version": "1.2.0",
            "_model_name": "LayoutModel",
            "_view_count": null,
            "_view_module": "@jupyter-widgets/base",
            "_view_module_version": "1.2.0",
            "_view_name": "LayoutView",
            "align_content": null,
            "align_items": null,
            "align_self": null,
            "border": null,
            "bottom": null,
            "display": null,
            "flex": null,
            "flex_flow": null,
            "grid_area": null,
            "grid_auto_columns": null,
            "grid_auto_flow": null,
            "grid_auto_rows": null,
            "grid_column": null,
            "grid_gap": null,
            "grid_row": null,
            "grid_template_areas": null,
            "grid_template_columns": null,
            "grid_template_rows": null,
            "height": null,
            "justify_content": null,
            "justify_items": null,
            "left": null,
            "margin": null,
            "max_height": null,
            "max_width": null,
            "min_height": null,
            "min_width": null,
            "object_fit": null,
            "object_position": null,
            "order": null,
            "overflow": null,
            "overflow_x": null,
            "overflow_y": null,
            "padding": null,
            "right": null,
            "top": null,
            "visibility": null,
            "width": null
          }
        },
        "d232f34f4f59482dabd2bf55e6de4e81": {
          "model_module": "@jupyter-widgets/controls",
          "model_name": "DescriptionStyleModel",
          "model_module_version": "1.5.0",
          "state": {
            "_model_module": "@jupyter-widgets/controls",
            "_model_module_version": "1.5.0",
            "_model_name": "DescriptionStyleModel",
            "_view_count": null,
            "_view_module": "@jupyter-widgets/base",
            "_view_module_version": "1.2.0",
            "_view_name": "StyleView",
            "description_width": ""
          }
        },
        "837c34ee04b7472fb8f84616611bb266": {
          "model_module": "@jupyter-widgets/base",
          "model_name": "LayoutModel",
          "model_module_version": "1.2.0",
          "state": {
            "_model_module": "@jupyter-widgets/base",
            "_model_module_version": "1.2.0",
            "_model_name": "LayoutModel",
            "_view_count": null,
            "_view_module": "@jupyter-widgets/base",
            "_view_module_version": "1.2.0",
            "_view_name": "LayoutView",
            "align_content": null,
            "align_items": null,
            "align_self": null,
            "border": null,
            "bottom": null,
            "display": null,
            "flex": null,
            "flex_flow": null,
            "grid_area": null,
            "grid_auto_columns": null,
            "grid_auto_flow": null,
            "grid_auto_rows": null,
            "grid_column": null,
            "grid_gap": null,
            "grid_row": null,
            "grid_template_areas": null,
            "grid_template_columns": null,
            "grid_template_rows": null,
            "height": null,
            "justify_content": null,
            "justify_items": null,
            "left": null,
            "margin": null,
            "max_height": null,
            "max_width": null,
            "min_height": null,
            "min_width": null,
            "object_fit": null,
            "object_position": null,
            "order": null,
            "overflow": null,
            "overflow_x": null,
            "overflow_y": null,
            "padding": null,
            "right": null,
            "top": null,
            "visibility": null,
            "width": null
          }
        },
        "574f642b2b054b1ba4f4f860bfa6c6f9": {
          "model_module": "@jupyter-widgets/controls",
          "model_name": "ProgressStyleModel",
          "model_module_version": "1.5.0",
          "state": {
            "_model_module": "@jupyter-widgets/controls",
            "_model_module_version": "1.5.0",
            "_model_name": "ProgressStyleModel",
            "_view_count": null,
            "_view_module": "@jupyter-widgets/base",
            "_view_module_version": "1.2.0",
            "_view_name": "StyleView",
            "bar_color": null,
            "description_width": ""
          }
        },
        "437771178d6b4b169d47e88924e6edcf": {
          "model_module": "@jupyter-widgets/base",
          "model_name": "LayoutModel",
          "model_module_version": "1.2.0",
          "state": {
            "_model_module": "@jupyter-widgets/base",
            "_model_module_version": "1.2.0",
            "_model_name": "LayoutModel",
            "_view_count": null,
            "_view_module": "@jupyter-widgets/base",
            "_view_module_version": "1.2.0",
            "_view_name": "LayoutView",
            "align_content": null,
            "align_items": null,
            "align_self": null,
            "border": null,
            "bottom": null,
            "display": null,
            "flex": null,
            "flex_flow": null,
            "grid_area": null,
            "grid_auto_columns": null,
            "grid_auto_flow": null,
            "grid_auto_rows": null,
            "grid_column": null,
            "grid_gap": null,
            "grid_row": null,
            "grid_template_areas": null,
            "grid_template_columns": null,
            "grid_template_rows": null,
            "height": null,
            "justify_content": null,
            "justify_items": null,
            "left": null,
            "margin": null,
            "max_height": null,
            "max_width": null,
            "min_height": null,
            "min_width": null,
            "object_fit": null,
            "object_position": null,
            "order": null,
            "overflow": null,
            "overflow_x": null,
            "overflow_y": null,
            "padding": null,
            "right": null,
            "top": null,
            "visibility": null,
            "width": null
          }
        },
        "a44fb0fbf4764e62b626f230a110cc28": {
          "model_module": "@jupyter-widgets/controls",
          "model_name": "DescriptionStyleModel",
          "model_module_version": "1.5.0",
          "state": {
            "_model_module": "@jupyter-widgets/controls",
            "_model_module_version": "1.5.0",
            "_model_name": "DescriptionStyleModel",
            "_view_count": null,
            "_view_module": "@jupyter-widgets/base",
            "_view_module_version": "1.2.0",
            "_view_name": "StyleView",
            "description_width": ""
          }
        },
        "317f440abe874034a1b4b541db09a176": {
          "model_module": "@jupyter-widgets/controls",
          "model_name": "HBoxModel",
          "model_module_version": "1.5.0",
          "state": {
            "_dom_classes": [],
            "_model_module": "@jupyter-widgets/controls",
            "_model_module_version": "1.5.0",
            "_model_name": "HBoxModel",
            "_view_count": null,
            "_view_module": "@jupyter-widgets/controls",
            "_view_module_version": "1.5.0",
            "_view_name": "HBoxView",
            "box_style": "",
            "children": [
              "IPY_MODEL_2165cb98ec49444d9956789368866079",
              "IPY_MODEL_209046b00bc047389b001d4f9e25c213",
              "IPY_MODEL_a0181cb30b9b40efbb79f614ba892a3d"
            ],
            "layout": "IPY_MODEL_7404aeca35584c8b83ebfdae0bbdb8db"
          }
        },
        "2165cb98ec49444d9956789368866079": {
          "model_module": "@jupyter-widgets/controls",
          "model_name": "HTMLModel",
          "model_module_version": "1.5.0",
          "state": {
            "_dom_classes": [],
            "_model_module": "@jupyter-widgets/controls",
            "_model_module_version": "1.5.0",
            "_model_name": "HTMLModel",
            "_view_count": null,
            "_view_module": "@jupyter-widgets/controls",
            "_view_module_version": "1.5.0",
            "_view_name": "HTMLView",
            "description": "",
            "description_tooltip": null,
            "layout": "IPY_MODEL_22a8408f44b14aa2b583a92660ca08bd",
            "placeholder": "​",
            "style": "IPY_MODEL_989e24aa21a64645bf01cb738ed507bf",
            "value": "100%"
          }
        },
        "209046b00bc047389b001d4f9e25c213": {
          "model_module": "@jupyter-widgets/controls",
          "model_name": "FloatProgressModel",
          "model_module_version": "1.5.0",
          "state": {
            "_dom_classes": [],
            "_model_module": "@jupyter-widgets/controls",
            "_model_module_version": "1.5.0",
            "_model_name": "FloatProgressModel",
            "_view_count": null,
            "_view_module": "@jupyter-widgets/controls",
            "_view_module_version": "1.5.0",
            "_view_name": "ProgressView",
            "bar_style": "success",
            "description": "",
            "description_tooltip": null,
            "layout": "IPY_MODEL_6c1b32c4574e44189c293919fc13b18c",
            "max": 15,
            "min": 0,
            "orientation": "horizontal",
            "style": "IPY_MODEL_0c8eb81a683a41a9aa122db487ab8518",
            "value": 15
          }
        },
        "a0181cb30b9b40efbb79f614ba892a3d": {
          "model_module": "@jupyter-widgets/controls",
          "model_name": "HTMLModel",
          "model_module_version": "1.5.0",
          "state": {
            "_dom_classes": [],
            "_model_module": "@jupyter-widgets/controls",
            "_model_module_version": "1.5.0",
            "_model_name": "HTMLModel",
            "_view_count": null,
            "_view_module": "@jupyter-widgets/controls",
            "_view_module_version": "1.5.0",
            "_view_name": "HTMLView",
            "description": "",
            "description_tooltip": null,
            "layout": "IPY_MODEL_349e9b27bc7045df990ccfb3bbb42209",
            "placeholder": "​",
            "style": "IPY_MODEL_1afc7fa1411b4ea0a5294381f689457f",
            "value": " 15/15 [00:02&lt;00:00,  6.77ba/s]"
          }
        },
        "7404aeca35584c8b83ebfdae0bbdb8db": {
          "model_module": "@jupyter-widgets/base",
          "model_name": "LayoutModel",
          "model_module_version": "1.2.0",
          "state": {
            "_model_module": "@jupyter-widgets/base",
            "_model_module_version": "1.2.0",
            "_model_name": "LayoutModel",
            "_view_count": null,
            "_view_module": "@jupyter-widgets/base",
            "_view_module_version": "1.2.0",
            "_view_name": "LayoutView",
            "align_content": null,
            "align_items": null,
            "align_self": null,
            "border": null,
            "bottom": null,
            "display": null,
            "flex": null,
            "flex_flow": null,
            "grid_area": null,
            "grid_auto_columns": null,
            "grid_auto_flow": null,
            "grid_auto_rows": null,
            "grid_column": null,
            "grid_gap": null,
            "grid_row": null,
            "grid_template_areas": null,
            "grid_template_columns": null,
            "grid_template_rows": null,
            "height": null,
            "justify_content": null,
            "justify_items": null,
            "left": null,
            "margin": null,
            "max_height": null,
            "max_width": null,
            "min_height": null,
            "min_width": null,
            "object_fit": null,
            "object_position": null,
            "order": null,
            "overflow": null,
            "overflow_x": null,
            "overflow_y": null,
            "padding": null,
            "right": null,
            "top": null,
            "visibility": null,
            "width": null
          }
        },
        "22a8408f44b14aa2b583a92660ca08bd": {
          "model_module": "@jupyter-widgets/base",
          "model_name": "LayoutModel",
          "model_module_version": "1.2.0",
          "state": {
            "_model_module": "@jupyter-widgets/base",
            "_model_module_version": "1.2.0",
            "_model_name": "LayoutModel",
            "_view_count": null,
            "_view_module": "@jupyter-widgets/base",
            "_view_module_version": "1.2.0",
            "_view_name": "LayoutView",
            "align_content": null,
            "align_items": null,
            "align_self": null,
            "border": null,
            "bottom": null,
            "display": null,
            "flex": null,
            "flex_flow": null,
            "grid_area": null,
            "grid_auto_columns": null,
            "grid_auto_flow": null,
            "grid_auto_rows": null,
            "grid_column": null,
            "grid_gap": null,
            "grid_row": null,
            "grid_template_areas": null,
            "grid_template_columns": null,
            "grid_template_rows": null,
            "height": null,
            "justify_content": null,
            "justify_items": null,
            "left": null,
            "margin": null,
            "max_height": null,
            "max_width": null,
            "min_height": null,
            "min_width": null,
            "object_fit": null,
            "object_position": null,
            "order": null,
            "overflow": null,
            "overflow_x": null,
            "overflow_y": null,
            "padding": null,
            "right": null,
            "top": null,
            "visibility": null,
            "width": null
          }
        },
        "989e24aa21a64645bf01cb738ed507bf": {
          "model_module": "@jupyter-widgets/controls",
          "model_name": "DescriptionStyleModel",
          "model_module_version": "1.5.0",
          "state": {
            "_model_module": "@jupyter-widgets/controls",
            "_model_module_version": "1.5.0",
            "_model_name": "DescriptionStyleModel",
            "_view_count": null,
            "_view_module": "@jupyter-widgets/base",
            "_view_module_version": "1.2.0",
            "_view_name": "StyleView",
            "description_width": ""
          }
        },
        "6c1b32c4574e44189c293919fc13b18c": {
          "model_module": "@jupyter-widgets/base",
          "model_name": "LayoutModel",
          "model_module_version": "1.2.0",
          "state": {
            "_model_module": "@jupyter-widgets/base",
            "_model_module_version": "1.2.0",
            "_model_name": "LayoutModel",
            "_view_count": null,
            "_view_module": "@jupyter-widgets/base",
            "_view_module_version": "1.2.0",
            "_view_name": "LayoutView",
            "align_content": null,
            "align_items": null,
            "align_self": null,
            "border": null,
            "bottom": null,
            "display": null,
            "flex": null,
            "flex_flow": null,
            "grid_area": null,
            "grid_auto_columns": null,
            "grid_auto_flow": null,
            "grid_auto_rows": null,
            "grid_column": null,
            "grid_gap": null,
            "grid_row": null,
            "grid_template_areas": null,
            "grid_template_columns": null,
            "grid_template_rows": null,
            "height": null,
            "justify_content": null,
            "justify_items": null,
            "left": null,
            "margin": null,
            "max_height": null,
            "max_width": null,
            "min_height": null,
            "min_width": null,
            "object_fit": null,
            "object_position": null,
            "order": null,
            "overflow": null,
            "overflow_x": null,
            "overflow_y": null,
            "padding": null,
            "right": null,
            "top": null,
            "visibility": null,
            "width": null
          }
        },
        "0c8eb81a683a41a9aa122db487ab8518": {
          "model_module": "@jupyter-widgets/controls",
          "model_name": "ProgressStyleModel",
          "model_module_version": "1.5.0",
          "state": {
            "_model_module": "@jupyter-widgets/controls",
            "_model_module_version": "1.5.0",
            "_model_name": "ProgressStyleModel",
            "_view_count": null,
            "_view_module": "@jupyter-widgets/base",
            "_view_module_version": "1.2.0",
            "_view_name": "StyleView",
            "bar_color": null,
            "description_width": ""
          }
        },
        "349e9b27bc7045df990ccfb3bbb42209": {
          "model_module": "@jupyter-widgets/base",
          "model_name": "LayoutModel",
          "model_module_version": "1.2.0",
          "state": {
            "_model_module": "@jupyter-widgets/base",
            "_model_module_version": "1.2.0",
            "_model_name": "LayoutModel",
            "_view_count": null,
            "_view_module": "@jupyter-widgets/base",
            "_view_module_version": "1.2.0",
            "_view_name": "LayoutView",
            "align_content": null,
            "align_items": null,
            "align_self": null,
            "border": null,
            "bottom": null,
            "display": null,
            "flex": null,
            "flex_flow": null,
            "grid_area": null,
            "grid_auto_columns": null,
            "grid_auto_flow": null,
            "grid_auto_rows": null,
            "grid_column": null,
            "grid_gap": null,
            "grid_row": null,
            "grid_template_areas": null,
            "grid_template_columns": null,
            "grid_template_rows": null,
            "height": null,
            "justify_content": null,
            "justify_items": null,
            "left": null,
            "margin": null,
            "max_height": null,
            "max_width": null,
            "min_height": null,
            "min_width": null,
            "object_fit": null,
            "object_position": null,
            "order": null,
            "overflow": null,
            "overflow_x": null,
            "overflow_y": null,
            "padding": null,
            "right": null,
            "top": null,
            "visibility": null,
            "width": null
          }
        },
        "1afc7fa1411b4ea0a5294381f689457f": {
          "model_module": "@jupyter-widgets/controls",
          "model_name": "DescriptionStyleModel",
          "model_module_version": "1.5.0",
          "state": {
            "_model_module": "@jupyter-widgets/controls",
            "_model_module_version": "1.5.0",
            "_model_name": "DescriptionStyleModel",
            "_view_count": null,
            "_view_module": "@jupyter-widgets/base",
            "_view_module_version": "1.2.0",
            "_view_name": "StyleView",
            "description_width": ""
          }
        },
        "f52a46c1d4af41029bcad2934b6a6c7a": {
          "model_module": "@jupyter-widgets/controls",
          "model_name": "HBoxModel",
          "model_module_version": "1.5.0",
          "state": {
            "_dom_classes": [],
            "_model_module": "@jupyter-widgets/controls",
            "_model_module_version": "1.5.0",
            "_model_name": "HBoxModel",
            "_view_count": null,
            "_view_module": "@jupyter-widgets/controls",
            "_view_module_version": "1.5.0",
            "_view_name": "HBoxView",
            "box_style": "",
            "children": [
              "IPY_MODEL_c4de52619f5b4305997c8ec90ef94e6c",
              "IPY_MODEL_41d322a471ca4db494cefc2ffb71bb84",
              "IPY_MODEL_ba62bd2089f9422a82b0a4cac63c67bb"
            ],
            "layout": "IPY_MODEL_fc5f01040c164f96b96cd375bc846475"
          }
        },
        "c4de52619f5b4305997c8ec90ef94e6c": {
          "model_module": "@jupyter-widgets/controls",
          "model_name": "HTMLModel",
          "model_module_version": "1.5.0",
          "state": {
            "_dom_classes": [],
            "_model_module": "@jupyter-widgets/controls",
            "_model_module_version": "1.5.0",
            "_model_name": "HTMLModel",
            "_view_count": null,
            "_view_module": "@jupyter-widgets/controls",
            "_view_module_version": "1.5.0",
            "_view_name": "HTMLView",
            "description": "",
            "description_tooltip": null,
            "layout": "IPY_MODEL_420c4db2dc61406a881d3e5ade29b6b8",
            "placeholder": "​",
            "style": "IPY_MODEL_b9cedd65588047ec9754ef9f76e93ae8",
            "value": "100%"
          }
        },
        "41d322a471ca4db494cefc2ffb71bb84": {
          "model_module": "@jupyter-widgets/controls",
          "model_name": "FloatProgressModel",
          "model_module_version": "1.5.0",
          "state": {
            "_dom_classes": [],
            "_model_module": "@jupyter-widgets/controls",
            "_model_module_version": "1.5.0",
            "_model_name": "FloatProgressModel",
            "_view_count": null,
            "_view_module": "@jupyter-widgets/controls",
            "_view_module_version": "1.5.0",
            "_view_name": "ProgressView",
            "bar_style": "success",
            "description": "",
            "description_tooltip": null,
            "layout": "IPY_MODEL_b0314e5bb0934b6899424c856178f25d",
            "max": 133,
            "min": 0,
            "orientation": "horizontal",
            "style": "IPY_MODEL_81725de5c898402fba84e4cfd51354bc",
            "value": 133
          }
        },
        "ba62bd2089f9422a82b0a4cac63c67bb": {
          "model_module": "@jupyter-widgets/controls",
          "model_name": "HTMLModel",
          "model_module_version": "1.5.0",
          "state": {
            "_dom_classes": [],
            "_model_module": "@jupyter-widgets/controls",
            "_model_module_version": "1.5.0",
            "_model_name": "HTMLModel",
            "_view_count": null,
            "_view_module": "@jupyter-widgets/controls",
            "_view_module_version": "1.5.0",
            "_view_name": "HTMLView",
            "description": "",
            "description_tooltip": null,
            "layout": "IPY_MODEL_f5c87efa96ad460496e64d32ef59a7fc",
            "placeholder": "​",
            "style": "IPY_MODEL_d1cb4487e7d24f7e9fd43ef96aa5ddb0",
            "value": " 133/133 [00:04&lt;00:00, 28.45ba/s]"
          }
        },
        "fc5f01040c164f96b96cd375bc846475": {
          "model_module": "@jupyter-widgets/base",
          "model_name": "LayoutModel",
          "model_module_version": "1.2.0",
          "state": {
            "_model_module": "@jupyter-widgets/base",
            "_model_module_version": "1.2.0",
            "_model_name": "LayoutModel",
            "_view_count": null,
            "_view_module": "@jupyter-widgets/base",
            "_view_module_version": "1.2.0",
            "_view_name": "LayoutView",
            "align_content": null,
            "align_items": null,
            "align_self": null,
            "border": null,
            "bottom": null,
            "display": null,
            "flex": null,
            "flex_flow": null,
            "grid_area": null,
            "grid_auto_columns": null,
            "grid_auto_flow": null,
            "grid_auto_rows": null,
            "grid_column": null,
            "grid_gap": null,
            "grid_row": null,
            "grid_template_areas": null,
            "grid_template_columns": null,
            "grid_template_rows": null,
            "height": null,
            "justify_content": null,
            "justify_items": null,
            "left": null,
            "margin": null,
            "max_height": null,
            "max_width": null,
            "min_height": null,
            "min_width": null,
            "object_fit": null,
            "object_position": null,
            "order": null,
            "overflow": null,
            "overflow_x": null,
            "overflow_y": null,
            "padding": null,
            "right": null,
            "top": null,
            "visibility": null,
            "width": null
          }
        },
        "420c4db2dc61406a881d3e5ade29b6b8": {
          "model_module": "@jupyter-widgets/base",
          "model_name": "LayoutModel",
          "model_module_version": "1.2.0",
          "state": {
            "_model_module": "@jupyter-widgets/base",
            "_model_module_version": "1.2.0",
            "_model_name": "LayoutModel",
            "_view_count": null,
            "_view_module": "@jupyter-widgets/base",
            "_view_module_version": "1.2.0",
            "_view_name": "LayoutView",
            "align_content": null,
            "align_items": null,
            "align_self": null,
            "border": null,
            "bottom": null,
            "display": null,
            "flex": null,
            "flex_flow": null,
            "grid_area": null,
            "grid_auto_columns": null,
            "grid_auto_flow": null,
            "grid_auto_rows": null,
            "grid_column": null,
            "grid_gap": null,
            "grid_row": null,
            "grid_template_areas": null,
            "grid_template_columns": null,
            "grid_template_rows": null,
            "height": null,
            "justify_content": null,
            "justify_items": null,
            "left": null,
            "margin": null,
            "max_height": null,
            "max_width": null,
            "min_height": null,
            "min_width": null,
            "object_fit": null,
            "object_position": null,
            "order": null,
            "overflow": null,
            "overflow_x": null,
            "overflow_y": null,
            "padding": null,
            "right": null,
            "top": null,
            "visibility": null,
            "width": null
          }
        },
        "b9cedd65588047ec9754ef9f76e93ae8": {
          "model_module": "@jupyter-widgets/controls",
          "model_name": "DescriptionStyleModel",
          "model_module_version": "1.5.0",
          "state": {
            "_model_module": "@jupyter-widgets/controls",
            "_model_module_version": "1.5.0",
            "_model_name": "DescriptionStyleModel",
            "_view_count": null,
            "_view_module": "@jupyter-widgets/base",
            "_view_module_version": "1.2.0",
            "_view_name": "StyleView",
            "description_width": ""
          }
        },
        "b0314e5bb0934b6899424c856178f25d": {
          "model_module": "@jupyter-widgets/base",
          "model_name": "LayoutModel",
          "model_module_version": "1.2.0",
          "state": {
            "_model_module": "@jupyter-widgets/base",
            "_model_module_version": "1.2.0",
            "_model_name": "LayoutModel",
            "_view_count": null,
            "_view_module": "@jupyter-widgets/base",
            "_view_module_version": "1.2.0",
            "_view_name": "LayoutView",
            "align_content": null,
            "align_items": null,
            "align_self": null,
            "border": null,
            "bottom": null,
            "display": null,
            "flex": null,
            "flex_flow": null,
            "grid_area": null,
            "grid_auto_columns": null,
            "grid_auto_flow": null,
            "grid_auto_rows": null,
            "grid_column": null,
            "grid_gap": null,
            "grid_row": null,
            "grid_template_areas": null,
            "grid_template_columns": null,
            "grid_template_rows": null,
            "height": null,
            "justify_content": null,
            "justify_items": null,
            "left": null,
            "margin": null,
            "max_height": null,
            "max_width": null,
            "min_height": null,
            "min_width": null,
            "object_fit": null,
            "object_position": null,
            "order": null,
            "overflow": null,
            "overflow_x": null,
            "overflow_y": null,
            "padding": null,
            "right": null,
            "top": null,
            "visibility": null,
            "width": null
          }
        },
        "81725de5c898402fba84e4cfd51354bc": {
          "model_module": "@jupyter-widgets/controls",
          "model_name": "ProgressStyleModel",
          "model_module_version": "1.5.0",
          "state": {
            "_model_module": "@jupyter-widgets/controls",
            "_model_module_version": "1.5.0",
            "_model_name": "ProgressStyleModel",
            "_view_count": null,
            "_view_module": "@jupyter-widgets/base",
            "_view_module_version": "1.2.0",
            "_view_name": "StyleView",
            "bar_color": null,
            "description_width": ""
          }
        },
        "f5c87efa96ad460496e64d32ef59a7fc": {
          "model_module": "@jupyter-widgets/base",
          "model_name": "LayoutModel",
          "model_module_version": "1.2.0",
          "state": {
            "_model_module": "@jupyter-widgets/base",
            "_model_module_version": "1.2.0",
            "_model_name": "LayoutModel",
            "_view_count": null,
            "_view_module": "@jupyter-widgets/base",
            "_view_module_version": "1.2.0",
            "_view_name": "LayoutView",
            "align_content": null,
            "align_items": null,
            "align_self": null,
            "border": null,
            "bottom": null,
            "display": null,
            "flex": null,
            "flex_flow": null,
            "grid_area": null,
            "grid_auto_columns": null,
            "grid_auto_flow": null,
            "grid_auto_rows": null,
            "grid_column": null,
            "grid_gap": null,
            "grid_row": null,
            "grid_template_areas": null,
            "grid_template_columns": null,
            "grid_template_rows": null,
            "height": null,
            "justify_content": null,
            "justify_items": null,
            "left": null,
            "margin": null,
            "max_height": null,
            "max_width": null,
            "min_height": null,
            "min_width": null,
            "object_fit": null,
            "object_position": null,
            "order": null,
            "overflow": null,
            "overflow_x": null,
            "overflow_y": null,
            "padding": null,
            "right": null,
            "top": null,
            "visibility": null,
            "width": null
          }
        },
        "d1cb4487e7d24f7e9fd43ef96aa5ddb0": {
          "model_module": "@jupyter-widgets/controls",
          "model_name": "DescriptionStyleModel",
          "model_module_version": "1.5.0",
          "state": {
            "_model_module": "@jupyter-widgets/controls",
            "_model_module_version": "1.5.0",
            "_model_name": "DescriptionStyleModel",
            "_view_count": null,
            "_view_module": "@jupyter-widgets/base",
            "_view_module_version": "1.2.0",
            "_view_name": "StyleView",
            "description_width": ""
          }
        },
        "48c312992e69489499b0df9d92f5731f": {
          "model_module": "@jupyter-widgets/controls",
          "model_name": "HBoxModel",
          "model_module_version": "1.5.0",
          "state": {
            "_dom_classes": [],
            "_model_module": "@jupyter-widgets/controls",
            "_model_module_version": "1.5.0",
            "_model_name": "HBoxModel",
            "_view_count": null,
            "_view_module": "@jupyter-widgets/controls",
            "_view_module_version": "1.5.0",
            "_view_name": "HBoxView",
            "box_style": "",
            "children": [
              "IPY_MODEL_ea32db81b3ca466aa94292a249d6b90a",
              "IPY_MODEL_14a85e3a4fae44ca8cfe9b7fb41b669c",
              "IPY_MODEL_cc1b84a36a9145a5828943c695e758fc"
            ],
            "layout": "IPY_MODEL_48565dd90e7a4ce6953406d9e0fc41af"
          }
        },
        "ea32db81b3ca466aa94292a249d6b90a": {
          "model_module": "@jupyter-widgets/controls",
          "model_name": "HTMLModel",
          "model_module_version": "1.5.0",
          "state": {
            "_dom_classes": [],
            "_model_module": "@jupyter-widgets/controls",
            "_model_module_version": "1.5.0",
            "_model_name": "HTMLModel",
            "_view_count": null,
            "_view_module": "@jupyter-widgets/controls",
            "_view_module_version": "1.5.0",
            "_view_name": "HTMLView",
            "description": "",
            "description_tooltip": null,
            "layout": "IPY_MODEL_23a20e1063774ac38bb451c3cf438922",
            "placeholder": "​",
            "style": "IPY_MODEL_0da0c6f711e340299b57b0c58712be25",
            "value": "100%"
          }
        },
        "14a85e3a4fae44ca8cfe9b7fb41b669c": {
          "model_module": "@jupyter-widgets/controls",
          "model_name": "FloatProgressModel",
          "model_module_version": "1.5.0",
          "state": {
            "_dom_classes": [],
            "_model_module": "@jupyter-widgets/controls",
            "_model_module_version": "1.5.0",
            "_model_name": "FloatProgressModel",
            "_view_count": null,
            "_view_module": "@jupyter-widgets/controls",
            "_view_module_version": "1.5.0",
            "_view_name": "ProgressView",
            "bar_style": "success",
            "description": "",
            "description_tooltip": null,
            "layout": "IPY_MODEL_600dc80eabbc4ccd971485dd79aee56c",
            "max": 17,
            "min": 0,
            "orientation": "horizontal",
            "style": "IPY_MODEL_6440291b94984878bb68627632c075d0",
            "value": 17
          }
        },
        "cc1b84a36a9145a5828943c695e758fc": {
          "model_module": "@jupyter-widgets/controls",
          "model_name": "HTMLModel",
          "model_module_version": "1.5.0",
          "state": {
            "_dom_classes": [],
            "_model_module": "@jupyter-widgets/controls",
            "_model_module_version": "1.5.0",
            "_model_name": "HTMLModel",
            "_view_count": null,
            "_view_module": "@jupyter-widgets/controls",
            "_view_module_version": "1.5.0",
            "_view_name": "HTMLView",
            "description": "",
            "description_tooltip": null,
            "layout": "IPY_MODEL_d3832565233d47ae8b35d519ddbdecd9",
            "placeholder": "​",
            "style": "IPY_MODEL_8061a0bc243a47e99a65054277fcae7c",
            "value": " 17/17 [00:00&lt;00:00, 27.46ba/s]"
          }
        },
        "48565dd90e7a4ce6953406d9e0fc41af": {
          "model_module": "@jupyter-widgets/base",
          "model_name": "LayoutModel",
          "model_module_version": "1.2.0",
          "state": {
            "_model_module": "@jupyter-widgets/base",
            "_model_module_version": "1.2.0",
            "_model_name": "LayoutModel",
            "_view_count": null,
            "_view_module": "@jupyter-widgets/base",
            "_view_module_version": "1.2.0",
            "_view_name": "LayoutView",
            "align_content": null,
            "align_items": null,
            "align_self": null,
            "border": null,
            "bottom": null,
            "display": null,
            "flex": null,
            "flex_flow": null,
            "grid_area": null,
            "grid_auto_columns": null,
            "grid_auto_flow": null,
            "grid_auto_rows": null,
            "grid_column": null,
            "grid_gap": null,
            "grid_row": null,
            "grid_template_areas": null,
            "grid_template_columns": null,
            "grid_template_rows": null,
            "height": null,
            "justify_content": null,
            "justify_items": null,
            "left": null,
            "margin": null,
            "max_height": null,
            "max_width": null,
            "min_height": null,
            "min_width": null,
            "object_fit": null,
            "object_position": null,
            "order": null,
            "overflow": null,
            "overflow_x": null,
            "overflow_y": null,
            "padding": null,
            "right": null,
            "top": null,
            "visibility": null,
            "width": null
          }
        },
        "23a20e1063774ac38bb451c3cf438922": {
          "model_module": "@jupyter-widgets/base",
          "model_name": "LayoutModel",
          "model_module_version": "1.2.0",
          "state": {
            "_model_module": "@jupyter-widgets/base",
            "_model_module_version": "1.2.0",
            "_model_name": "LayoutModel",
            "_view_count": null,
            "_view_module": "@jupyter-widgets/base",
            "_view_module_version": "1.2.0",
            "_view_name": "LayoutView",
            "align_content": null,
            "align_items": null,
            "align_self": null,
            "border": null,
            "bottom": null,
            "display": null,
            "flex": null,
            "flex_flow": null,
            "grid_area": null,
            "grid_auto_columns": null,
            "grid_auto_flow": null,
            "grid_auto_rows": null,
            "grid_column": null,
            "grid_gap": null,
            "grid_row": null,
            "grid_template_areas": null,
            "grid_template_columns": null,
            "grid_template_rows": null,
            "height": null,
            "justify_content": null,
            "justify_items": null,
            "left": null,
            "margin": null,
            "max_height": null,
            "max_width": null,
            "min_height": null,
            "min_width": null,
            "object_fit": null,
            "object_position": null,
            "order": null,
            "overflow": null,
            "overflow_x": null,
            "overflow_y": null,
            "padding": null,
            "right": null,
            "top": null,
            "visibility": null,
            "width": null
          }
        },
        "0da0c6f711e340299b57b0c58712be25": {
          "model_module": "@jupyter-widgets/controls",
          "model_name": "DescriptionStyleModel",
          "model_module_version": "1.5.0",
          "state": {
            "_model_module": "@jupyter-widgets/controls",
            "_model_module_version": "1.5.0",
            "_model_name": "DescriptionStyleModel",
            "_view_count": null,
            "_view_module": "@jupyter-widgets/base",
            "_view_module_version": "1.2.0",
            "_view_name": "StyleView",
            "description_width": ""
          }
        },
        "600dc80eabbc4ccd971485dd79aee56c": {
          "model_module": "@jupyter-widgets/base",
          "model_name": "LayoutModel",
          "model_module_version": "1.2.0",
          "state": {
            "_model_module": "@jupyter-widgets/base",
            "_model_module_version": "1.2.0",
            "_model_name": "LayoutModel",
            "_view_count": null,
            "_view_module": "@jupyter-widgets/base",
            "_view_module_version": "1.2.0",
            "_view_name": "LayoutView",
            "align_content": null,
            "align_items": null,
            "align_self": null,
            "border": null,
            "bottom": null,
            "display": null,
            "flex": null,
            "flex_flow": null,
            "grid_area": null,
            "grid_auto_columns": null,
            "grid_auto_flow": null,
            "grid_auto_rows": null,
            "grid_column": null,
            "grid_gap": null,
            "grid_row": null,
            "grid_template_areas": null,
            "grid_template_columns": null,
            "grid_template_rows": null,
            "height": null,
            "justify_content": null,
            "justify_items": null,
            "left": null,
            "margin": null,
            "max_height": null,
            "max_width": null,
            "min_height": null,
            "min_width": null,
            "object_fit": null,
            "object_position": null,
            "order": null,
            "overflow": null,
            "overflow_x": null,
            "overflow_y": null,
            "padding": null,
            "right": null,
            "top": null,
            "visibility": null,
            "width": null
          }
        },
        "6440291b94984878bb68627632c075d0": {
          "model_module": "@jupyter-widgets/controls",
          "model_name": "ProgressStyleModel",
          "model_module_version": "1.5.0",
          "state": {
            "_model_module": "@jupyter-widgets/controls",
            "_model_module_version": "1.5.0",
            "_model_name": "ProgressStyleModel",
            "_view_count": null,
            "_view_module": "@jupyter-widgets/base",
            "_view_module_version": "1.2.0",
            "_view_name": "StyleView",
            "bar_color": null,
            "description_width": ""
          }
        },
        "d3832565233d47ae8b35d519ddbdecd9": {
          "model_module": "@jupyter-widgets/base",
          "model_name": "LayoutModel",
          "model_module_version": "1.2.0",
          "state": {
            "_model_module": "@jupyter-widgets/base",
            "_model_module_version": "1.2.0",
            "_model_name": "LayoutModel",
            "_view_count": null,
            "_view_module": "@jupyter-widgets/base",
            "_view_module_version": "1.2.0",
            "_view_name": "LayoutView",
            "align_content": null,
            "align_items": null,
            "align_self": null,
            "border": null,
            "bottom": null,
            "display": null,
            "flex": null,
            "flex_flow": null,
            "grid_area": null,
            "grid_auto_columns": null,
            "grid_auto_flow": null,
            "grid_auto_rows": null,
            "grid_column": null,
            "grid_gap": null,
            "grid_row": null,
            "grid_template_areas": null,
            "grid_template_columns": null,
            "grid_template_rows": null,
            "height": null,
            "justify_content": null,
            "justify_items": null,
            "left": null,
            "margin": null,
            "max_height": null,
            "max_width": null,
            "min_height": null,
            "min_width": null,
            "object_fit": null,
            "object_position": null,
            "order": null,
            "overflow": null,
            "overflow_x": null,
            "overflow_y": null,
            "padding": null,
            "right": null,
            "top": null,
            "visibility": null,
            "width": null
          }
        },
        "8061a0bc243a47e99a65054277fcae7c": {
          "model_module": "@jupyter-widgets/controls",
          "model_name": "DescriptionStyleModel",
          "model_module_version": "1.5.0",
          "state": {
            "_model_module": "@jupyter-widgets/controls",
            "_model_module_version": "1.5.0",
            "_model_name": "DescriptionStyleModel",
            "_view_count": null,
            "_view_module": "@jupyter-widgets/base",
            "_view_module_version": "1.2.0",
            "_view_name": "StyleView",
            "description_width": ""
          }
        },
        "5cb8db0da56e455b8d68b68025e61870": {
          "model_module": "@jupyter-widgets/controls",
          "model_name": "HBoxModel",
          "model_module_version": "1.5.0",
          "state": {
            "_dom_classes": [],
            "_model_module": "@jupyter-widgets/controls",
            "_model_module_version": "1.5.0",
            "_model_name": "HBoxModel",
            "_view_count": null,
            "_view_module": "@jupyter-widgets/controls",
            "_view_module_version": "1.5.0",
            "_view_name": "HBoxView",
            "box_style": "",
            "children": [
              "IPY_MODEL_e86cfa14f129480091ad2354ec0ad208",
              "IPY_MODEL_9bd82fb5b2f24720bd1e8b6c8b355675",
              "IPY_MODEL_f59e144c6cb24096af7f247a4e8c76c0"
            ],
            "layout": "IPY_MODEL_0b8b646c36814f0cb39e055435b93efc"
          }
        },
        "e86cfa14f129480091ad2354ec0ad208": {
          "model_module": "@jupyter-widgets/controls",
          "model_name": "HTMLModel",
          "model_module_version": "1.5.0",
          "state": {
            "_dom_classes": [],
            "_model_module": "@jupyter-widgets/controls",
            "_model_module_version": "1.5.0",
            "_model_name": "HTMLModel",
            "_view_count": null,
            "_view_module": "@jupyter-widgets/controls",
            "_view_module_version": "1.5.0",
            "_view_name": "HTMLView",
            "description": "",
            "description_tooltip": null,
            "layout": "IPY_MODEL_110812bc4e3c42c6b036079b5fb5e310",
            "placeholder": "​",
            "style": "IPY_MODEL_282c2641fd244cedb1e7a8df7b4365e0",
            "value": "100%"
          }
        },
        "9bd82fb5b2f24720bd1e8b6c8b355675": {
          "model_module": "@jupyter-widgets/controls",
          "model_name": "FloatProgressModel",
          "model_module_version": "1.5.0",
          "state": {
            "_dom_classes": [],
            "_model_module": "@jupyter-widgets/controls",
            "_model_module_version": "1.5.0",
            "_model_name": "FloatProgressModel",
            "_view_count": null,
            "_view_module": "@jupyter-widgets/controls",
            "_view_module_version": "1.5.0",
            "_view_name": "ProgressView",
            "bar_style": "success",
            "description": "",
            "description_tooltip": null,
            "layout": "IPY_MODEL_7b184f38eedb47aabadf8f5e54eda23a",
            "max": 15,
            "min": 0,
            "orientation": "horizontal",
            "style": "IPY_MODEL_d027ab898eb043f79be8e85fdc1bd843",
            "value": 15
          }
        },
        "f59e144c6cb24096af7f247a4e8c76c0": {
          "model_module": "@jupyter-widgets/controls",
          "model_name": "HTMLModel",
          "model_module_version": "1.5.0",
          "state": {
            "_dom_classes": [],
            "_model_module": "@jupyter-widgets/controls",
            "_model_module_version": "1.5.0",
            "_model_name": "HTMLModel",
            "_view_count": null,
            "_view_module": "@jupyter-widgets/controls",
            "_view_module_version": "1.5.0",
            "_view_name": "HTMLView",
            "description": "",
            "description_tooltip": null,
            "layout": "IPY_MODEL_6c4194e83769446f9062de6bcd4aadfe",
            "placeholder": "​",
            "style": "IPY_MODEL_66bdb1bffff448569dee302b806e12cb",
            "value": " 15/15 [00:00&lt;00:00, 26.72ba/s]"
          }
        },
        "0b8b646c36814f0cb39e055435b93efc": {
          "model_module": "@jupyter-widgets/base",
          "model_name": "LayoutModel",
          "model_module_version": "1.2.0",
          "state": {
            "_model_module": "@jupyter-widgets/base",
            "_model_module_version": "1.2.0",
            "_model_name": "LayoutModel",
            "_view_count": null,
            "_view_module": "@jupyter-widgets/base",
            "_view_module_version": "1.2.0",
            "_view_name": "LayoutView",
            "align_content": null,
            "align_items": null,
            "align_self": null,
            "border": null,
            "bottom": null,
            "display": null,
            "flex": null,
            "flex_flow": null,
            "grid_area": null,
            "grid_auto_columns": null,
            "grid_auto_flow": null,
            "grid_auto_rows": null,
            "grid_column": null,
            "grid_gap": null,
            "grid_row": null,
            "grid_template_areas": null,
            "grid_template_columns": null,
            "grid_template_rows": null,
            "height": null,
            "justify_content": null,
            "justify_items": null,
            "left": null,
            "margin": null,
            "max_height": null,
            "max_width": null,
            "min_height": null,
            "min_width": null,
            "object_fit": null,
            "object_position": null,
            "order": null,
            "overflow": null,
            "overflow_x": null,
            "overflow_y": null,
            "padding": null,
            "right": null,
            "top": null,
            "visibility": null,
            "width": null
          }
        },
        "110812bc4e3c42c6b036079b5fb5e310": {
          "model_module": "@jupyter-widgets/base",
          "model_name": "LayoutModel",
          "model_module_version": "1.2.0",
          "state": {
            "_model_module": "@jupyter-widgets/base",
            "_model_module_version": "1.2.0",
            "_model_name": "LayoutModel",
            "_view_count": null,
            "_view_module": "@jupyter-widgets/base",
            "_view_module_version": "1.2.0",
            "_view_name": "LayoutView",
            "align_content": null,
            "align_items": null,
            "align_self": null,
            "border": null,
            "bottom": null,
            "display": null,
            "flex": null,
            "flex_flow": null,
            "grid_area": null,
            "grid_auto_columns": null,
            "grid_auto_flow": null,
            "grid_auto_rows": null,
            "grid_column": null,
            "grid_gap": null,
            "grid_row": null,
            "grid_template_areas": null,
            "grid_template_columns": null,
            "grid_template_rows": null,
            "height": null,
            "justify_content": null,
            "justify_items": null,
            "left": null,
            "margin": null,
            "max_height": null,
            "max_width": null,
            "min_height": null,
            "min_width": null,
            "object_fit": null,
            "object_position": null,
            "order": null,
            "overflow": null,
            "overflow_x": null,
            "overflow_y": null,
            "padding": null,
            "right": null,
            "top": null,
            "visibility": null,
            "width": null
          }
        },
        "282c2641fd244cedb1e7a8df7b4365e0": {
          "model_module": "@jupyter-widgets/controls",
          "model_name": "DescriptionStyleModel",
          "model_module_version": "1.5.0",
          "state": {
            "_model_module": "@jupyter-widgets/controls",
            "_model_module_version": "1.5.0",
            "_model_name": "DescriptionStyleModel",
            "_view_count": null,
            "_view_module": "@jupyter-widgets/base",
            "_view_module_version": "1.2.0",
            "_view_name": "StyleView",
            "description_width": ""
          }
        },
        "7b184f38eedb47aabadf8f5e54eda23a": {
          "model_module": "@jupyter-widgets/base",
          "model_name": "LayoutModel",
          "model_module_version": "1.2.0",
          "state": {
            "_model_module": "@jupyter-widgets/base",
            "_model_module_version": "1.2.0",
            "_model_name": "LayoutModel",
            "_view_count": null,
            "_view_module": "@jupyter-widgets/base",
            "_view_module_version": "1.2.0",
            "_view_name": "LayoutView",
            "align_content": null,
            "align_items": null,
            "align_self": null,
            "border": null,
            "bottom": null,
            "display": null,
            "flex": null,
            "flex_flow": null,
            "grid_area": null,
            "grid_auto_columns": null,
            "grid_auto_flow": null,
            "grid_auto_rows": null,
            "grid_column": null,
            "grid_gap": null,
            "grid_row": null,
            "grid_template_areas": null,
            "grid_template_columns": null,
            "grid_template_rows": null,
            "height": null,
            "justify_content": null,
            "justify_items": null,
            "left": null,
            "margin": null,
            "max_height": null,
            "max_width": null,
            "min_height": null,
            "min_width": null,
            "object_fit": null,
            "object_position": null,
            "order": null,
            "overflow": null,
            "overflow_x": null,
            "overflow_y": null,
            "padding": null,
            "right": null,
            "top": null,
            "visibility": null,
            "width": null
          }
        },
        "d027ab898eb043f79be8e85fdc1bd843": {
          "model_module": "@jupyter-widgets/controls",
          "model_name": "ProgressStyleModel",
          "model_module_version": "1.5.0",
          "state": {
            "_model_module": "@jupyter-widgets/controls",
            "_model_module_version": "1.5.0",
            "_model_name": "ProgressStyleModel",
            "_view_count": null,
            "_view_module": "@jupyter-widgets/base",
            "_view_module_version": "1.2.0",
            "_view_name": "StyleView",
            "bar_color": null,
            "description_width": ""
          }
        },
        "6c4194e83769446f9062de6bcd4aadfe": {
          "model_module": "@jupyter-widgets/base",
          "model_name": "LayoutModel",
          "model_module_version": "1.2.0",
          "state": {
            "_model_module": "@jupyter-widgets/base",
            "_model_module_version": "1.2.0",
            "_model_name": "LayoutModel",
            "_view_count": null,
            "_view_module": "@jupyter-widgets/base",
            "_view_module_version": "1.2.0",
            "_view_name": "LayoutView",
            "align_content": null,
            "align_items": null,
            "align_self": null,
            "border": null,
            "bottom": null,
            "display": null,
            "flex": null,
            "flex_flow": null,
            "grid_area": null,
            "grid_auto_columns": null,
            "grid_auto_flow": null,
            "grid_auto_rows": null,
            "grid_column": null,
            "grid_gap": null,
            "grid_row": null,
            "grid_template_areas": null,
            "grid_template_columns": null,
            "grid_template_rows": null,
            "height": null,
            "justify_content": null,
            "justify_items": null,
            "left": null,
            "margin": null,
            "max_height": null,
            "max_width": null,
            "min_height": null,
            "min_width": null,
            "object_fit": null,
            "object_position": null,
            "order": null,
            "overflow": null,
            "overflow_x": null,
            "overflow_y": null,
            "padding": null,
            "right": null,
            "top": null,
            "visibility": null,
            "width": null
          }
        },
        "66bdb1bffff448569dee302b806e12cb": {
          "model_module": "@jupyter-widgets/controls",
          "model_name": "DescriptionStyleModel",
          "model_module_version": "1.5.0",
          "state": {
            "_model_module": "@jupyter-widgets/controls",
            "_model_module_version": "1.5.0",
            "_model_name": "DescriptionStyleModel",
            "_view_count": null,
            "_view_module": "@jupyter-widgets/base",
            "_view_module_version": "1.2.0",
            "_view_name": "StyleView",
            "description_width": ""
          }
        },
        "f82ad61547eb4fb38805b76c97792a74": {
          "model_module": "@jupyter-widgets/controls",
          "model_name": "HBoxModel",
          "model_module_version": "1.5.0",
          "state": {
            "_dom_classes": [],
            "_model_module": "@jupyter-widgets/controls",
            "_model_module_version": "1.5.0",
            "_model_name": "HBoxModel",
            "_view_count": null,
            "_view_module": "@jupyter-widgets/controls",
            "_view_module_version": "1.5.0",
            "_view_name": "HBoxView",
            "box_style": "",
            "children": [
              "IPY_MODEL_2ddc40cd9cd6459aa069e17757098e4b",
              "IPY_MODEL_924526e78df942cb8f0199551c2554b4",
              "IPY_MODEL_ec402746c03047adb5b0fce32608b5b8"
            ],
            "layout": "IPY_MODEL_74436bfa8f4d4cbdb21fc363058ba3f2"
          }
        },
        "2ddc40cd9cd6459aa069e17757098e4b": {
          "model_module": "@jupyter-widgets/controls",
          "model_name": "HTMLModel",
          "model_module_version": "1.5.0",
          "state": {
            "_dom_classes": [],
            "_model_module": "@jupyter-widgets/controls",
            "_model_module_version": "1.5.0",
            "_model_name": "HTMLModel",
            "_view_count": null,
            "_view_module": "@jupyter-widgets/controls",
            "_view_module_version": "1.5.0",
            "_view_name": "HTMLView",
            "description": "",
            "description_tooltip": null,
            "layout": "IPY_MODEL_19d089855c314daeb37f37c0d29914cc",
            "placeholder": "​",
            "style": "IPY_MODEL_0fcabf956e1c433196753d5de1987822",
            "value": "100%"
          }
        },
        "924526e78df942cb8f0199551c2554b4": {
          "model_module": "@jupyter-widgets/controls",
          "model_name": "FloatProgressModel",
          "model_module_version": "1.5.0",
          "state": {
            "_dom_classes": [],
            "_model_module": "@jupyter-widgets/controls",
            "_model_module_version": "1.5.0",
            "_model_name": "FloatProgressModel",
            "_view_count": null,
            "_view_module": "@jupyter-widgets/controls",
            "_view_module_version": "1.5.0",
            "_view_name": "ProgressView",
            "bar_style": "success",
            "description": "",
            "description_tooltip": null,
            "layout": "IPY_MODEL_123c2d4ac9ed49f48ed39ad571731ce1",
            "max": 1,
            "min": 0,
            "orientation": "horizontal",
            "style": "IPY_MODEL_476b7357a51641a5930c7340ea39b475",
            "value": 1
          }
        },
        "ec402746c03047adb5b0fce32608b5b8": {
          "model_module": "@jupyter-widgets/controls",
          "model_name": "HTMLModel",
          "model_module_version": "1.5.0",
          "state": {
            "_dom_classes": [],
            "_model_module": "@jupyter-widgets/controls",
            "_model_module_version": "1.5.0",
            "_model_name": "HTMLModel",
            "_view_count": null,
            "_view_module": "@jupyter-widgets/controls",
            "_view_module_version": "1.5.0",
            "_view_name": "HTMLView",
            "description": "",
            "description_tooltip": null,
            "layout": "IPY_MODEL_ceaf8841d6c344e894e3796de680ce04",
            "placeholder": "​",
            "style": "IPY_MODEL_1a519d33320c4e6b8dfe11a5b246e1ce",
            "value": " 1/1 [00:00&lt;00:00, 33.87it/s]"
          }
        },
        "74436bfa8f4d4cbdb21fc363058ba3f2": {
          "model_module": "@jupyter-widgets/base",
          "model_name": "LayoutModel",
          "model_module_version": "1.2.0",
          "state": {
            "_model_module": "@jupyter-widgets/base",
            "_model_module_version": "1.2.0",
            "_model_name": "LayoutModel",
            "_view_count": null,
            "_view_module": "@jupyter-widgets/base",
            "_view_module_version": "1.2.0",
            "_view_name": "LayoutView",
            "align_content": null,
            "align_items": null,
            "align_self": null,
            "border": null,
            "bottom": null,
            "display": null,
            "flex": null,
            "flex_flow": null,
            "grid_area": null,
            "grid_auto_columns": null,
            "grid_auto_flow": null,
            "grid_auto_rows": null,
            "grid_column": null,
            "grid_gap": null,
            "grid_row": null,
            "grid_template_areas": null,
            "grid_template_columns": null,
            "grid_template_rows": null,
            "height": null,
            "justify_content": null,
            "justify_items": null,
            "left": null,
            "margin": null,
            "max_height": null,
            "max_width": null,
            "min_height": null,
            "min_width": null,
            "object_fit": null,
            "object_position": null,
            "order": null,
            "overflow": null,
            "overflow_x": null,
            "overflow_y": null,
            "padding": null,
            "right": null,
            "top": null,
            "visibility": null,
            "width": null
          }
        },
        "19d089855c314daeb37f37c0d29914cc": {
          "model_module": "@jupyter-widgets/base",
          "model_name": "LayoutModel",
          "model_module_version": "1.2.0",
          "state": {
            "_model_module": "@jupyter-widgets/base",
            "_model_module_version": "1.2.0",
            "_model_name": "LayoutModel",
            "_view_count": null,
            "_view_module": "@jupyter-widgets/base",
            "_view_module_version": "1.2.0",
            "_view_name": "LayoutView",
            "align_content": null,
            "align_items": null,
            "align_self": null,
            "border": null,
            "bottom": null,
            "display": null,
            "flex": null,
            "flex_flow": null,
            "grid_area": null,
            "grid_auto_columns": null,
            "grid_auto_flow": null,
            "grid_auto_rows": null,
            "grid_column": null,
            "grid_gap": null,
            "grid_row": null,
            "grid_template_areas": null,
            "grid_template_columns": null,
            "grid_template_rows": null,
            "height": null,
            "justify_content": null,
            "justify_items": null,
            "left": null,
            "margin": null,
            "max_height": null,
            "max_width": null,
            "min_height": null,
            "min_width": null,
            "object_fit": null,
            "object_position": null,
            "order": null,
            "overflow": null,
            "overflow_x": null,
            "overflow_y": null,
            "padding": null,
            "right": null,
            "top": null,
            "visibility": null,
            "width": null
          }
        },
        "0fcabf956e1c433196753d5de1987822": {
          "model_module": "@jupyter-widgets/controls",
          "model_name": "DescriptionStyleModel",
          "model_module_version": "1.5.0",
          "state": {
            "_model_module": "@jupyter-widgets/controls",
            "_model_module_version": "1.5.0",
            "_model_name": "DescriptionStyleModel",
            "_view_count": null,
            "_view_module": "@jupyter-widgets/base",
            "_view_module_version": "1.2.0",
            "_view_name": "StyleView",
            "description_width": ""
          }
        },
        "123c2d4ac9ed49f48ed39ad571731ce1": {
          "model_module": "@jupyter-widgets/base",
          "model_name": "LayoutModel",
          "model_module_version": "1.2.0",
          "state": {
            "_model_module": "@jupyter-widgets/base",
            "_model_module_version": "1.2.0",
            "_model_name": "LayoutModel",
            "_view_count": null,
            "_view_module": "@jupyter-widgets/base",
            "_view_module_version": "1.2.0",
            "_view_name": "LayoutView",
            "align_content": null,
            "align_items": null,
            "align_self": null,
            "border": null,
            "bottom": null,
            "display": null,
            "flex": null,
            "flex_flow": null,
            "grid_area": null,
            "grid_auto_columns": null,
            "grid_auto_flow": null,
            "grid_auto_rows": null,
            "grid_column": null,
            "grid_gap": null,
            "grid_row": null,
            "grid_template_areas": null,
            "grid_template_columns": null,
            "grid_template_rows": null,
            "height": null,
            "justify_content": null,
            "justify_items": null,
            "left": null,
            "margin": null,
            "max_height": null,
            "max_width": null,
            "min_height": null,
            "min_width": null,
            "object_fit": null,
            "object_position": null,
            "order": null,
            "overflow": null,
            "overflow_x": null,
            "overflow_y": null,
            "padding": null,
            "right": null,
            "top": null,
            "visibility": null,
            "width": null
          }
        },
        "476b7357a51641a5930c7340ea39b475": {
          "model_module": "@jupyter-widgets/controls",
          "model_name": "ProgressStyleModel",
          "model_module_version": "1.5.0",
          "state": {
            "_model_module": "@jupyter-widgets/controls",
            "_model_module_version": "1.5.0",
            "_model_name": "ProgressStyleModel",
            "_view_count": null,
            "_view_module": "@jupyter-widgets/base",
            "_view_module_version": "1.2.0",
            "_view_name": "StyleView",
            "bar_color": null,
            "description_width": ""
          }
        },
        "ceaf8841d6c344e894e3796de680ce04": {
          "model_module": "@jupyter-widgets/base",
          "model_name": "LayoutModel",
          "model_module_version": "1.2.0",
          "state": {
            "_model_module": "@jupyter-widgets/base",
            "_model_module_version": "1.2.0",
            "_model_name": "LayoutModel",
            "_view_count": null,
            "_view_module": "@jupyter-widgets/base",
            "_view_module_version": "1.2.0",
            "_view_name": "LayoutView",
            "align_content": null,
            "align_items": null,
            "align_self": null,
            "border": null,
            "bottom": null,
            "display": null,
            "flex": null,
            "flex_flow": null,
            "grid_area": null,
            "grid_auto_columns": null,
            "grid_auto_flow": null,
            "grid_auto_rows": null,
            "grid_column": null,
            "grid_gap": null,
            "grid_row": null,
            "grid_template_areas": null,
            "grid_template_columns": null,
            "grid_template_rows": null,
            "height": null,
            "justify_content": null,
            "justify_items": null,
            "left": null,
            "margin": null,
            "max_height": null,
            "max_width": null,
            "min_height": null,
            "min_width": null,
            "object_fit": null,
            "object_position": null,
            "order": null,
            "overflow": null,
            "overflow_x": null,
            "overflow_y": null,
            "padding": null,
            "right": null,
            "top": null,
            "visibility": null,
            "width": null
          }
        },
        "1a519d33320c4e6b8dfe11a5b246e1ce": {
          "model_module": "@jupyter-widgets/controls",
          "model_name": "DescriptionStyleModel",
          "model_module_version": "1.5.0",
          "state": {
            "_model_module": "@jupyter-widgets/controls",
            "_model_module_version": "1.5.0",
            "_model_name": "DescriptionStyleModel",
            "_view_count": null,
            "_view_module": "@jupyter-widgets/base",
            "_view_module_version": "1.2.0",
            "_view_name": "StyleView",
            "description_width": ""
          }
        }
      }
    }
  },
  "cells": [
    {
      "cell_type": "code",
      "source": [
        "from google.colab import drive\n",
        "drive.mount('/content/drive')"
      ],
      "metadata": {
        "colab": {
          "base_uri": "https://localhost:8080/"
        },
        "id": "svYJ-5SVGNDr",
        "outputId": "b78f3bc4-82b4-4c08-91b5-186bc02203ac"
      },
      "execution_count": null,
      "outputs": [
        {
          "output_type": "stream",
          "name": "stdout",
          "text": [
            "Drive already mounted at /content/drive; to attempt to forcibly remount, call drive.mount(\"/content/drive\", force_remount=True).\n"
          ]
        }
      ]
    },
    {
      "cell_type": "code",
      "source": [
        "%%capture\n",
        "!pip install datasets\n",
        "!pip install --upgrade arabic-reshaper\n",
        "!pip install python-bidi"
      ],
      "metadata": {
        "id": "t-W77h4TdwPT"
      },
      "execution_count": null,
      "outputs": []
    },
    {
      "cell_type": "markdown",
      "source": [
        "##We choose fixed 3 as fixed 4 is only prepared for meter classification"
      ],
      "metadata": {
        "id": "VzRvLqul0Ktt"
      }
    },
    {
      "cell_type": "code",
      "execution_count": null,
      "metadata": {
        "id": "Q0PAdChzvSP7"
      },
      "outputs": [],
      "source": [
        "!cp /content/drive/MyDrive/Research/Barmajan/ashaar_more_deduplicated_issues_fixed_3.json ashaar.json"
      ]
    },
    {
      "cell_type": "code",
      "source": [
        "import pandas as pd\n",
        "import json"
      ],
      "metadata": {
        "id": "_901f77cvYZJ"
      },
      "execution_count": null,
      "outputs": []
    },
    {
      "cell_type": "code",
      "source": [
        "df = pd.read_json('ashaar.json')\n",
        "df"
      ],
      "metadata": {
        "id": "q88F3RLmvi9F",
        "colab": {
          "base_uri": "https://localhost:8080/",
          "height": 797
        },
        "outputId": "c30fdd7f-c991-451a-c739-8028c5d11f52"
      },
      "execution_count": null,
      "outputs": [
        {
          "output_type": "execute_result",
          "data": {
            "text/plain": [
              "                       poem title       poem meter  \\\n",
              "0       أصبح الملك للذي فطر الخلق       بحر الخفيف   \n",
              "1                من أي مولى ارتجي  بحر مجزوء الرمل   \n",
              "2       العبد عبدك يا من أنت سيده       بحر البسيط   \n",
              "3       لو كنت أطمع بالمنام توهما       بحر الكامل   \n",
              "4            يعد علي أنفاسي ذنوبا       بحر الوافر   \n",
              "...                           ...              ...   \n",
              "254625                       None          المضارع   \n",
              "254626                       None          المضارع   \n",
              "254627                       None          المضارع   \n",
              "254628                       None          المضارع   \n",
              "254629                       None          المضارع   \n",
              "\n",
              "                                              poem verses   poem theme  \\\n",
              "0       [أَصبَحَ المُلك لِلَّذي فَطر الخَل, قَ بِتَقدي...  قصيدة دينية   \n",
              "1       [مِن أَي مَولى اِرتَجي, وَلاي باب التَجي, وَال...  قصيدة دينية   \n",
              "2       [العَبد عَبدك يا مَن أَنتَ سَيدهُ, وَلَيسَ غَي...     قصيدة ذم   \n",
              "3       [لَو كُنتَ أَطمَع بِالمَنام تَوهما, لَسالَت طَ...   قصيدة عامه   \n",
              "4       [يعد عَليَّ أَنفاسي ذُنوباً, إِذا ما قُلت أَفد...   قصيدة عامه   \n",
              "...                                                   ...          ...   \n",
              "254625                [وعندنا ليس محض, إلى الشرق أن تولي]         None   \n",
              "254626                  [من الليالي نهار, ومن عتمها ضياء]         None   \n",
              "254627                 [مقامه إذ تجلى, وفي البيد إذ تحلى]         None   \n",
              "254628  [على بابك انتظرنا, وفي البال ألف حيلة, من الوص...         None   \n",
              "254629  [خذ الصفر لا تبالي, فللصفر للرجال, وليس في ذاك...         None   \n",
              "\n",
              "                                      poem url           poet name  \\\n",
              "0       https://www.aldiwan.net/poem16182.html    الامير منجك باشا   \n",
              "1       https://www.aldiwan.net/poem16183.html    الامير منجك باشا   \n",
              "2       https://www.aldiwan.net/poem16184.html    الامير منجك باشا   \n",
              "3       https://www.aldiwan.net/poem16185.html    الامير منجك باشا   \n",
              "4       https://www.aldiwan.net/poem16186.html    الامير منجك باشا   \n",
              "...                                        ...                 ...   \n",
              "254625                                    None  dataset collectors   \n",
              "254626                                    None  dataset collectors   \n",
              "254627                                    None  dataset collectors   \n",
              "254628                                    None  dataset collectors   \n",
              "254629                                    None  dataset collectors   \n",
              "\n",
              "                                         poet description  \\\n",
              "0       منجك بن محمد بن منجك بن ابي بكر بن عبد القادر ...   \n",
              "1       منجك بن محمد بن منجك بن ابي بكر بن عبد القادر ...   \n",
              "2       منجك بن محمد بن منجك بن ابي بكر بن عبد القادر ...   \n",
              "3       منجك بن محمد بن منجك بن ابي بكر بن عبد القادر ...   \n",
              "4       منجك بن محمد بن منجك بن ابي بكر بن عبد القادر ...   \n",
              "...                                                   ...   \n",
              "254625                                               None   \n",
              "254626                                               None   \n",
              "254627                                               None   \n",
              "254628                                               None   \n",
              "254629                                               None   \n",
              "\n",
              "                                                 poet url        poet era  \\\n",
              "0       https://www.aldiwan.net/cat-poet-alamir-mnczyk...  العصر العثماني   \n",
              "1       https://www.aldiwan.net/cat-poet-alamir-mnczyk...  العصر العثماني   \n",
              "2       https://www.aldiwan.net/cat-poet-alamir-mnczyk...  العصر العثماني   \n",
              "3       https://www.aldiwan.net/cat-poet-alamir-mnczyk...  العصر العثماني   \n",
              "4       https://www.aldiwan.net/cat-poet-alamir-mnczyk...  العصر العثماني   \n",
              "...                                                   ...             ...   \n",
              "254625                                               None            None   \n",
              "254626                                               None            None   \n",
              "254627                                               None            None   \n",
              "254628                                               None            None   \n",
              "254629                                               None            None   \n",
              "\n",
              "       poet location poem description poem language type  \n",
              "0               None             None               None  \n",
              "1               None             None               None  \n",
              "2               None             None               None  \n",
              "3               None             None               None  \n",
              "4               None             None               None  \n",
              "...              ...              ...                ...  \n",
              "254625          None             None               فصيح  \n",
              "254626          None             None               فصيح  \n",
              "254627          None             None               فصيح  \n",
              "254628          None             None               فصيح  \n",
              "254629          None             None               فصيح  \n",
              "\n",
              "[254630 rows x 12 columns]"
            ],
            "text/html": [
              "\n",
              "  <div id=\"df-dcc29839-eab7-4cd0-9b2e-a9b849bdbfef\">\n",
              "    <div class=\"colab-df-container\">\n",
              "      <div>\n",
              "<style scoped>\n",
              "    .dataframe tbody tr th:only-of-type {\n",
              "        vertical-align: middle;\n",
              "    }\n",
              "\n",
              "    .dataframe tbody tr th {\n",
              "        vertical-align: top;\n",
              "    }\n",
              "\n",
              "    .dataframe thead th {\n",
              "        text-align: right;\n",
              "    }\n",
              "</style>\n",
              "<table border=\"1\" class=\"dataframe\">\n",
              "  <thead>\n",
              "    <tr style=\"text-align: right;\">\n",
              "      <th></th>\n",
              "      <th>poem title</th>\n",
              "      <th>poem meter</th>\n",
              "      <th>poem verses</th>\n",
              "      <th>poem theme</th>\n",
              "      <th>poem url</th>\n",
              "      <th>poet name</th>\n",
              "      <th>poet description</th>\n",
              "      <th>poet url</th>\n",
              "      <th>poet era</th>\n",
              "      <th>poet location</th>\n",
              "      <th>poem description</th>\n",
              "      <th>poem language type</th>\n",
              "    </tr>\n",
              "  </thead>\n",
              "  <tbody>\n",
              "    <tr>\n",
              "      <th>0</th>\n",
              "      <td>أصبح الملك للذي فطر الخلق</td>\n",
              "      <td>بحر الخفيف</td>\n",
              "      <td>[أَصبَحَ المُلك لِلَّذي فَطر الخَل, قَ بِتَقدي...</td>\n",
              "      <td>قصيدة دينية</td>\n",
              "      <td>https://www.aldiwan.net/poem16182.html</td>\n",
              "      <td>الامير منجك باشا</td>\n",
              "      <td>منجك بن محمد بن منجك بن ابي بكر بن عبد القادر ...</td>\n",
              "      <td>https://www.aldiwan.net/cat-poet-alamir-mnczyk...</td>\n",
              "      <td>العصر العثماني</td>\n",
              "      <td>None</td>\n",
              "      <td>None</td>\n",
              "      <td>None</td>\n",
              "    </tr>\n",
              "    <tr>\n",
              "      <th>1</th>\n",
              "      <td>من أي مولى ارتجي</td>\n",
              "      <td>بحر مجزوء الرمل</td>\n",
              "      <td>[مِن أَي مَولى اِرتَجي, وَلاي باب التَجي, وَال...</td>\n",
              "      <td>قصيدة دينية</td>\n",
              "      <td>https://www.aldiwan.net/poem16183.html</td>\n",
              "      <td>الامير منجك باشا</td>\n",
              "      <td>منجك بن محمد بن منجك بن ابي بكر بن عبد القادر ...</td>\n",
              "      <td>https://www.aldiwan.net/cat-poet-alamir-mnczyk...</td>\n",
              "      <td>العصر العثماني</td>\n",
              "      <td>None</td>\n",
              "      <td>None</td>\n",
              "      <td>None</td>\n",
              "    </tr>\n",
              "    <tr>\n",
              "      <th>2</th>\n",
              "      <td>العبد عبدك يا من أنت سيده</td>\n",
              "      <td>بحر البسيط</td>\n",
              "      <td>[العَبد عَبدك يا مَن أَنتَ سَيدهُ, وَلَيسَ غَي...</td>\n",
              "      <td>قصيدة ذم</td>\n",
              "      <td>https://www.aldiwan.net/poem16184.html</td>\n",
              "      <td>الامير منجك باشا</td>\n",
              "      <td>منجك بن محمد بن منجك بن ابي بكر بن عبد القادر ...</td>\n",
              "      <td>https://www.aldiwan.net/cat-poet-alamir-mnczyk...</td>\n",
              "      <td>العصر العثماني</td>\n",
              "      <td>None</td>\n",
              "      <td>None</td>\n",
              "      <td>None</td>\n",
              "    </tr>\n",
              "    <tr>\n",
              "      <th>3</th>\n",
              "      <td>لو كنت أطمع بالمنام توهما</td>\n",
              "      <td>بحر الكامل</td>\n",
              "      <td>[لَو كُنتَ أَطمَع بِالمَنام تَوهما, لَسالَت طَ...</td>\n",
              "      <td>قصيدة عامه</td>\n",
              "      <td>https://www.aldiwan.net/poem16185.html</td>\n",
              "      <td>الامير منجك باشا</td>\n",
              "      <td>منجك بن محمد بن منجك بن ابي بكر بن عبد القادر ...</td>\n",
              "      <td>https://www.aldiwan.net/cat-poet-alamir-mnczyk...</td>\n",
              "      <td>العصر العثماني</td>\n",
              "      <td>None</td>\n",
              "      <td>None</td>\n",
              "      <td>None</td>\n",
              "    </tr>\n",
              "    <tr>\n",
              "      <th>4</th>\n",
              "      <td>يعد علي أنفاسي ذنوبا</td>\n",
              "      <td>بحر الوافر</td>\n",
              "      <td>[يعد عَليَّ أَنفاسي ذُنوباً, إِذا ما قُلت أَفد...</td>\n",
              "      <td>قصيدة عامه</td>\n",
              "      <td>https://www.aldiwan.net/poem16186.html</td>\n",
              "      <td>الامير منجك باشا</td>\n",
              "      <td>منجك بن محمد بن منجك بن ابي بكر بن عبد القادر ...</td>\n",
              "      <td>https://www.aldiwan.net/cat-poet-alamir-mnczyk...</td>\n",
              "      <td>العصر العثماني</td>\n",
              "      <td>None</td>\n",
              "      <td>None</td>\n",
              "      <td>None</td>\n",
              "    </tr>\n",
              "    <tr>\n",
              "      <th>...</th>\n",
              "      <td>...</td>\n",
              "      <td>...</td>\n",
              "      <td>...</td>\n",
              "      <td>...</td>\n",
              "      <td>...</td>\n",
              "      <td>...</td>\n",
              "      <td>...</td>\n",
              "      <td>...</td>\n",
              "      <td>...</td>\n",
              "      <td>...</td>\n",
              "      <td>...</td>\n",
              "      <td>...</td>\n",
              "    </tr>\n",
              "    <tr>\n",
              "      <th>254625</th>\n",
              "      <td>None</td>\n",
              "      <td>المضارع</td>\n",
              "      <td>[وعندنا ليس محض, إلى الشرق أن تولي]</td>\n",
              "      <td>None</td>\n",
              "      <td>None</td>\n",
              "      <td>dataset collectors</td>\n",
              "      <td>None</td>\n",
              "      <td>None</td>\n",
              "      <td>None</td>\n",
              "      <td>None</td>\n",
              "      <td>None</td>\n",
              "      <td>فصيح</td>\n",
              "    </tr>\n",
              "    <tr>\n",
              "      <th>254626</th>\n",
              "      <td>None</td>\n",
              "      <td>المضارع</td>\n",
              "      <td>[من الليالي نهار, ومن عتمها ضياء]</td>\n",
              "      <td>None</td>\n",
              "      <td>None</td>\n",
              "      <td>dataset collectors</td>\n",
              "      <td>None</td>\n",
              "      <td>None</td>\n",
              "      <td>None</td>\n",
              "      <td>None</td>\n",
              "      <td>None</td>\n",
              "      <td>فصيح</td>\n",
              "    </tr>\n",
              "    <tr>\n",
              "      <th>254627</th>\n",
              "      <td>None</td>\n",
              "      <td>المضارع</td>\n",
              "      <td>[مقامه إذ تجلى, وفي البيد إذ تحلى]</td>\n",
              "      <td>None</td>\n",
              "      <td>None</td>\n",
              "      <td>dataset collectors</td>\n",
              "      <td>None</td>\n",
              "      <td>None</td>\n",
              "      <td>None</td>\n",
              "      <td>None</td>\n",
              "      <td>None</td>\n",
              "      <td>فصيح</td>\n",
              "    </tr>\n",
              "    <tr>\n",
              "      <th>254628</th>\n",
              "      <td>None</td>\n",
              "      <td>المضارع</td>\n",
              "      <td>[على بابك انتظرنا, وفي البال ألف حيلة, من الوص...</td>\n",
              "      <td>None</td>\n",
              "      <td>None</td>\n",
              "      <td>dataset collectors</td>\n",
              "      <td>None</td>\n",
              "      <td>None</td>\n",
              "      <td>None</td>\n",
              "      <td>None</td>\n",
              "      <td>None</td>\n",
              "      <td>فصيح</td>\n",
              "    </tr>\n",
              "    <tr>\n",
              "      <th>254629</th>\n",
              "      <td>None</td>\n",
              "      <td>المضارع</td>\n",
              "      <td>[خذ الصفر لا تبالي, فللصفر للرجال, وليس في ذاك...</td>\n",
              "      <td>None</td>\n",
              "      <td>None</td>\n",
              "      <td>dataset collectors</td>\n",
              "      <td>None</td>\n",
              "      <td>None</td>\n",
              "      <td>None</td>\n",
              "      <td>None</td>\n",
              "      <td>None</td>\n",
              "      <td>فصيح</td>\n",
              "    </tr>\n",
              "  </tbody>\n",
              "</table>\n",
              "<p>254630 rows × 12 columns</p>\n",
              "</div>\n",
              "      <button class=\"colab-df-convert\" onclick=\"convertToInteractive('df-dcc29839-eab7-4cd0-9b2e-a9b849bdbfef')\"\n",
              "              title=\"Convert this dataframe to an interactive table.\"\n",
              "              style=\"display:none;\">\n",
              "        \n",
              "  <svg xmlns=\"http://www.w3.org/2000/svg\" height=\"24px\"viewBox=\"0 0 24 24\"\n",
              "       width=\"24px\">\n",
              "    <path d=\"M0 0h24v24H0V0z\" fill=\"none\"/>\n",
              "    <path d=\"M18.56 5.44l.94 2.06.94-2.06 2.06-.94-2.06-.94-.94-2.06-.94 2.06-2.06.94zm-11 1L8.5 8.5l.94-2.06 2.06-.94-2.06-.94L8.5 2.5l-.94 2.06-2.06.94zm10 10l.94 2.06.94-2.06 2.06-.94-2.06-.94-.94-2.06-.94 2.06-2.06.94z\"/><path d=\"M17.41 7.96l-1.37-1.37c-.4-.4-.92-.59-1.43-.59-.52 0-1.04.2-1.43.59L10.3 9.45l-7.72 7.72c-.78.78-.78 2.05 0 2.83L4 21.41c.39.39.9.59 1.41.59.51 0 1.02-.2 1.41-.59l7.78-7.78 2.81-2.81c.8-.78.8-2.07 0-2.86zM5.41 20L4 18.59l7.72-7.72 1.47 1.35L5.41 20z\"/>\n",
              "  </svg>\n",
              "      </button>\n",
              "      \n",
              "  <style>\n",
              "    .colab-df-container {\n",
              "      display:flex;\n",
              "      flex-wrap:wrap;\n",
              "      gap: 12px;\n",
              "    }\n",
              "\n",
              "    .colab-df-convert {\n",
              "      background-color: #E8F0FE;\n",
              "      border: none;\n",
              "      border-radius: 50%;\n",
              "      cursor: pointer;\n",
              "      display: none;\n",
              "      fill: #1967D2;\n",
              "      height: 32px;\n",
              "      padding: 0 0 0 0;\n",
              "      width: 32px;\n",
              "    }\n",
              "\n",
              "    .colab-df-convert:hover {\n",
              "      background-color: #E2EBFA;\n",
              "      box-shadow: 0px 1px 2px rgba(60, 64, 67, 0.3), 0px 1px 3px 1px rgba(60, 64, 67, 0.15);\n",
              "      fill: #174EA6;\n",
              "    }\n",
              "\n",
              "    [theme=dark] .colab-df-convert {\n",
              "      background-color: #3B4455;\n",
              "      fill: #D2E3FC;\n",
              "    }\n",
              "\n",
              "    [theme=dark] .colab-df-convert:hover {\n",
              "      background-color: #434B5C;\n",
              "      box-shadow: 0px 1px 3px 1px rgba(0, 0, 0, 0.15);\n",
              "      filter: drop-shadow(0px 1px 2px rgba(0, 0, 0, 0.3));\n",
              "      fill: #FFFFFF;\n",
              "    }\n",
              "  </style>\n",
              "\n",
              "      <script>\n",
              "        const buttonEl =\n",
              "          document.querySelector('#df-dcc29839-eab7-4cd0-9b2e-a9b849bdbfef button.colab-df-convert');\n",
              "        buttonEl.style.display =\n",
              "          google.colab.kernel.accessAllowed ? 'block' : 'none';\n",
              "\n",
              "        async function convertToInteractive(key) {\n",
              "          const element = document.querySelector('#df-dcc29839-eab7-4cd0-9b2e-a9b849bdbfef');\n",
              "          const dataTable =\n",
              "            await google.colab.kernel.invokeFunction('convertToInteractive',\n",
              "                                                     [key], {});\n",
              "          if (!dataTable) return;\n",
              "\n",
              "          const docLinkHtml = 'Like what you see? Visit the ' +\n",
              "            '<a target=\"_blank\" href=https://colab.research.google.com/notebooks/data_table.ipynb>data table notebook</a>'\n",
              "            + ' to learn more about interactive tables.';\n",
              "          element.innerHTML = '';\n",
              "          dataTable['output_type'] = 'display_data';\n",
              "          await google.colab.output.renderOutput(dataTable, element);\n",
              "          const docLink = document.createElement('div');\n",
              "          docLink.innerHTML = docLinkHtml;\n",
              "          element.appendChild(docLink);\n",
              "        }\n",
              "      </script>\n",
              "    </div>\n",
              "  </div>\n",
              "  "
            ]
          },
          "metadata": {},
          "execution_count": 20
        }
      ]
    },
    {
      "cell_type": "code",
      "source": [
        "# always work on a copy :)\n",
        "df_copy = df.copy(deep=True)\n",
        "df_copy['poem count'] = df_copy['poem verses'].apply(lambda poem: len(poem)/2)\n",
        "df_copy['poem verses str'] = df_copy['poem verses'].apply(lambda verses: ' '.join(verse for verse in verses))\n",
        "len(df_copy)"
      ],
      "metadata": {
        "colab": {
          "base_uri": "https://localhost:8080/"
        },
        "id": "N6ROl0XivmZQ",
        "outputId": "64f22ae5-540e-4cdd-d02f-40d1b5778a53"
      },
      "execution_count": null,
      "outputs": [
        {
          "output_type": "execute_result",
          "data": {
            "text/plain": [
              "254630"
            ]
          },
          "metadata": {},
          "execution_count": 21
        }
      ]
    },
    {
      "cell_type": "code",
      "source": [
        "df_copy"
      ],
      "metadata": {
        "id": "kHtMCFdk7it0",
        "colab": {
          "base_uri": "https://localhost:8080/",
          "height": 1000
        },
        "outputId": "b4308f25-462d-4c3e-c973-23049795a311"
      },
      "execution_count": null,
      "outputs": [
        {
          "output_type": "execute_result",
          "data": {
            "text/plain": [
              "                       poem title       poem meter  \\\n",
              "0       أصبح الملك للذي فطر الخلق       بحر الخفيف   \n",
              "1                من أي مولى ارتجي  بحر مجزوء الرمل   \n",
              "2       العبد عبدك يا من أنت سيده       بحر البسيط   \n",
              "3       لو كنت أطمع بالمنام توهما       بحر الكامل   \n",
              "4            يعد علي أنفاسي ذنوبا       بحر الوافر   \n",
              "...                           ...              ...   \n",
              "254625                       None          المضارع   \n",
              "254626                       None          المضارع   \n",
              "254627                       None          المضارع   \n",
              "254628                       None          المضارع   \n",
              "254629                       None          المضارع   \n",
              "\n",
              "                                              poem verses   poem theme  \\\n",
              "0       [أَصبَحَ المُلك لِلَّذي فَطر الخَل, قَ بِتَقدي...  قصيدة دينية   \n",
              "1       [مِن أَي مَولى اِرتَجي, وَلاي باب التَجي, وَال...  قصيدة دينية   \n",
              "2       [العَبد عَبدك يا مَن أَنتَ سَيدهُ, وَلَيسَ غَي...     قصيدة ذم   \n",
              "3       [لَو كُنتَ أَطمَع بِالمَنام تَوهما, لَسالَت طَ...   قصيدة عامه   \n",
              "4       [يعد عَليَّ أَنفاسي ذُنوباً, إِذا ما قُلت أَفد...   قصيدة عامه   \n",
              "...                                                   ...          ...   \n",
              "254625                [وعندنا ليس محض, إلى الشرق أن تولي]         None   \n",
              "254626                  [من الليالي نهار, ومن عتمها ضياء]         None   \n",
              "254627                 [مقامه إذ تجلى, وفي البيد إذ تحلى]         None   \n",
              "254628  [على بابك انتظرنا, وفي البال ألف حيلة, من الوص...         None   \n",
              "254629  [خذ الصفر لا تبالي, فللصفر للرجال, وليس في ذاك...         None   \n",
              "\n",
              "                                      poem url           poet name  \\\n",
              "0       https://www.aldiwan.net/poem16182.html    الامير منجك باشا   \n",
              "1       https://www.aldiwan.net/poem16183.html    الامير منجك باشا   \n",
              "2       https://www.aldiwan.net/poem16184.html    الامير منجك باشا   \n",
              "3       https://www.aldiwan.net/poem16185.html    الامير منجك باشا   \n",
              "4       https://www.aldiwan.net/poem16186.html    الامير منجك باشا   \n",
              "...                                        ...                 ...   \n",
              "254625                                    None  dataset collectors   \n",
              "254626                                    None  dataset collectors   \n",
              "254627                                    None  dataset collectors   \n",
              "254628                                    None  dataset collectors   \n",
              "254629                                    None  dataset collectors   \n",
              "\n",
              "                                         poet description  \\\n",
              "0       منجك بن محمد بن منجك بن ابي بكر بن عبد القادر ...   \n",
              "1       منجك بن محمد بن منجك بن ابي بكر بن عبد القادر ...   \n",
              "2       منجك بن محمد بن منجك بن ابي بكر بن عبد القادر ...   \n",
              "3       منجك بن محمد بن منجك بن ابي بكر بن عبد القادر ...   \n",
              "4       منجك بن محمد بن منجك بن ابي بكر بن عبد القادر ...   \n",
              "...                                                   ...   \n",
              "254625                                               None   \n",
              "254626                                               None   \n",
              "254627                                               None   \n",
              "254628                                               None   \n",
              "254629                                               None   \n",
              "\n",
              "                                                 poet url        poet era  \\\n",
              "0       https://www.aldiwan.net/cat-poet-alamir-mnczyk...  العصر العثماني   \n",
              "1       https://www.aldiwan.net/cat-poet-alamir-mnczyk...  العصر العثماني   \n",
              "2       https://www.aldiwan.net/cat-poet-alamir-mnczyk...  العصر العثماني   \n",
              "3       https://www.aldiwan.net/cat-poet-alamir-mnczyk...  العصر العثماني   \n",
              "4       https://www.aldiwan.net/cat-poet-alamir-mnczyk...  العصر العثماني   \n",
              "...                                                   ...             ...   \n",
              "254625                                               None            None   \n",
              "254626                                               None            None   \n",
              "254627                                               None            None   \n",
              "254628                                               None            None   \n",
              "254629                                               None            None   \n",
              "\n",
              "       poet location poem description poem language type  poem count  \\\n",
              "0               None             None               None        10.0   \n",
              "1               None             None               None        15.0   \n",
              "2               None             None               None        12.5   \n",
              "3               None             None               None        27.0   \n",
              "4               None             None               None        21.0   \n",
              "...              ...              ...                ...         ...   \n",
              "254625          None             None               فصيح         1.0   \n",
              "254626          None             None               فصيح         1.0   \n",
              "254627          None             None               فصيح         1.0   \n",
              "254628          None             None               فصيح         2.0   \n",
              "254629          None             None               فصيح         2.0   \n",
              "\n",
              "                                          poem verses str  \n",
              "0       أَصبَحَ المُلك لِلَّذي فَطر الخَل قَ بِتَقديرٍ...  \n",
              "1       مِن أَي مَولى اِرتَجي وَلاي باب التَجي وَاللَه...  \n",
              "2       العَبد عَبدك يا مَن أَنتَ سَيدهُ وَلَيسَ غَيرك...  \n",
              "3       لَو كُنتَ أَطمَع بِالمَنام تَوهما لَسالَت طَيف...  \n",
              "4       يعد عَليَّ أَنفاسي ذُنوباً إِذا ما قُلت أَفديه...  \n",
              "...                                                   ...  \n",
              "254625                   وعندنا ليس محض إلى الشرق أن تولي  \n",
              "254626                     من الليالي نهار ومن عتمها ضياء  \n",
              "254627                    مقامه إذ تجلى وفي البيد إذ تحلى  \n",
              "254628  على بابك انتظرنا وفي البال ألف حيلة من الوصل ل...  \n",
              "254629  خذ الصفر لا تبالي فللصفر للرجال وليس في ذاك شي...  \n",
              "\n",
              "[254630 rows x 14 columns]"
            ],
            "text/html": [
              "\n",
              "  <div id=\"df-02a1859d-700a-4a41-9024-dc043b6f6f5e\">\n",
              "    <div class=\"colab-df-container\">\n",
              "      <div>\n",
              "<style scoped>\n",
              "    .dataframe tbody tr th:only-of-type {\n",
              "        vertical-align: middle;\n",
              "    }\n",
              "\n",
              "    .dataframe tbody tr th {\n",
              "        vertical-align: top;\n",
              "    }\n",
              "\n",
              "    .dataframe thead th {\n",
              "        text-align: right;\n",
              "    }\n",
              "</style>\n",
              "<table border=\"1\" class=\"dataframe\">\n",
              "  <thead>\n",
              "    <tr style=\"text-align: right;\">\n",
              "      <th></th>\n",
              "      <th>poem title</th>\n",
              "      <th>poem meter</th>\n",
              "      <th>poem verses</th>\n",
              "      <th>poem theme</th>\n",
              "      <th>poem url</th>\n",
              "      <th>poet name</th>\n",
              "      <th>poet description</th>\n",
              "      <th>poet url</th>\n",
              "      <th>poet era</th>\n",
              "      <th>poet location</th>\n",
              "      <th>poem description</th>\n",
              "      <th>poem language type</th>\n",
              "      <th>poem count</th>\n",
              "      <th>poem verses str</th>\n",
              "    </tr>\n",
              "  </thead>\n",
              "  <tbody>\n",
              "    <tr>\n",
              "      <th>0</th>\n",
              "      <td>أصبح الملك للذي فطر الخلق</td>\n",
              "      <td>بحر الخفيف</td>\n",
              "      <td>[أَصبَحَ المُلك لِلَّذي فَطر الخَل, قَ بِتَقدي...</td>\n",
              "      <td>قصيدة دينية</td>\n",
              "      <td>https://www.aldiwan.net/poem16182.html</td>\n",
              "      <td>الامير منجك باشا</td>\n",
              "      <td>منجك بن محمد بن منجك بن ابي بكر بن عبد القادر ...</td>\n",
              "      <td>https://www.aldiwan.net/cat-poet-alamir-mnczyk...</td>\n",
              "      <td>العصر العثماني</td>\n",
              "      <td>None</td>\n",
              "      <td>None</td>\n",
              "      <td>None</td>\n",
              "      <td>10.0</td>\n",
              "      <td>أَصبَحَ المُلك لِلَّذي فَطر الخَل قَ بِتَقديرٍ...</td>\n",
              "    </tr>\n",
              "    <tr>\n",
              "      <th>1</th>\n",
              "      <td>من أي مولى ارتجي</td>\n",
              "      <td>بحر مجزوء الرمل</td>\n",
              "      <td>[مِن أَي مَولى اِرتَجي, وَلاي باب التَجي, وَال...</td>\n",
              "      <td>قصيدة دينية</td>\n",
              "      <td>https://www.aldiwan.net/poem16183.html</td>\n",
              "      <td>الامير منجك باشا</td>\n",
              "      <td>منجك بن محمد بن منجك بن ابي بكر بن عبد القادر ...</td>\n",
              "      <td>https://www.aldiwan.net/cat-poet-alamir-mnczyk...</td>\n",
              "      <td>العصر العثماني</td>\n",
              "      <td>None</td>\n",
              "      <td>None</td>\n",
              "      <td>None</td>\n",
              "      <td>15.0</td>\n",
              "      <td>مِن أَي مَولى اِرتَجي وَلاي باب التَجي وَاللَه...</td>\n",
              "    </tr>\n",
              "    <tr>\n",
              "      <th>2</th>\n",
              "      <td>العبد عبدك يا من أنت سيده</td>\n",
              "      <td>بحر البسيط</td>\n",
              "      <td>[العَبد عَبدك يا مَن أَنتَ سَيدهُ, وَلَيسَ غَي...</td>\n",
              "      <td>قصيدة ذم</td>\n",
              "      <td>https://www.aldiwan.net/poem16184.html</td>\n",
              "      <td>الامير منجك باشا</td>\n",
              "      <td>منجك بن محمد بن منجك بن ابي بكر بن عبد القادر ...</td>\n",
              "      <td>https://www.aldiwan.net/cat-poet-alamir-mnczyk...</td>\n",
              "      <td>العصر العثماني</td>\n",
              "      <td>None</td>\n",
              "      <td>None</td>\n",
              "      <td>None</td>\n",
              "      <td>12.5</td>\n",
              "      <td>العَبد عَبدك يا مَن أَنتَ سَيدهُ وَلَيسَ غَيرك...</td>\n",
              "    </tr>\n",
              "    <tr>\n",
              "      <th>3</th>\n",
              "      <td>لو كنت أطمع بالمنام توهما</td>\n",
              "      <td>بحر الكامل</td>\n",
              "      <td>[لَو كُنتَ أَطمَع بِالمَنام تَوهما, لَسالَت طَ...</td>\n",
              "      <td>قصيدة عامه</td>\n",
              "      <td>https://www.aldiwan.net/poem16185.html</td>\n",
              "      <td>الامير منجك باشا</td>\n",
              "      <td>منجك بن محمد بن منجك بن ابي بكر بن عبد القادر ...</td>\n",
              "      <td>https://www.aldiwan.net/cat-poet-alamir-mnczyk...</td>\n",
              "      <td>العصر العثماني</td>\n",
              "      <td>None</td>\n",
              "      <td>None</td>\n",
              "      <td>None</td>\n",
              "      <td>27.0</td>\n",
              "      <td>لَو كُنتَ أَطمَع بِالمَنام تَوهما لَسالَت طَيف...</td>\n",
              "    </tr>\n",
              "    <tr>\n",
              "      <th>4</th>\n",
              "      <td>يعد علي أنفاسي ذنوبا</td>\n",
              "      <td>بحر الوافر</td>\n",
              "      <td>[يعد عَليَّ أَنفاسي ذُنوباً, إِذا ما قُلت أَفد...</td>\n",
              "      <td>قصيدة عامه</td>\n",
              "      <td>https://www.aldiwan.net/poem16186.html</td>\n",
              "      <td>الامير منجك باشا</td>\n",
              "      <td>منجك بن محمد بن منجك بن ابي بكر بن عبد القادر ...</td>\n",
              "      <td>https://www.aldiwan.net/cat-poet-alamir-mnczyk...</td>\n",
              "      <td>العصر العثماني</td>\n",
              "      <td>None</td>\n",
              "      <td>None</td>\n",
              "      <td>None</td>\n",
              "      <td>21.0</td>\n",
              "      <td>يعد عَليَّ أَنفاسي ذُنوباً إِذا ما قُلت أَفديه...</td>\n",
              "    </tr>\n",
              "    <tr>\n",
              "      <th>...</th>\n",
              "      <td>...</td>\n",
              "      <td>...</td>\n",
              "      <td>...</td>\n",
              "      <td>...</td>\n",
              "      <td>...</td>\n",
              "      <td>...</td>\n",
              "      <td>...</td>\n",
              "      <td>...</td>\n",
              "      <td>...</td>\n",
              "      <td>...</td>\n",
              "      <td>...</td>\n",
              "      <td>...</td>\n",
              "      <td>...</td>\n",
              "      <td>...</td>\n",
              "    </tr>\n",
              "    <tr>\n",
              "      <th>254625</th>\n",
              "      <td>None</td>\n",
              "      <td>المضارع</td>\n",
              "      <td>[وعندنا ليس محض, إلى الشرق أن تولي]</td>\n",
              "      <td>None</td>\n",
              "      <td>None</td>\n",
              "      <td>dataset collectors</td>\n",
              "      <td>None</td>\n",
              "      <td>None</td>\n",
              "      <td>None</td>\n",
              "      <td>None</td>\n",
              "      <td>None</td>\n",
              "      <td>فصيح</td>\n",
              "      <td>1.0</td>\n",
              "      <td>وعندنا ليس محض إلى الشرق أن تولي</td>\n",
              "    </tr>\n",
              "    <tr>\n",
              "      <th>254626</th>\n",
              "      <td>None</td>\n",
              "      <td>المضارع</td>\n",
              "      <td>[من الليالي نهار, ومن عتمها ضياء]</td>\n",
              "      <td>None</td>\n",
              "      <td>None</td>\n",
              "      <td>dataset collectors</td>\n",
              "      <td>None</td>\n",
              "      <td>None</td>\n",
              "      <td>None</td>\n",
              "      <td>None</td>\n",
              "      <td>None</td>\n",
              "      <td>فصيح</td>\n",
              "      <td>1.0</td>\n",
              "      <td>من الليالي نهار ومن عتمها ضياء</td>\n",
              "    </tr>\n",
              "    <tr>\n",
              "      <th>254627</th>\n",
              "      <td>None</td>\n",
              "      <td>المضارع</td>\n",
              "      <td>[مقامه إذ تجلى, وفي البيد إذ تحلى]</td>\n",
              "      <td>None</td>\n",
              "      <td>None</td>\n",
              "      <td>dataset collectors</td>\n",
              "      <td>None</td>\n",
              "      <td>None</td>\n",
              "      <td>None</td>\n",
              "      <td>None</td>\n",
              "      <td>None</td>\n",
              "      <td>فصيح</td>\n",
              "      <td>1.0</td>\n",
              "      <td>مقامه إذ تجلى وفي البيد إذ تحلى</td>\n",
              "    </tr>\n",
              "    <tr>\n",
              "      <th>254628</th>\n",
              "      <td>None</td>\n",
              "      <td>المضارع</td>\n",
              "      <td>[على بابك انتظرنا, وفي البال ألف حيلة, من الوص...</td>\n",
              "      <td>None</td>\n",
              "      <td>None</td>\n",
              "      <td>dataset collectors</td>\n",
              "      <td>None</td>\n",
              "      <td>None</td>\n",
              "      <td>None</td>\n",
              "      <td>None</td>\n",
              "      <td>None</td>\n",
              "      <td>فصيح</td>\n",
              "      <td>2.0</td>\n",
              "      <td>على بابك انتظرنا وفي البال ألف حيلة من الوصل ل...</td>\n",
              "    </tr>\n",
              "    <tr>\n",
              "      <th>254629</th>\n",
              "      <td>None</td>\n",
              "      <td>المضارع</td>\n",
              "      <td>[خذ الصفر لا تبالي, فللصفر للرجال, وليس في ذاك...</td>\n",
              "      <td>None</td>\n",
              "      <td>None</td>\n",
              "      <td>dataset collectors</td>\n",
              "      <td>None</td>\n",
              "      <td>None</td>\n",
              "      <td>None</td>\n",
              "      <td>None</td>\n",
              "      <td>None</td>\n",
              "      <td>فصيح</td>\n",
              "      <td>2.0</td>\n",
              "      <td>خذ الصفر لا تبالي فللصفر للرجال وليس في ذاك شي...</td>\n",
              "    </tr>\n",
              "  </tbody>\n",
              "</table>\n",
              "<p>254630 rows × 14 columns</p>\n",
              "</div>\n",
              "      <button class=\"colab-df-convert\" onclick=\"convertToInteractive('df-02a1859d-700a-4a41-9024-dc043b6f6f5e')\"\n",
              "              title=\"Convert this dataframe to an interactive table.\"\n",
              "              style=\"display:none;\">\n",
              "        \n",
              "  <svg xmlns=\"http://www.w3.org/2000/svg\" height=\"24px\"viewBox=\"0 0 24 24\"\n",
              "       width=\"24px\">\n",
              "    <path d=\"M0 0h24v24H0V0z\" fill=\"none\"/>\n",
              "    <path d=\"M18.56 5.44l.94 2.06.94-2.06 2.06-.94-2.06-.94-.94-2.06-.94 2.06-2.06.94zm-11 1L8.5 8.5l.94-2.06 2.06-.94-2.06-.94L8.5 2.5l-.94 2.06-2.06.94zm10 10l.94 2.06.94-2.06 2.06-.94-2.06-.94-.94-2.06-.94 2.06-2.06.94z\"/><path d=\"M17.41 7.96l-1.37-1.37c-.4-.4-.92-.59-1.43-.59-.52 0-1.04.2-1.43.59L10.3 9.45l-7.72 7.72c-.78.78-.78 2.05 0 2.83L4 21.41c.39.39.9.59 1.41.59.51 0 1.02-.2 1.41-.59l7.78-7.78 2.81-2.81c.8-.78.8-2.07 0-2.86zM5.41 20L4 18.59l7.72-7.72 1.47 1.35L5.41 20z\"/>\n",
              "  </svg>\n",
              "      </button>\n",
              "      \n",
              "  <style>\n",
              "    .colab-df-container {\n",
              "      display:flex;\n",
              "      flex-wrap:wrap;\n",
              "      gap: 12px;\n",
              "    }\n",
              "\n",
              "    .colab-df-convert {\n",
              "      background-color: #E8F0FE;\n",
              "      border: none;\n",
              "      border-radius: 50%;\n",
              "      cursor: pointer;\n",
              "      display: none;\n",
              "      fill: #1967D2;\n",
              "      height: 32px;\n",
              "      padding: 0 0 0 0;\n",
              "      width: 32px;\n",
              "    }\n",
              "\n",
              "    .colab-df-convert:hover {\n",
              "      background-color: #E2EBFA;\n",
              "      box-shadow: 0px 1px 2px rgba(60, 64, 67, 0.3), 0px 1px 3px 1px rgba(60, 64, 67, 0.15);\n",
              "      fill: #174EA6;\n",
              "    }\n",
              "\n",
              "    [theme=dark] .colab-df-convert {\n",
              "      background-color: #3B4455;\n",
              "      fill: #D2E3FC;\n",
              "    }\n",
              "\n",
              "    [theme=dark] .colab-df-convert:hover {\n",
              "      background-color: #434B5C;\n",
              "      box-shadow: 0px 1px 3px 1px rgba(0, 0, 0, 0.15);\n",
              "      filter: drop-shadow(0px 1px 2px rgba(0, 0, 0, 0.3));\n",
              "      fill: #FFFFFF;\n",
              "    }\n",
              "  </style>\n",
              "\n",
              "      <script>\n",
              "        const buttonEl =\n",
              "          document.querySelector('#df-02a1859d-700a-4a41-9024-dc043b6f6f5e button.colab-df-convert');\n",
              "        buttonEl.style.display =\n",
              "          google.colab.kernel.accessAllowed ? 'block' : 'none';\n",
              "\n",
              "        async function convertToInteractive(key) {\n",
              "          const element = document.querySelector('#df-02a1859d-700a-4a41-9024-dc043b6f6f5e');\n",
              "          const dataTable =\n",
              "            await google.colab.kernel.invokeFunction('convertToInteractive',\n",
              "                                                     [key], {});\n",
              "          if (!dataTable) return;\n",
              "\n",
              "          const docLinkHtml = 'Like what you see? Visit the ' +\n",
              "            '<a target=\"_blank\" href=https://colab.research.google.com/notebooks/data_table.ipynb>data table notebook</a>'\n",
              "            + ' to learn more about interactive tables.';\n",
              "          element.innerHTML = '';\n",
              "          dataTable['output_type'] = 'display_data';\n",
              "          await google.colab.output.renderOutput(dataTable, element);\n",
              "          const docLink = document.createElement('div');\n",
              "          docLink.innerHTML = docLinkHtml;\n",
              "          element.appendChild(docLink);\n",
              "        }\n",
              "      </script>\n",
              "    </div>\n",
              "  </div>\n",
              "  "
            ]
          },
          "metadata": {},
          "execution_count": 22
        }
      ]
    },
    {
      "cell_type": "code",
      "source": [
        "has_era_df = df_copy.dropna(subset=['poet era'])"
      ],
      "metadata": {
        "id": "gG58kxT6v9Iq"
      },
      "execution_count": null,
      "outputs": []
    },
    {
      "cell_type": "code",
      "source": [
        "has_era_df['poet era'].value_counts()"
      ],
      "metadata": {
        "colab": {
          "base_uri": "https://localhost:8080/"
        },
        "id": "CWZEYhASxwbf",
        "outputId": "dd237522-89c9-4f83-c602-e8e0781ae8fd"
      },
      "execution_count": null,
      "outputs": [
        {
          "output_type": "execute_result",
          "data": {
            "text/plain": [
              "العصر الحديث        55137\n",
              "العصر العباسي       30413\n",
              "العصر المملوكي      19059\n",
              "العصر العثماني      11872\n",
              "المغرب والأندلس      6614\n",
              "العصر الفاطمي        4939\n",
              "العصر الأندلسي       4770\n",
              "العصر الأموي         3958\n",
              "العصر الأيوبي        3125\n",
              "المخضرمين            1975\n",
              "العصر الجاهلي        1873\n",
              "قبل الإسلام          1786\n",
              "عصر بين الدولتين     1416\n",
              "العصر الإسلامي        484\n",
              "Name: poet era, dtype: int64"
            ]
          },
          "metadata": {},
          "execution_count": 24
        }
      ]
    },
    {
      "cell_type": "markdown",
      "source": [
        "# DataFrames to export"
      ],
      "metadata": {
        "id": "YXf-5XHrFA85"
      }
    },
    {
      "cell_type": "markdown",
      "source": [
        "### Export era dataset\n",
        "\n",
        "العصور:\n",
        "\n",
        "\n",
        "| First Header  | Second Header |\n",
        "| ------------- | ------------- |\n",
        "| 41 - 132 هـ  | العصر الأموي  |\n",
        "| 123-232 هـ  | العصر العباسي  |\n",
        "|113-172هـ| العصر الأندلسي|\n",
        "|358-567 هـ|العصر الفاطمي|\n",
        "|569 - 626 هـ|العصر الأيوبي |\n",
        "|648-784 هـ |العصر المملوكي|\n",
        "|699 - 1200 هـ |العصر العثماني |\n",
        "|1200 - now هـ |العصر الحديث |\n"
      ],
      "metadata": {
        "id": "kduQK5bXuFdG"
      }
    },
    {
      "cell_type": "code",
      "source": [
        "# era2labels = {  \n",
        "#   'العصر الأموي': 1,\n",
        "#   'العصر العباسي' : 2,\n",
        "#   'العصر الفاطمي': 4,\n",
        "#   'العصر الحديث': 6,\n",
        "#   'العصر الأندلسي': 3,\n",
        "#   'العصر الجاهلي' :0,\n",
        "#   'العصر العثماني' : 5,\n",
        "#   'المغرب والأندلس' : 3,\n",
        "#   'العصر الإسلامي' : 1,\n",
        "#   'العصر الأيوبي' : 4,\n",
        "#   'قبل الإسلام' : 0,\n",
        "#   'العصر المملوكي' : 4\n",
        "# }\n",
        "\n",
        "# era2labels = {  \n",
        "#   'العصر الأموي': 0,\n",
        "#   'العصر العباسي' : 1,\n",
        "#   'العصر الفاطمي': 2,\n",
        "#   'العصر الحديث': 3,\n",
        "#   'العصر الأندلسي': 1,\n",
        "#   'العصر الجاهلي' :0,\n",
        "#   'العصر العثماني' : 3,\n",
        "#   'المغرب والأندلس' : 1,\n",
        "#   'العصر الإسلامي' : 0,\n",
        "#   'العصر الأيوبي' : 2,\n",
        "#   'قبل الإسلام' : 0,\n",
        "#   'العصر المملوكي' : 2\n",
        "# }\n",
        "\n",
        "# era2labels = {  \n",
        "  # 'العصر الأموي': 0,\n",
        "#   'العصر العباسي' : 0,\n",
        "#   'العصر الفاطمي': 1,\n",
        "#   'العصر الحديث': 3,\n",
        "#   'العصر الأندلسي': 0,\n",
        "#   # 'العصر الجاهلي' :0,\n",
        "#   'العصر العثماني' : 2,\n",
        "#   'المغرب والأندلس' : 0,\n",
        "  # 'العصر الإسلامي' : 0,\n",
        "#   'العصر الأيوبي' : 1,\n",
        "#   # 'قبل الإسلام' : 0,\n",
        "#   'العصر المملوكي' : 1\n",
        "# }\n",
        "\n",
        "era2labels = {  \n",
        "  'العصر العباسي' : 1,\n",
        "  'العصر الفاطمي': 2,\n",
        "  'العصر الحديث': 3,\n",
        "  'العصر العثماني' : 3,\n",
        "  'العصر الجاهلي' :0,\n",
        "  'العصر الإسلامي' : 0,\n",
        "  'العصر الأموي': 0,\n",
        "  'العصر الأيوبي' : 2,\n",
        "  'قبل الإسلام' : 0,\n",
        "  'العصر المملوكي' : 2\n",
        "}\n",
        "\n",
        "\n",
        "\n",
        "\n",
        "labels2era = [[] for _ in range(len(list(set(era2labels.values()))))]\n",
        "\n",
        "for era, i in era2labels.items():\n",
        "  labels2era[i].append(era)\n",
        "labels2era"
      ],
      "metadata": {
        "colab": {
          "base_uri": "https://localhost:8080/"
        },
        "id": "r1n5mt9guKFH",
        "outputId": "58f5faa4-1822-4822-cbe0-cba0354e6d1a"
      },
      "execution_count": null,
      "outputs": [
        {
          "output_type": "execute_result",
          "data": {
            "text/plain": [
              "[['العصر الجاهلي', 'العصر الإسلامي', 'العصر الأموي', 'قبل الإسلام'],\n",
              " ['العصر العباسي'],\n",
              " ['العصر الفاطمي', 'العصر الأيوبي', 'العصر المملوكي'],\n",
              " ['العصر الحديث', 'العصر العثماني']]"
            ]
          },
          "metadata": {},
          "execution_count": 25
        }
      ]
    },
    {
      "cell_type": "code",
      "source": [
        "excluded_eras = list(set(has_era_df['poet era']) - set([item for sublist in labels2era for item in sublist])) # قصيدة اعتذار has only three poems :)\n",
        "\n",
        "has_accepted_era_df = has_era_df[has_era_df['poet era'].apply(lambda era: era not in excluded_eras)]\n",
        "len(has_accepted_era_df)"
      ],
      "metadata": {
        "colab": {
          "base_uri": "https://localhost:8080/"
        },
        "id": "0VdG3cLW00hQ",
        "outputId": "5a763ce7-5e7c-4ff6-f283-ad6aafec843f"
      },
      "execution_count": null,
      "outputs": [
        {
          "output_type": "execute_result",
          "data": {
            "text/plain": [
              "132646"
            ]
          },
          "metadata": {},
          "execution_count": 26
        }
      ]
    },
    {
      "cell_type": "code",
      "source": [
        "has_accepted_era_df['label'] = has_accepted_era_df['poet era'].replace(era2labels)"
      ],
      "metadata": {
        "colab": {
          "base_uri": "https://localhost:8080/"
        },
        "id": "SWQkncKSukdf",
        "outputId": "6fc450b1-5707-4530-dea5-b508100be00d"
      },
      "execution_count": null,
      "outputs": [
        {
          "output_type": "stream",
          "name": "stderr",
          "text": [
            "/usr/local/lib/python3.7/dist-packages/ipykernel_launcher.py:1: SettingWithCopyWarning: \n",
            "A value is trying to be set on a copy of a slice from a DataFrame.\n",
            "Try using .loc[row_indexer,col_indexer] = value instead\n",
            "\n",
            "See the caveats in the documentation: https://pandas.pydata.org/pandas-docs/stable/user_guide/indexing.html#returning-a-view-versus-a-copy\n",
            "  \"\"\"Entry point for launching an IPython kernel.\n"
          ]
        }
      ]
    },
    {
      "cell_type": "code",
      "source": [
        "import seaborn as sns\n",
        "sns.countplot(has_accepted_era_df['label'],orient=\"v\")"
      ],
      "metadata": {
        "colab": {
          "base_uri": "https://localhost:8080/",
          "height": 354
        },
        "id": "XMF3zykIBrza",
        "outputId": "97531dfa-db58-4cb5-f52c-02dcb441e1be"
      },
      "execution_count": null,
      "outputs": [
        {
          "output_type": "stream",
          "name": "stderr",
          "text": [
            "/usr/local/lib/python3.7/dist-packages/seaborn/_decorators.py:43: FutureWarning: Pass the following variable as a keyword arg: x. From version 0.12, the only valid positional argument will be `data`, and passing other arguments without an explicit keyword will result in an error or misinterpretation.\n",
            "  FutureWarning\n"
          ]
        },
        {
          "output_type": "execute_result",
          "data": {
            "text/plain": [
              "<matplotlib.axes._subplots.AxesSubplot at 0x7f37ac096810>"
            ]
          },
          "metadata": {},
          "execution_count": 29
        },
        {
          "output_type": "display_data",
          "data": {
            "text/plain": [
              "<Figure size 432x288 with 1 Axes>"
            ],
            "image/png": "[encoded data removed]"
          },
          "metadata": {
            "needs_background": "light"
          }
        }
      ]
    },
    {
      "cell_type": "code",
      "source": [
        "def chunkify_poem(verses_list, max_length=3):\n",
        "  max_length *= 2 # we need baits not shatrs\n",
        "  return [verses_list[i:i+max_length] for i in range(0, len(verses_list), max_length) if len(verses_list[i:i+max_length]) == max_length]"
      ],
      "metadata": {
        "id": "CB5YI9RGB2Hj"
      },
      "execution_count": null,
      "outputs": []
    },
    {
      "cell_type": "code",
      "source": [
        "def preprocess(verse):\n",
        "    flattened = re.sub(r'[*&^%.$#@!…ـ)()–:،]', '', verse)\n",
        "    flattened = re.sub(r'[0-9]', '', flattened)\n",
        "    flattened = re.sub(r' +', ' ', flattened).strip()\n",
        "    return flattened\n",
        "\n",
        "def chunkify_long_poems(verses_list, max_length=64):\n",
        "  tokens = ' '.join([preprocess(verse) for verse in verses_list]).split(' ')\n",
        "  return [' '.join(tokens[i*max_length: (i+1)*max_length]) for i in range(len(tokens) // max_length + 1)]"
      ],
      "metadata": {
        "id": "AeJQh1mbau5r"
      },
      "execution_count": null,
      "outputs": []
    },
    {
      "cell_type": "code",
      "source": [
        "import re \n",
        "five_baits_rows = list()\n",
        "chunk_len = 5\n",
        "max_len = 0 \n",
        "exc_poems = 0 \n",
        "for index,row in has_accepted_era_df.iterrows():\n",
        "  verses = row['poem verses']\n",
        "  for poem_chunk in chunkify_long_poems(verses):\n",
        "    five_baits_rows.append({\n",
        "        'text': poem_chunk,\n",
        "        'label':row['label'],\n",
        "        'poet era': row['poet era']\n",
        "      })\n",
        "  # break\n",
        "has_accepted_era_five_baits_df = pd.DataFrame(five_baits_rows)\n",
        "has_accepted_era_five_baits_df"
      ],
      "metadata": {
        "colab": {
          "base_uri": "https://localhost:8080/",
          "height": 424
        },
        "id": "3lsgc-txDTQS",
        "outputId": "04223c8f-cdd1-4940-94cd-5db7915e7084"
      },
      "execution_count": null,
      "outputs": [
        {
          "output_type": "execute_result",
          "data": {
            "text/plain": [
              "                                                     text  label  \\\n",
              "0       أَصبَحَ المُلك لِلَّذي فَطر الخَل قَ بِتَقديرٍ...      3   \n",
              "1       مَدى الدَهر أَخيهِ يَحيى الحصور الكَريمِ أَدرك...      3   \n",
              "2       مِن أَي مَولى اِرتَجي وَلاي باب التَجي وَاللَه...      3   \n",
              "3       يَلهجِ وَبصنوه عُثمان ذي الن نورَين أَقوم مَنه...      3   \n",
              "4       العَبد عَبدك يا مَن أَنتَ سَيدهُ وَلَيسَ غَيرك...      3   \n",
              "...                                                   ...    ...   \n",
              "323721  إذا ما صفاك الدهر عيشا مروقا أصابك سهم الدهر س...      3   \n",
              "323722  مذ طال في الخطى فجاز سما العلياء سمتا ومرتقى و...      3   \n",
              "323723  دعاه اللَه لباه مسرعا فسارع فيما قد دعاه تشوقا...      3   \n",
              "323724  مفلقا وينظره طوراً يراه متربا ترائبه قد هشمت ع...      3   \n",
              "323725     الفردوس حزت نعيمها وملكا رقيب اليوم أعظم مرتقى      3   \n",
              "\n",
              "              poet era  \n",
              "0       العصر العثماني  \n",
              "1       العصر العثماني  \n",
              "2       العصر العثماني  \n",
              "3       العصر العثماني  \n",
              "4       العصر العثماني  \n",
              "...                ...  \n",
              "323721    العصر الحديث  \n",
              "323722    العصر الحديث  \n",
              "323723    العصر الحديث  \n",
              "323724    العصر الحديث  \n",
              "323725    العصر الحديث  \n",
              "\n",
              "[323726 rows x 3 columns]"
            ],
            "text/html": [
              "\n",
              "  <div id=\"df-60079dec-87fb-49b3-80ba-180349153872\">\n",
              "    <div class=\"colab-df-container\">\n",
              "      <div>\n",
              "<style scoped>\n",
              "    .dataframe tbody tr th:only-of-type {\n",
              "        vertical-align: middle;\n",
              "    }\n",
              "\n",
              "    .dataframe tbody tr th {\n",
              "        vertical-align: top;\n",
              "    }\n",
              "\n",
              "    .dataframe thead th {\n",
              "        text-align: right;\n",
              "    }\n",
              "</style>\n",
              "<table border=\"1\" class=\"dataframe\">\n",
              "  <thead>\n",
              "    <tr style=\"text-align: right;\">\n",
              "      <th></th>\n",
              "      <th>text</th>\n",
              "      <th>label</th>\n",
              "      <th>poet era</th>\n",
              "    </tr>\n",
              "  </thead>\n",
              "  <tbody>\n",
              "    <tr>\n",
              "      <th>0</th>\n",
              "      <td>أَصبَحَ المُلك لِلَّذي فَطر الخَل قَ بِتَقديرٍ...</td>\n",
              "      <td>3</td>\n",
              "      <td>العصر العثماني</td>\n",
              "    </tr>\n",
              "    <tr>\n",
              "      <th>1</th>\n",
              "      <td>مَدى الدَهر أَخيهِ يَحيى الحصور الكَريمِ أَدرك...</td>\n",
              "      <td>3</td>\n",
              "      <td>العصر العثماني</td>\n",
              "    </tr>\n",
              "    <tr>\n",
              "      <th>2</th>\n",
              "      <td>مِن أَي مَولى اِرتَجي وَلاي باب التَجي وَاللَه...</td>\n",
              "      <td>3</td>\n",
              "      <td>العصر العثماني</td>\n",
              "    </tr>\n",
              "    <tr>\n",
              "      <th>3</th>\n",
              "      <td>يَلهجِ وَبصنوه عُثمان ذي الن نورَين أَقوم مَنه...</td>\n",
              "      <td>3</td>\n",
              "      <td>العصر العثماني</td>\n",
              "    </tr>\n",
              "    <tr>\n",
              "      <th>4</th>\n",
              "      <td>العَبد عَبدك يا مَن أَنتَ سَيدهُ وَلَيسَ غَيرك...</td>\n",
              "      <td>3</td>\n",
              "      <td>العصر العثماني</td>\n",
              "    </tr>\n",
              "    <tr>\n",
              "      <th>...</th>\n",
              "      <td>...</td>\n",
              "      <td>...</td>\n",
              "      <td>...</td>\n",
              "    </tr>\n",
              "    <tr>\n",
              "      <th>323721</th>\n",
              "      <td>إذا ما صفاك الدهر عيشا مروقا أصابك سهم الدهر س...</td>\n",
              "      <td>3</td>\n",
              "      <td>العصر الحديث</td>\n",
              "    </tr>\n",
              "    <tr>\n",
              "      <th>323722</th>\n",
              "      <td>مذ طال في الخطى فجاز سما العلياء سمتا ومرتقى و...</td>\n",
              "      <td>3</td>\n",
              "      <td>العصر الحديث</td>\n",
              "    </tr>\n",
              "    <tr>\n",
              "      <th>323723</th>\n",
              "      <td>دعاه اللَه لباه مسرعا فسارع فيما قد دعاه تشوقا...</td>\n",
              "      <td>3</td>\n",
              "      <td>العصر الحديث</td>\n",
              "    </tr>\n",
              "    <tr>\n",
              "      <th>323724</th>\n",
              "      <td>مفلقا وينظره طوراً يراه متربا ترائبه قد هشمت ع...</td>\n",
              "      <td>3</td>\n",
              "      <td>العصر الحديث</td>\n",
              "    </tr>\n",
              "    <tr>\n",
              "      <th>323725</th>\n",
              "      <td>الفردوس حزت نعيمها وملكا رقيب اليوم أعظم مرتقى</td>\n",
              "      <td>3</td>\n",
              "      <td>العصر الحديث</td>\n",
              "    </tr>\n",
              "  </tbody>\n",
              "</table>\n",
              "<p>323726 rows × 3 columns</p>\n",
              "</div>\n",
              "      <button class=\"colab-df-convert\" onclick=\"convertToInteractive('df-60079dec-87fb-49b3-80ba-180349153872')\"\n",
              "              title=\"Convert this dataframe to an interactive table.\"\n",
              "              style=\"display:none;\">\n",
              "        \n",
              "  <svg xmlns=\"http://www.w3.org/2000/svg\" height=\"24px\"viewBox=\"0 0 24 24\"\n",
              "       width=\"24px\">\n",
              "    <path d=\"M0 0h24v24H0V0z\" fill=\"none\"/>\n",
              "    <path d=\"M18.56 5.44l.94 2.06.94-2.06 2.06-.94-2.06-.94-.94-2.06-.94 2.06-2.06.94zm-11 1L8.5 8.5l.94-2.06 2.06-.94-2.06-.94L8.5 2.5l-.94 2.06-2.06.94zm10 10l.94 2.06.94-2.06 2.06-.94-2.06-.94-.94-2.06-.94 2.06-2.06.94z\"/><path d=\"M17.41 7.96l-1.37-1.37c-.4-.4-.92-.59-1.43-.59-.52 0-1.04.2-1.43.59L10.3 9.45l-7.72 7.72c-.78.78-.78 2.05 0 2.83L4 21.41c.39.39.9.59 1.41.59.51 0 1.02-.2 1.41-.59l7.78-7.78 2.81-2.81c.8-.78.8-2.07 0-2.86zM5.41 20L4 18.59l7.72-7.72 1.47 1.35L5.41 20z\"/>\n",
              "  </svg>\n",
              "      </button>\n",
              "      \n",
              "  <style>\n",
              "    .colab-df-container {\n",
              "      display:flex;\n",
              "      flex-wrap:wrap;\n",
              "      gap: 12px;\n",
              "    }\n",
              "\n",
              "    .colab-df-convert {\n",
              "      background-color: #E8F0FE;\n",
              "      border: none;\n",
              "      border-radius: 50%;\n",
              "      cursor: pointer;\n",
              "      display: none;\n",
              "      fill: #1967D2;\n",
              "      height: 32px;\n",
              "      padding: 0 0 0 0;\n",
              "      width: 32px;\n",
              "    }\n",
              "\n",
              "    .colab-df-convert:hover {\n",
              "      background-color: #E2EBFA;\n",
              "      box-shadow: 0px 1px 2px rgba(60, 64, 67, 0.3), 0px 1px 3px 1px rgba(60, 64, 67, 0.15);\n",
              "      fill: #174EA6;\n",
              "    }\n",
              "\n",
              "    [theme=dark] .colab-df-convert {\n",
              "      background-color: #3B4455;\n",
              "      fill: #D2E3FC;\n",
              "    }\n",
              "\n",
              "    [theme=dark] .colab-df-convert:hover {\n",
              "      background-color: #434B5C;\n",
              "      box-shadow: 0px 1px 3px 1px rgba(0, 0, 0, 0.15);\n",
              "      filter: drop-shadow(0px 1px 2px rgba(0, 0, 0, 0.3));\n",
              "      fill: #FFFFFF;\n",
              "    }\n",
              "  </style>\n",
              "\n",
              "      <script>\n",
              "        const buttonEl =\n",
              "          document.querySelector('#df-60079dec-87fb-49b3-80ba-180349153872 button.colab-df-convert');\n",
              "        buttonEl.style.display =\n",
              "          google.colab.kernel.accessAllowed ? 'block' : 'none';\n",
              "\n",
              "        async function convertToInteractive(key) {\n",
              "          const element = document.querySelector('#df-60079dec-87fb-49b3-80ba-180349153872');\n",
              "          const dataTable =\n",
              "            await google.colab.kernel.invokeFunction('convertToInteractive',\n",
              "                                                     [key], {});\n",
              "          if (!dataTable) return;\n",
              "\n",
              "          const docLinkHtml = 'Like what you see? Visit the ' +\n",
              "            '<a target=\"_blank\" href=https://colab.research.google.com/notebooks/data_table.ipynb>data table notebook</a>'\n",
              "            + ' to learn more about interactive tables.';\n",
              "          element.innerHTML = '';\n",
              "          dataTable['output_type'] = 'display_data';\n",
              "          await google.colab.output.renderOutput(dataTable, element);\n",
              "          const docLink = document.createElement('div');\n",
              "          docLink.innerHTML = docLinkHtml;\n",
              "          element.appendChild(docLink);\n",
              "        }\n",
              "      </script>\n",
              "    </div>\n",
              "  </div>\n",
              "  "
            ]
          },
          "metadata": {},
          "execution_count": 32
        }
      ]
    },
    {
      "cell_type": "code",
      "source": [
        "import seaborn as sns\n",
        "sns.countplot(has_accepted_era_five_baits_df['label'],orient=\"v\")"
      ],
      "metadata": {
        "colab": {
          "base_uri": "https://localhost:8080/",
          "height": 351
        },
        "id": "cvA7VesBb4FJ",
        "outputId": "c80f9cba-ed83-4ebe-f234-8b3f882a4aa8"
      },
      "execution_count": null,
      "outputs": [
        {
          "output_type": "stream",
          "name": "stderr",
          "text": [
            "/usr/local/lib/python3.7/dist-packages/seaborn/_decorators.py:43: FutureWarning: Pass the following variable as a keyword arg: x. From version 0.12, the only valid positional argument will be `data`, and passing other arguments without an explicit keyword will result in an error or misinterpretation.\n",
            "  FutureWarning\n"
          ]
        },
        {
          "output_type": "execute_result",
          "data": {
            "text/plain": [
              "<matplotlib.axes._subplots.AxesSubplot at 0x7f37ac139b50>"
            ]
          },
          "metadata": {},
          "execution_count": 33
        },
        {
          "output_type": "display_data",
          "data": {
            "text/plain": [
              "<Figure size 432x288 with 1 Axes>"
            ],
            "image/png": "[encoded data removed]"
          },
          "metadata": {
            "needs_background": "light"
          }
        }
      ]
    },
    {
      "cell_type": "code",
      "source": [
        "era2labels"
      ],
      "metadata": {
        "colab": {
          "base_uri": "https://localhost:8080/"
        },
        "id": "8-5MvJg57dAB",
        "outputId": "460f5f96-10ac-4f50-d806-4a020a631ffc"
      },
      "execution_count": null,
      "outputs": [
        {
          "output_type": "execute_result",
          "data": {
            "text/plain": [
              "{'العصر الأموي': 0,\n",
              " 'العصر الأيوبي': 2,\n",
              " 'العصر الإسلامي': 0,\n",
              " 'العصر الجاهلي': 0,\n",
              " 'العصر الحديث': 3,\n",
              " 'العصر العباسي': 1,\n",
              " 'العصر العثماني': 3,\n",
              " 'العصر الفاطمي': 2,\n",
              " 'العصر المملوكي': 2,\n",
              " 'قبل الإسلام': 0}"
            ]
          },
          "metadata": {},
          "execution_count": 34
        }
      ]
    },
    {
      "cell_type": "code",
      "source": [
        "has_accepted_era_five_baits_df['label'].value_counts().values.min()"
      ],
      "metadata": {
        "colab": {
          "base_uri": "https://localhost:8080/"
        },
        "id": "-c9lRx4K1PQB",
        "outputId": "ef7b120a-e5cf-4af6-ac09-f3840fb6597a"
      },
      "execution_count": null,
      "outputs": [
        {
          "output_type": "execute_result",
          "data": {
            "text/plain": [
              "13526"
            ]
          },
          "metadata": {},
          "execution_count": 35
        }
      ]
    },
    {
      "cell_type": "code",
      "source": [
        "# min_class = has_accepted_era_five_baits_df['label'].value_counts().values.min()\n",
        "# min_class = 500\n",
        "sample_amounts = {idx:50_000 if cnt > 50_000 else cnt for idx, cnt in has_accepted_era_five_baits_df['label'].value_counts().iteritems()}\n",
        "# sample_amounts[2] = min_class\n",
        "# sample_amounts = {i:(min_class) for i in range(len(labels2era)) }\n",
        "print(sample_amounts)\n",
        "has_accepted_era_five_baits_df = (\n",
        "    has_accepted_era_five_baits_df.groupby('label').apply(lambda g: g.sample(\n",
        "        # lookup number of samples to take\n",
        "        n=sample_amounts[g.name],\n",
        "        # enable replacement if len is less than number of samples expected\n",
        "        replace=False  \n",
        "    ))\n",
        ")"
      ],
      "metadata": {
        "id": "UDnCKE31RXiR",
        "colab": {
          "base_uri": "https://localhost:8080/"
        },
        "outputId": "4734e446-3f03-4321-97dc-e10f0489c44d"
      },
      "execution_count": null,
      "outputs": [
        {
          "output_type": "stream",
          "name": "stdout",
          "text": [
            "{3: 50000, 2: 50000, 1: 50000, 0: 13526}\n"
          ]
        }
      ]
    },
    {
      "cell_type": "code",
      "source": [
        "import seaborn as sns\n",
        "sns.countplot(has_accepted_era_five_baits_df['label'],orient=\"v\")"
      ],
      "metadata": {
        "colab": {
          "base_uri": "https://localhost:8080/",
          "height": 351
        },
        "id": "zZVSLSiY1I7y",
        "outputId": "cfd92b8f-700f-46ed-e87c-855fb9fcbcd6"
      },
      "execution_count": null,
      "outputs": [
        {
          "output_type": "stream",
          "name": "stderr",
          "text": [
            "/usr/local/lib/python3.7/dist-packages/seaborn/_decorators.py:43: FutureWarning: Pass the following variable as a keyword arg: x. From version 0.12, the only valid positional argument will be `data`, and passing other arguments without an explicit keyword will result in an error or misinterpretation.\n",
            "  FutureWarning\n"
          ]
        },
        {
          "output_type": "execute_result",
          "data": {
            "text/plain": [
              "<matplotlib.axes._subplots.AxesSubplot at 0x7f37acaa7990>"
            ]
          },
          "metadata": {},
          "execution_count": 37
        },
        {
          "output_type": "display_data",
          "data": {
            "text/plain": [
              "<Figure size 432x288 with 1 Axes>"
            ],
            "image/png": "[encoded data removed]"
          },
          "metadata": {
            "needs_background": "light"
          }
        }
      ]
    },
    {
      "cell_type": "code",
      "source": [
        "from sklearn.utils import shuffle\n",
        "import random\n",
        "\n",
        "shuffle(has_accepted_era_five_baits_df,  random_state=20).to_json('/content/era_dataset_from_df.json',force_ascii=False,indent=2,orient='records')\n",
        "json.dump({'data':json.load(open('/content/era_dataset_from_df.json'))},open('/content/era_dataset.json','w'),indent=4,ensure_ascii=False)"
      ],
      "metadata": {
        "id": "cF4SoKB6D5Bd"
      },
      "execution_count": null,
      "outputs": []
    },
    {
      "cell_type": "code",
      "source": [
        "!head -10 /content/era_dataset.json"
      ],
      "metadata": {
        "colab": {
          "base_uri": "https://localhost:8080/"
        },
        "id": "Uj4F-bh0vxwK",
        "outputId": "bc25a3ac-c18b-41f9-8fea-4978b1fe0508"
      },
      "execution_count": null,
      "outputs": [
        {
          "output_type": "stream",
          "name": "stdout",
          "text": [
            "{\n",
            "    \"data\": [\n",
            "        {\n",
            "            \"text\": \"مَتى يَشفيكَ دَمعُكَ مِن هولِ وَيَبرُدُ ما بِقَلبِكَ مِن غَليلِ أَلا يا رُبَّ ذي حَزَنٍ تَعايا بِصَبرٍ فاِستَراح إِلى العَويلِ قَتيلٌ ما قَتيلُ بَني زيادٍ أَلا بِأَبي وَأُمّي مِن قَتيلِ رُوَيدَ ابنِ الدَعيِّ وَما ادَّعاهُ سَيَلقى ما تَسَلَّفَ عَن قَليلِ غَدَت بيضُ الصَفائِحِ وَالعَوالي بِأَيدي كُلِّ مُؤتَشِبٍ دَخيلِ مَعاشِرُ أَودَعَت أَيّامُ بَدرٍ صُدورَهُمُ وَديعاتِ العَليلِ فَلَمّا أَمكَنَ الإِسلامُ شَدّوا عَلَيهِ شِدَّةَ الحَنِقِ الصَؤولِ فَوافَوا\",\n",
            "            \"label\": 1,\n",
            "            \"poet era\": \"العصر العباسي\"\n",
            "        },\n",
            "        {\n",
            "            \"text\": \"لأيّةِ لبسة خلعَ الخلاعَهْ وكان عَصى العذول فلِمْ أطاعَهْ تلثمَّ كالغمامة أعجبته فشام خلالها برقاً فَراعهْ وغالى في ابتياع صِباً شرته ال ليالي منه مرتخَصاً فباعهْ قليلاً ما حملتَ عليه ودّاً قليلاً مذ أحبّك ما أضاعهْ نزلنا في بني ساسان دُوراً بها تُسلَى بيوتُك في قُضاعهْ وعوَّض كلُّ يوم منك حولاً يسرُّ فكان يومُ البين ساعهْ ألا يا صاحبي إن ناب خطبٌ دفعت به\",\n",
            "            \"label\": 1,\n"
          ]
        }
      ]
    },
    {
      "cell_type": "markdown",
      "source": [
        "# Integrate with nmatheg"
      ],
      "metadata": {
        "id": "ez46vQ7xFNeP"
      }
    },
    {
      "cell_type": "code",
      "source": [
        "# !rm -r nmatheg\n",
        "# %cd nmatheg"
      ],
      "metadata": {
        "id": "BX8oSykTG-BV"
      },
      "execution_count": null,
      "outputs": []
    },
    {
      "cell_type": "code",
      "source": [
        "%%capture\n",
        "!pip install git+https://github.com/ARBML/tnkeeh.git\n",
        "!pip install git+https://github.com/ARBML/tkseem.git"
      ],
      "metadata": {
        "id": "g4ZRXBglEurS"
      },
      "execution_count": null,
      "outputs": []
    },
    {
      "cell_type": "code",
      "source": [
        "import tnkeeh as tn \n",
        "from datasets import load_dataset\n",
        "import os \n",
        "from transformers import AutoTokenizer\n",
        "import torch\n",
        "import copy \n",
        "import tkseem as tk\n",
        "\n",
        "data_args = {\n",
        "    'segment' : False,\n",
        "    'remove_special_chars' : False,\n",
        "    'remove_english' : True\n",
        ",    'normalize' : False,\n",
        "    'remove_diacritics' : True\n",
        ",    'excluded_chars' : []\n",
        "  ,  'remove_tatweel' : True\n",
        ",    'remove_html_elements' : False,\n",
        "    'remove_links' : False, \n",
        "    'remove_twitter_meta' : False,\n",
        "    'remove_long_words' : False,\n",
        "    'remove_repeated_chars' : False,\n",
        "}\n",
        "\n",
        "# more_stop_words = ['وما' , 'فما', 'كنت', 'ولو', 'إلا', 'وإن', 'منك', 'بما', 'وأنت', 'يا', 'لي', 'فلا', 'لنا', 'منهم']\n",
        "# stop_words = open('/content/list.txt', 'r').read().splitlines() + more_stop_words\n",
        "\n",
        "def get_tokenizer(tok_name):\n",
        "    tokenizers = {'SentencePieceTokenizer':tk.SentencePieceTokenizer, 'WordTokenizer':tk.WordTokenizer, 'CharacterTokenizer':tk.CharacterTokenizer,\n",
        "         'MorphologicalTokenizer':tk.MorphologicalTokenizer, 'RandomTokenizer':tk.RandomTokenizer, 'DisjointLetterTokenizer':tk.DisjointLetterTokenizer}\n",
        "    return tokenizers[tok_name] \n",
        "\n",
        "\n",
        "def split_dataset(dataset, seed = 42):\n",
        "    #create validation split\n",
        "    if 'valid' not in dataset:\n",
        "        train_valid_dataset = dataset['train'].train_test_split(test_size=0.1, seed = seed)\n",
        "        dataset['valid'] = train_valid_dataset.pop('test')\n",
        "        dataset['train'] = train_valid_dataset['train']\n",
        "\n",
        "    #create training split \n",
        "    if 'test' not in dataset:\n",
        "        train_valid_dataset = dataset['train'].train_test_split(test_size=0.1, seed = seed)\n",
        "        dataset['test'] = train_valid_dataset.pop('test')\n",
        "        dataset['train'] = train_valid_dataset['train']  \n",
        "    return dataset \n",
        "\n",
        "\n",
        "def clean_dataset(dataset):\n",
        "    \n",
        "    cleaner = tn.Tnkeeh(**data_args)\n",
        "    dataset = cleaner.clean_hf_dataset(dataset, 'text')\n",
        "    return dataset \n",
        "\n",
        "def remove_stop_words(example):\n",
        "    example['text'] = ' '.join([word for word in example['text'].split(' ') if word not in stop_words])\n",
        "      \n",
        "    return example\n",
        "\n",
        "tokenizer_name = ''\n",
        "max_tokens = 128\n",
        "vocab_size  = 10_000\n",
        "\n",
        "batch_size = 512\n",
        "\n",
        "# clean and load data\n",
        "dataset = load_dataset('json',data_files=['/content/era_dataset.json'],field='data')\n",
        "dataset = clean_dataset(dataset)\n",
        "\n",
        "dataset = split_dataset(dataset)\n",
        "# dataset = dataset.map(remove_stop_words)\n",
        "examples = copy.deepcopy(dataset)\n",
        "\n",
        "\n",
        "data = []\n",
        "for sample in dataset['train']:\n",
        "    data.append(sample['text'])\n",
        "\n",
        "open(f'/content/data.txt', 'w').write(('\\n').join(data))\n",
        "tokenizer = tk.SentencePieceTokenizer\n",
        "tokenizer = tokenizer(vocab_size = vocab_size)\n",
        "tokenizer.train('/content/data.txt')\n",
        "dataset = dataset.map(lambda examples:{'input_ids': tokenizer.encode_sentences(examples['text'], out_length= max_tokens)}, batched=True)\n",
        "columns=['input_ids', 'labels'] \n",
        "dataset = dataset.map(lambda examples:{'labels': examples['label']}, batched=True)"
      ],
      "metadata": {
        "colab": {
          "base_uri": "https://localhost:8080/",
          "height": 325,
          "referenced_widgets": [
            "d11c6a8154b84a6a8318a21646d2d8ce",
            "4fe0e1b8854e46c1af9bb0f3dab91b8c",
            "14fa5c05f81a4c0a951e2e4ea6a6f69e",
            "b3f92abd3112469a8a264735ff79cc24",
            "aa6c11c7f51540f39b865fabf1eacd1d",
            "fd5ae56cdff8412fb1fc8e66aab6184b",
            "e2cb484a7afb4d28abd5387a7eecfbf2",
            "528071e5c7db457a850abe9fd98c67e4",
            "4e7c6ee4b75f4883b82c1d92848eac5b",
            "8aaffed4e0414876b50d29bcf8bd9d3a",
            "22f80175fd7f4ca9aa5e82440d752a6d",
            "c718e79443b94ba2a5325fb2ccc99bd7",
            "5428687087a84709afb13213f99c1cd3",
            "e9b0e2dea99b4a129c1ba838123af459",
            "80793a4ca77c46059eea3b9b11dd3812",
            "c3c46d54c52647388ab706efbcebf5a0",
            "1c3e3e288b1c4e459e028096c496ce7e",
            "0233cb4d4c7e4c779dc175f338f4ff11",
            "27769c86666748569ba5fa1923f6be00",
            "425a313b1dd1476fb5504d6e6db6deed",
            "141ae3402837457c9690b4900911f771",
            "1711f050470641e78dab8e5b90c3ee2e",
            "1e7c0e840e954ddebde234fa0ab46ccd",
            "3c4febd71cda4d07ba5bdc08f9671049",
            "d297cff80cf74652a63191b0e68de434",
            "58cb0011bf734deab9d440f538af1a68",
            "6099820df21d4cde88f7d58455ee6a0f",
            "ced0010d96ac4cd8ab297d0eefc4f397",
            "6b2f2f5525424cd982821609ae9bdea7",
            "5f28da6b110e481ebe46b0827b805bb7",
            "b231954eea45484bbe17ec14d6f1474f",
            "c6bda70b17cf49c091c306751ea122c4",
            "af3430ae909a4cca81375cd1514d890f",
            "e429c87fcb8545a7a77d8e4866b0148c",
            "c19f268300cb40309a321312f624ece0",
            "70b89c089ad14cd096d805fa612fc8b1",
            "fc4f1427fa77490b94322c8a0d69f842",
            "1f08816fafeb40729b34314e95417083",
            "230f9d54f3ac42b0a4bb3978b41d359b",
            "d232f34f4f59482dabd2bf55e6de4e81",
            "837c34ee04b7472fb8f84616611bb266",
            "574f642b2b054b1ba4f4f860bfa6c6f9",
            "437771178d6b4b169d47e88924e6edcf",
            "a44fb0fbf4764e62b626f230a110cc28",
            "317f440abe874034a1b4b541db09a176",
            "2165cb98ec49444d9956789368866079",
            "209046b00bc047389b001d4f9e25c213",
            "a0181cb30b9b40efbb79f614ba892a3d",
            "7404aeca35584c8b83ebfdae0bbdb8db",
            "22a8408f44b14aa2b583a92660ca08bd",
            "989e24aa21a64645bf01cb738ed507bf",
            "6c1b32c4574e44189c293919fc13b18c",
            "0c8eb81a683a41a9aa122db487ab8518",
            "349e9b27bc7045df990ccfb3bbb42209",
            "1afc7fa1411b4ea0a5294381f689457f",
            "f52a46c1d4af41029bcad2934b6a6c7a",
            "c4de52619f5b4305997c8ec90ef94e6c",
            "41d322a471ca4db494cefc2ffb71bb84",
            "ba62bd2089f9422a82b0a4cac63c67bb",
            "fc5f01040c164f96b96cd375bc846475",
            "420c4db2dc61406a881d3e5ade29b6b8",
            "b9cedd65588047ec9754ef9f76e93ae8",
            "b0314e5bb0934b6899424c856178f25d",
            "81725de5c898402fba84e4cfd51354bc",
            "f5c87efa96ad460496e64d32ef59a7fc",
            "d1cb4487e7d24f7e9fd43ef96aa5ddb0",
            "48c312992e69489499b0df9d92f5731f",
            "ea32db81b3ca466aa94292a249d6b90a",
            "14a85e3a4fae44ca8cfe9b7fb41b669c",
            "cc1b84a36a9145a5828943c695e758fc",
            "48565dd90e7a4ce6953406d9e0fc41af",
            "23a20e1063774ac38bb451c3cf438922",
            "0da0c6f711e340299b57b0c58712be25",
            "600dc80eabbc4ccd971485dd79aee56c",
            "6440291b94984878bb68627632c075d0",
            "d3832565233d47ae8b35d519ddbdecd9",
            "8061a0bc243a47e99a65054277fcae7c",
            "5cb8db0da56e455b8d68b68025e61870",
            "e86cfa14f129480091ad2354ec0ad208",
            "9bd82fb5b2f24720bd1e8b6c8b355675",
            "f59e144c6cb24096af7f247a4e8c76c0",
            "0b8b646c36814f0cb39e055435b93efc",
            "110812bc4e3c42c6b036079b5fb5e310",
            "282c2641fd244cedb1e7a8df7b4365e0",
            "7b184f38eedb47aabadf8f5e54eda23a",
            "d027ab898eb043f79be8e85fdc1bd843",
            "6c4194e83769446f9062de6bcd4aadfe",
            "66bdb1bffff448569dee302b806e12cb"
          ]
        },
        "id": "IS0F3DpqPFqD",
        "outputId": "97e47aa3-4193-4ff9-8ecc-f75ffb1ace09"
      },
      "execution_count": null,
      "outputs": [
        {
          "output_type": "stream",
          "name": "stderr",
          "text": [
            "Using custom data configuration default-279f4d92348bee9c\n",
            "Reusing dataset json (/root/.cache/huggingface/datasets/json/default-279f4d92348bee9c/0.0.0/ac0ca5f5289a6cf108e706efcf040422dbbfa8e658dee6a819f20d76bb84d26b)\n"
          ]
        },
        {
          "output_type": "display_data",
          "data": {
            "text/plain": [
              "  0%|          | 0/1 [00:00<?, ?it/s]"
            ],
            "application/vnd.jupyter.widget-view+json": {
              "version_major": 2,
              "version_minor": 0,
              "model_id": "d11c6a8154b84a6a8318a21646d2d8ce"
            }
          },
          "metadata": {}
        },
        {
          "output_type": "display_data",
          "data": {
            "text/plain": [
              "  0%|          | 0/163526 [00:00<?, ?ex/s]"
            ],
            "application/vnd.jupyter.widget-view+json": {
              "version_major": 2,
              "version_minor": 0,
              "model_id": "c718e79443b94ba2a5325fb2ccc99bd7"
            }
          },
          "metadata": {}
        },
        {
          "output_type": "stream",
          "name": "stdout",
          "text": [
            "Training SentencePiece ...\n"
          ]
        },
        {
          "output_type": "display_data",
          "data": {
            "text/plain": [
              "  0%|          | 0/133 [00:00<?, ?ba/s]"
            ],
            "application/vnd.jupyter.widget-view+json": {
              "version_major": 2,
              "version_minor": 0,
              "model_id": "1e7c0e840e954ddebde234fa0ab46ccd"
            }
          },
          "metadata": {}
        },
        {
          "output_type": "display_data",
          "data": {
            "text/plain": [
              "  0%|          | 0/17 [00:00<?, ?ba/s]"
            ],
            "application/vnd.jupyter.widget-view+json": {
              "version_major": 2,
              "version_minor": 0,
              "model_id": "e429c87fcb8545a7a77d8e4866b0148c"
            }
          },
          "metadata": {}
        },
        {
          "output_type": "display_data",
          "data": {
            "text/plain": [
              "  0%|          | 0/15 [00:00<?, ?ba/s]"
            ],
            "application/vnd.jupyter.widget-view+json": {
              "version_major": 2,
              "version_minor": 0,
              "model_id": "317f440abe874034a1b4b541db09a176"
            }
          },
          "metadata": {}
        },
        {
          "output_type": "display_data",
          "data": {
            "text/plain": [
              "  0%|          | 0/133 [00:00<?, ?ba/s]"
            ],
            "application/vnd.jupyter.widget-view+json": {
              "version_major": 2,
              "version_minor": 0,
              "model_id": "f52a46c1d4af41029bcad2934b6a6c7a"
            }
          },
          "metadata": {}
        },
        {
          "output_type": "display_data",
          "data": {
            "text/plain": [
              "  0%|          | 0/17 [00:00<?, ?ba/s]"
            ],
            "application/vnd.jupyter.widget-view+json": {
              "version_major": 2,
              "version_minor": 0,
              "model_id": "48c312992e69489499b0df9d92f5731f"
            }
          },
          "metadata": {}
        },
        {
          "output_type": "display_data",
          "data": {
            "text/plain": [
              "  0%|          | 0/15 [00:00<?, ?ba/s]"
            ],
            "application/vnd.jupyter.widget-view+json": {
              "version_major": 2,
              "version_minor": 0,
              "model_id": "5cb8db0da56e455b8d68b68025e61870"
            }
          },
          "metadata": {}
        }
      ]
    },
    {
      "cell_type": "code",
      "source": [
        "dataset"
      ],
      "metadata": {
        "colab": {
          "base_uri": "https://localhost:8080/"
        },
        "id": "7-d_0aAqU0MY",
        "outputId": "48ce120f-3673-456a-c9f9-bfb34a3c094a"
      },
      "execution_count": null,
      "outputs": [
        {
          "output_type": "execute_result",
          "data": {
            "text/plain": [
              "DatasetDict({\n",
              "    train: Dataset({\n",
              "        features: ['text', 'label', 'poet era', 'input_ids', 'labels'],\n",
              "        num_rows: 132455\n",
              "    })\n",
              "    valid: Dataset({\n",
              "        features: ['text', 'label', 'poet era', 'input_ids', 'labels'],\n",
              "        num_rows: 16353\n",
              "    })\n",
              "    test: Dataset({\n",
              "        features: ['text', 'label', 'poet era', 'input_ids', 'labels'],\n",
              "        num_rows: 14718\n",
              "    })\n",
              "})"
            ]
          },
          "metadata": {},
          "execution_count": 70
        }
      ]
    },
    {
      "cell_type": "code",
      "source": [
        "sns.countplot(dataset['train']['label'],orient=\"v\")"
      ],
      "metadata": {
        "colab": {
          "base_uri": "https://localhost:8080/",
          "height": 337
        },
        "id": "Cr7eHNMFUv7p",
        "outputId": "f5eaf5a7-aacd-47fa-a16d-68e738fa6807"
      },
      "execution_count": null,
      "outputs": [
        {
          "output_type": "stream",
          "name": "stderr",
          "text": [
            "/usr/local/lib/python3.7/dist-packages/seaborn/_decorators.py:43: FutureWarning: Pass the following variable as a keyword arg: x. From version 0.12, the only valid positional argument will be `data`, and passing other arguments without an explicit keyword will result in an error or misinterpretation.\n",
            "  FutureWarning\n"
          ]
        },
        {
          "output_type": "execute_result",
          "data": {
            "text/plain": [
              "<matplotlib.axes._subplots.AxesSubplot at 0x7f36b85e92d0>"
            ]
          },
          "metadata": {},
          "execution_count": 71
        },
        {
          "output_type": "display_data",
          "data": {
            "text/plain": [
              "<Figure size 432x288 with 1 Axes>"
            ],
            "image/png": "[encoded data removed]"
          },
          "metadata": {
            "needs_background": "light"
          }
        }
      ]
    },
    {
      "cell_type": "code",
      "source": [
        "from datasets import load_dataset\n",
        "dt = load_dataset('json',data_files=['/content/era_dataset.json'],field='data')\n",
        "dt"
      ],
      "metadata": {
        "id": "AThj1IDtbfFE",
        "colab": {
          "base_uri": "https://localhost:8080/",
          "height": 188,
          "referenced_widgets": [
            "f82ad61547eb4fb38805b76c97792a74",
            "2ddc40cd9cd6459aa069e17757098e4b",
            "924526e78df942cb8f0199551c2554b4",
            "ec402746c03047adb5b0fce32608b5b8",
            "74436bfa8f4d4cbdb21fc363058ba3f2",
            "19d089855c314daeb37f37c0d29914cc",
            "0fcabf956e1c433196753d5de1987822",
            "123c2d4ac9ed49f48ed39ad571731ce1",
            "476b7357a51641a5930c7340ea39b475",
            "ceaf8841d6c344e894e3796de680ce04",
            "1a519d33320c4e6b8dfe11a5b246e1ce"
          ]
        },
        "outputId": "570a3946-1857-482a-e8fb-3022917d6bb8"
      },
      "execution_count": null,
      "outputs": [
        {
          "output_type": "stream",
          "name": "stderr",
          "text": [
            "Using custom data configuration default-279f4d92348bee9c\n",
            "Reusing dataset json (/root/.cache/huggingface/datasets/json/default-279f4d92348bee9c/0.0.0/ac0ca5f5289a6cf108e706efcf040422dbbfa8e658dee6a819f20d76bb84d26b)\n"
          ]
        },
        {
          "output_type": "display_data",
          "data": {
            "text/plain": [
              "  0%|          | 0/1 [00:00<?, ?it/s]"
            ],
            "application/vnd.jupyter.widget-view+json": {
              "version_major": 2,
              "version_minor": 0,
              "model_id": "f82ad61547eb4fb38805b76c97792a74"
            }
          },
          "metadata": {}
        },
        {
          "output_type": "execute_result",
          "data": {
            "text/plain": [
              "DatasetDict({\n",
              "    train: Dataset({\n",
              "        features: ['text', 'label', 'poet era'],\n",
              "        num_rows: 163526\n",
              "    })\n",
              "})"
            ]
          },
          "metadata": {},
          "execution_count": 44
        }
      ]
    },
    {
      "cell_type": "markdown",
      "source": [
        "append our datasets to `datasets.ini` file.\n",
        "\n",
        "\n",
        "https://stackoverflow.com/a/36520983/4412324"
      ],
      "metadata": {
        "id": "Ne06caTiwSbu"
      }
    },
    {
      "cell_type": "code",
      "source": [
        "%%writefile -a nmatheg/nmatheg/datasets.ini\n",
        "\n",
        "[json]\n",
        "text = text\n",
        "label = label\n",
        "num_labels = 7\n",
        "task = cls"
      ],
      "metadata": {
        "id": "fnzHvdIQFPZQ",
        "colab": {
          "base_uri": "https://localhost:8080/"
        },
        "outputId": "f67e04eb-04e7-404c-d48c-d34fc7a19ded"
      },
      "execution_count": null,
      "outputs": [
        {
          "output_type": "stream",
          "name": "stdout",
          "text": [
            "Appending to nmatheg/nmatheg/datasets.ini\n"
          ]
        }
      ]
    },
    {
      "cell_type": "code",
      "source": [
        "!tail -5 nmatheg/nmatheg/datasets.ini"
      ],
      "metadata": {
        "id": "-2YhtSaJx-iN",
        "colab": {
          "base_uri": "https://localhost:8080/"
        },
        "outputId": "c9c5bc48-d7e0-4e73-ef13-52f7234706c7"
      },
      "execution_count": null,
      "outputs": [
        {
          "output_type": "stream",
          "name": "stdout",
          "text": [
            "[json]\n",
            "text = text\n",
            "label = label\n",
            "num_labels = 7\n",
            "task = cls"
          ]
        }
      ]
    },
    {
      "cell_type": "markdown",
      "source": [
        "## create the config.ini file"
      ],
      "metadata": {
        "id": "0aLgZVsrfCAi"
      }
    },
    {
      "cell_type": "code",
      "source": [
        "%%writefile /content/exp_config.ini\n",
        "[dataset]\n",
        "dataset_name = json\n",
        "\n",
        "[preprocessing]\n",
        "segment = False\n",
        "remove_special_chars = False\n",
        "remove_english = True\n",
        "normalize = False\n",
        "remove_diacritics = True\n",
        "excluded_chars = []\n",
        "remove_tatweel = True\n",
        "remove_html_elements = False\n",
        "remove_links = False \n",
        "remove_twitter_meta = False\n",
        "remove_long_words = False\n",
        "remove_repeated_chars = False\n",
        "\n",
        "[tokenization]\n",
        "tokenizer_name = SentencePieceTokenizer\n",
        "vocab_size = 10000\n",
        "max_tokens = 128\n",
        "\n",
        "[model]\n",
        "model_name = asafaya/bert-mini-arabic\n",
        "\n",
        "[log]\n",
        "print_every = 10\n",
        "\n",
        "[load_dataset_kwargs]\n",
        "data_files = /content/era_dataset.json\n",
        "field=data\n",
        "\n",
        "[train]\n",
        "save_dir = .\n",
        "epochs = 10\n",
        "batch_size = 8\n",
        "lr = 0.01 "
      ],
      "metadata": {
        "colab": {
          "base_uri": "https://localhost:8080/"
        },
        "id": "MX46WWYIe4gq",
        "outputId": "3400ed4b-262a-41ae-b928-b7d7d56b841e"
      },
      "execution_count": null,
      "outputs": [
        {
          "output_type": "stream",
          "name": "stdout",
          "text": [
            "Overwriting /content/exp_config.ini\n"
          ]
        }
      ]
    },
    {
      "cell_type": "code",
      "source": [
        "%%capture\n",
        "!pip install -e /content/nmatheg"
      ],
      "metadata": {
        "id": "WUghYVf1gEp_"
      },
      "execution_count": null,
      "outputs": []
    },
    {
      "cell_type": "code",
      "source": [
        "import nmatheg as nm\n",
        "strategy = nm.TrainStrategy('/content/exp_config.ini')\n",
        "results = strategy.start()"
      ],
      "metadata": {
        "id": "3Gry4gKdf7Lt"
      },
      "execution_count": null,
      "outputs": []
    },
    {
      "cell_type": "code",
      "source": [
        "import tensorflow as tf\n",
        "import numpy as np\n",
        "import os\n",
        "import time\n",
        "import glob\n",
        "from tensorflow.keras.layers import GRU, Embedding, Dense, Input, Dropout, Bidirectional, BatchNormalization, Flatten, Reshape\n",
        "from tensorflow.keras.models import Sequential\n",
        "from keras.preprocessing.text import Tokenizer, text_to_word_sequence\n",
        "from keras.preprocessing.sequence import pad_sequences\n",
        "from sklearn.utils import shuffle\n",
        "from sklearn.metrics import confusion_matrix\n",
        "from sklearn.model_selection import train_test_split\n",
        "import matplotlib.pyplot as plt\n",
        "\n",
        "\n",
        "\n",
        "def create_model_v1():\n",
        "  model = Sequential()\n",
        "  model.add(Input((max_tokens,)))\n",
        "  model.add(Embedding(10_000, 128))\n",
        "  model.add(Bidirectional(GRU(units = 64, return_sequences=True, dropout=0.3)))\n",
        "  model.add(Bidirectional(GRU(units = 64, return_sequences=True, dropout=0.3)))\n",
        "  model.add(Bidirectional(GRU(units = 64, dropout=0.3)))\n",
        "  model.add(Dropout(0.3))\n",
        "  model.add(Dense(64, activation = 'relu'))\n",
        "  model.add(Dropout(0.3))\n",
        "  model.add(Dense(4, activation = 'softmax'))\n",
        "  model.compile(optimizer = 'adam', loss = 'sparse_categorical_crossentropy', metrics = ['accuracy'])\n",
        "  return model\n",
        "\n",
        "\n",
        "checkpoint_path = \"/content/drive/MyDrive/Research/Barmajan/era_classification_models_shorter_context/cp.ckpt\"\n",
        "checkpoint_dir = os.path.dirname(checkpoint_path)\n",
        "\n",
        "callbacks = [tf.keras.callbacks.ModelCheckpoint(checkpoint_path,\n",
        "                                                 monitor='val_accuracy',\n",
        "                                                 verbose=1,\n",
        "                                                 save_weights_only=True,\n",
        "                                                 save_best_only= True,\n",
        "                                                 mode='max')]"
      ],
      "metadata": {
        "id": "JcNwGu0eRKmm"
      },
      "execution_count": null,
      "outputs": []
    },
    {
      "cell_type": "code",
      "source": [
        "x_train = np.array(dataset['train']['input_ids'])\n",
        "y_train = np.array(dataset['train']['labels'])\n",
        "x_valid = np.array(dataset['valid']['input_ids'])\n",
        "y_valid = np.array(dataset['valid']['labels'])"
      ],
      "metadata": {
        "id": "rJEL8Vv4Xf9h"
      },
      "execution_count": null,
      "outputs": []
    },
    {
      "cell_type": "code",
      "source": [
        "model = create_model_v1()\n",
        "# model.summary()"
      ],
      "metadata": {
        "id": "DDybZhhGi9sH"
      },
      "execution_count": null,
      "outputs": []
    },
    {
      "cell_type": "code",
      "source": [
        "model.fit(x_train, y_train, validation_data = (x_valid, y_valid) ,epochs = 5, shuffle = True, batch_size=128)"
      ],
      "metadata": {
        "id": "pbi1ucc5Wa5T",
        "colab": {
          "base_uri": "https://localhost:8080/"
        },
        "outputId": "b6f981ba-2171-4c30-9880-514ebb2fccbb"
      },
      "execution_count": null,
      "outputs": [
        {
          "output_type": "stream",
          "name": "stdout",
          "text": [
            "Epoch 1/5\n",
            "1035/1035 [==============================] - 36s 28ms/step - loss: 1.1126 - accuracy: 0.4692 - val_loss: 1.0110 - val_accuracy: 0.5380\n",
            "Epoch 2/5\n",
            "1035/1035 [==============================] - 28s 27ms/step - loss: 0.9609 - accuracy: 0.5656 - val_loss: 0.9780 - val_accuracy: 0.5615\n",
            "Epoch 3/5\n",
            "1035/1035 [==============================] - 28s 27ms/step - loss: 0.8826 - accuracy: 0.6124 - val_loss: 0.9774 - val_accuracy: 0.5633\n",
            "Epoch 4/5\n",
            "1035/1035 [==============================] - 28s 27ms/step - loss: 0.8181 - accuracy: 0.6456 - val_loss: 0.9986 - val_accuracy: 0.5537\n",
            "Epoch 5/5\n",
            "1035/1035 [==============================] - 27s 26ms/step - loss: 0.7618 - accuracy: 0.6734 - val_loss: 1.0315 - val_accuracy: 0.5595\n"
          ]
        },
        {
          "output_type": "execute_result",
          "data": {
            "text/plain": [
              "<keras.callbacks.History at 0x7f37a4087e50>"
            ]
          },
          "metadata": {},
          "execution_count": 75
        }
      ]
    },
    {
      "cell_type": "code",
      "source": [
        "x_test = np.array(dataset['test']['input_ids'])\n",
        "y_test = np.array(dataset['test']['labels'])"
      ],
      "metadata": {
        "id": "nPrxEDK1dQFp"
      },
      "execution_count": null,
      "outputs": []
    },
    {
      "cell_type": "code",
      "source": [
        "sns.countplot(y_test)"
      ],
      "metadata": {
        "colab": {
          "base_uri": "https://localhost:8080/",
          "height": 337
        },
        "id": "ClNybAntixRf",
        "outputId": "27d0d0aa-36db-4e30-9680-8ed8ac58095d"
      },
      "execution_count": null,
      "outputs": [
        {
          "output_type": "stream",
          "name": "stderr",
          "text": [
            "/usr/local/lib/python3.7/dist-packages/seaborn/_decorators.py:43: FutureWarning: Pass the following variable as a keyword arg: x. From version 0.12, the only valid positional argument will be `data`, and passing other arguments without an explicit keyword will result in an error or misinterpretation.\n",
            "  FutureWarning\n"
          ]
        },
        {
          "output_type": "execute_result",
          "data": {
            "text/plain": [
              "<matplotlib.axes._subplots.AxesSubplot at 0x7f37a4dbbc50>"
            ]
          },
          "metadata": {},
          "execution_count": 61
        },
        {
          "output_type": "display_data",
          "data": {
            "text/plain": [
              "<Figure size 432x288 with 1 Axes>"
            ],
            "image/png": "[encoded data removed]"
          },
          "metadata": {
            "needs_background": "light"
          }
        }
      ]
    },
    {
      "cell_type": "code",
      "source": [
        "# model = create_model_v1()\n",
        "# model.load_weights(checkpoint_path)\n",
        "model.evaluate(x_test, y_test, batch_size = 256)"
      ],
      "metadata": {
        "colab": {
          "base_uri": "https://localhost:8080/"
        },
        "id": "KDJkUBtSdXiY",
        "outputId": "7f5ebbbf-34c9-4908-f16c-0157f1d28473"
      },
      "execution_count": null,
      "outputs": [
        {
          "output_type": "stream",
          "name": "stdout",
          "text": [
            "58/58 [==============================] - 1s 16ms/step - loss: 1.0418 - accuracy: 0.5526\n"
          ]
        },
        {
          "output_type": "execute_result",
          "data": {
            "text/plain": [
              "[1.0418223142623901, 0.5525886416435242]"
            ]
          },
          "metadata": {},
          "execution_count": 80
        }
      ]
    },
    {
      "cell_type": "code",
      "source": [
        "y_pred = model.predict(x_test, batch_size = 256)"
      ],
      "metadata": {
        "id": "FmmTamZtdK_-"
      },
      "execution_count": null,
      "outputs": []
    },
    {
      "cell_type": "code",
      "source": [
        "import seaborn as sn\n",
        "import pandas as pd\n",
        "import matplotlib.pyplot as plt\n",
        "from sklearn.metrics import confusion_matrix\n",
        "from bidi.algorithm import get_display\n",
        "import arabic_reshaper\n",
        "\n",
        "cm = confusion_matrix(y_test, y_pred.argmax(-1))\n",
        "print(cm)\n",
        "cmn = cm.astype('float') / cm.sum(axis=1)[:, np.newaxis]\n",
        "lbls = [get_display(arabic_reshaper.reshape(lbl[0])) for lbl in labels2era]\n",
        "df_cm = pd.DataFrame(cmn, lbls, lbls)\n",
        "plt.figure(figsize=(10,7))\n",
        "sn.heatmap(df_cm, annot=True, annot_kws={\"size\": 10}, fmt='.2f') # font size\n",
        "\n",
        "plt.show()"
      ],
      "metadata": {
        "colab": {
          "base_uri": "https://localhost:8080/",
          "height": 498
        },
        "id": "fkTatf-e2czz",
        "outputId": "42fb3672-ec0f-46ce-9503-6c82816209bb"
      },
      "execution_count": null,
      "outputs": [
        {
          "output_type": "stream",
          "name": "stdout",
          "text": [
            "[[ 524  476  113   87]\n",
            " [ 202 2854 1043  424]\n",
            " [  85 1214 2353  835]\n",
            " [  63  802 1241 2402]]\n"
          ]
        },
        {
          "output_type": "display_data",
          "data": {
            "text/plain": [
              "<Figure size 720x504 with 2 Axes>"
            ],
            "image/png": "[encoded data removed]"
          },
          "metadata": {
            "needs_background": "light"
          }
        }
      ]
    },
    {
      "cell_type": "code",
      "source": [
        "tokenizer.save_model('/content/drive/MyDrive/Research/Barmajan/era_classification_models_shorter_context/vocab.model')"
      ],
      "metadata": {
        "id": "NZhMXivAy-47"
      },
      "execution_count": null,
      "outputs": []
    },
    {
      "cell_type": "code",
      "source": [
        "!pip install git+https://github.com/ARBML/tkseem.git\n",
        "checkpoint_path = \"era_classification_models/cp.ckpt\"\n",
        "\n",
        "def create_model():\n",
        "  model = Sequential()\n",
        "  model.add(Input((128,)))\n",
        "  model.add(Embedding(10_000, 128))\n",
        "  model.add(Bidirectional(GRU(units = 64, return_sequences=True, dropout=0.3)))\n",
        "  model.add(Bidirectional(GRU(units = 64, return_sequences=True, dropout=0.3)))\n",
        "  model.add(Bidirectional(GRU(units = 64, dropout=0.3)))\n",
        "  model.add(Dropout(0.3))\n",
        "  model.add(Dense(64, activation = 'relu'))\n",
        "  model.add(Dropout(0.3))\n",
        "  model.add(Dense(4, activation = 'softmax'))\n",
        "  model.compile(optimizer = 'adam', loss = 'sparse_categorical_crossentropy', metrics = ['accuracy'])\n",
        "  return model\n",
        "\n",
        "model = create_model()\n",
        "model.load_weights(checkpoint_path)\n",
        "\n",
        "tokenizer = tk.SentencePieceTokenizer()\n",
        "tokenizer.load_model('era_classification_models/vocab.model')\n",
        "\n",
        "import tkseem as tk\n",
        "def predict(poem, max_tokens = 128):\n",
        "  labels2era = [['العصر الجاهلي', 'العصر الإسلامي', 'العصر الأموي', 'قبل الإسلام'],\n",
        " ['العصر العباسي'],\n",
        " ['العصر الفاطمي', 'العصر الأيوبي', 'العصر المملوكي'],\n",
        " ['العصر الحديث', 'العصر العثماني']]\n",
        "\n",
        "  tokenized = tokenizer.encode_sentences(poem, out_length= max_tokens)\n",
        "  print(labels2era[model.predict(tokenized).argmax(-1)[0]])"
      ],
      "metadata": {
        "id": "uTZdDtEIlhXm"
      },
      "execution_count": null,
      "outputs": []
    },
    {
      "cell_type": "code",
      "source": [
        "sentence = \"شيدوا أركانها في القطر كالنزلاء أين المدارس وهي أعظم ما بنى بأن لأبناء لنا نجاء وملاجىء الأيتام هل أثر لها شادته سادتنا ذوو الإثراء أين المبرات التي كالغيث في تهطاله هطلت على التعساء وبها تفرد رحمة بالناس وا أسفاه أفراد من الغرباء لا ذا ولا هذا فمال غنينا في مصرف أوطار مثل هباء إن جاد بعض المحسنين فإنما هم نقطة من زاخر الدأماء فعلى الجميع أداء دين أول لله والأوطان خير أداء هو أثقل الأعباء فوق كواهل تشكو إذ انفردت من الأعباء ومخفف وقر الحياة إذا به أهل الغنى نهضوا بلا إستثناء هو أن نراهم ضارعوا النزلاء في فيض الأكف وبسطها بعطاء قوم على إخوانهم في جودهم قد أصبحوا كالديمة الوكفاء فالبؤس إذ هزموه شر هزيمة رفعوا لفوز البر خير لواء مثل لنا في الجود عليا فاقتدوا بذوي\"\n",
        "predict(sentence)"
      ],
      "metadata": {
        "colab": {
          "base_uri": "https://localhost:8080/"
        },
        "id": "Mq2L0tirlzUe",
        "outputId": "5fdda249-1372-4dcd-b921-bb1b24cebeed"
      },
      "execution_count": null,
      "outputs": [
        {
          "output_type": "stream",
          "name": "stdout",
          "text": [
            "['العصر الحديث', 'العصر العثماني']\n"
          ]
        }
      ]
    },
    {
      "cell_type": "code",
      "source": [
        "sentence = dataset['test']['text'][0]\n",
        "print(sentence)\n",
        "predict(sentence)"
      ],
      "metadata": {
        "colab": {
          "base_uri": "https://localhost:8080/"
        },
        "id": "3Wy42nRNv-H-",
        "outputId": "d41c6944-660a-4def-b2fb-9ac1af96689a"
      },
      "execution_count": null,
      "outputs": [
        {
          "output_type": "stream",
          "name": "stdout",
          "text": [
            "ألائمه في الجود لا تعذلنه فطبع الفتى أولى به من ملامه رويدا فإن الجود مثل رضاعه لديه وترك الجود مثل فطامه هو البحر لا تطلب بعذلك رده ومن ذا يرد البحر عند التطامه هني الندى يفتض ختم نواله ووجهك نضر ماؤه بختامه غدا سعيه والله يشكره له سناما لهذا المجد فوق سنامه فلو ملك الآفاق دع عنك آمدا غلام له ما استكثرت لغلامه ولم\n",
            "['العصر العباسي']\n"
          ]
        }
      ]
    }
  ]
}