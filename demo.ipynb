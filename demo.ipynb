{
  "nbformat": 4,
  "nbformat_minor": 0,
  "metadata": {
    "colab": {
      "name": "Barmajan: Qawafi Colab Demo.ipynb",
      "provenance": [],
      "collapsed_sections": []
    },
    "kernelspec": {
      "name": "python3",
      "display_name": "Python 3"
    },
    "language_info": {
      "name": "python"
    },
    "accelerator": "GPU"
  },
  "cells": [
    {
      "cell_type": "code",
      "execution_count": null,
      "metadata": {
        "id": "teotLzJ8gkbK"
      },
      "outputs": [],
      "source": [
        "%%capture\n",
        "!git clone https://github.com/MagedSaeed/qawafi\n",
        "!git clone https://github.com/zaidalyafeai/shakkelha"
      ]
    },
    {
      "cell_type": "code",
      "source": [
        "%%capture\n",
        "%cd /content/qawafi/demo\n",
        "!pip install -r requirements.txt"
      ],
      "metadata": {
        "id": "Z7cEZ4bjiel0"
      },
      "execution_count": null,
      "outputs": []
    },
    {
      "cell_type": "markdown",
      "source": [
        "ادخل البيت في سطر منفصل"
      ],
      "metadata": {
        "id": "f60xT8iS_Hqw"
      }
    },
    {
      "cell_type": "code",
      "source": [
        "from utils import process_and_write\n",
        "input = \"\"\"\n",
        "ألاليت شعري هل أبيتن ليلة\n",
        "بجنب الغضى أزجي القِلاص النواجيا\n",
        "\"\"\"\n",
        "process_and_write(input)"
      ],
      "metadata": {
        "id": "x5NdsE_1_AQL"
      },
      "execution_count": null,
      "outputs": []
    },
    {
      "cell_type": "code",
      "source": [
        "%tensorflow_version 1.x\n",
        "%cd /content/qawafi/demo\n",
        "!bash diacritization_command.bash"
      ],
      "metadata": {
        "id": "clrfKHBss3jy"
      },
      "execution_count": null,
      "outputs": []
    },
    {
      "cell_type": "code",
      "source": [
        "%tensorflow_version 2.x\n",
        "from demo import BaitAnalysis\n",
        "\n",
        "analysis = BaitAnalysis()\n",
        "analysis.analyze()"
      ],
      "metadata": {
        "id": "8A7P_o1FkONy"
      },
      "execution_count": null,
      "outputs": []
    }
  ]
}