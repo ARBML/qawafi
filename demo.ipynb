{
  "cells": [
    {
      "cell_type": "code",
      "execution_count": null,
      "metadata": {
        "id": "teotLzJ8gkbK"
      },
      "outputs": [],
      "source": [
        "%%capture\n",
        "!git clone https://github.com/ARBML/qawafi\n",
        "!git clone https://github.com/zaidalyafeai/shakkelha"
      ]
    },
    {
      "cell_type": "code",
      "execution_count": null,
      "metadata": {
        "id": "Z7cEZ4bjiel0"
      },
      "outputs": [],
      "source": [
        "%%capture\n",
        "%cd /content/qawafi/demo\n",
        "!pip install -r requirements.txt"
      ]
    },
    {
      "cell_type": "markdown",
      "metadata": {
        "id": "f60xT8iS_Hqw"
      },
      "source": [
        "ادخل البيت في سطر منفصل"
      ]
    },
    {
      "cell_type": "code",
      "execution_count": null,
      "metadata": {
        "id": "x5NdsE_1_AQL"
      },
      "outputs": [],
      "source": [
        "from utils import process_and_write\n",
        "input = \"\"\"\n",
        "ألاليت شعري هل أبيتن ليلة\n",
        "بجنب الغضى أزجي القِلاص النواجيا\n",
        "\"\"\"\n",
        "process_and_write(input)"
      ]
    },
    {
      "cell_type": "code",
      "execution_count": null,
      "metadata": {
        "id": "clrfKHBss3jy"
      },
      "outputs": [],
      "source": [
        "%tensorflow_version 1.x\n",
        "%cd /content/qawafi/demo\n",
        "!bash diacritization_command.bash"
      ]
    },
    {
      "cell_type": "code",
      "execution_count": null,
      "metadata": {
        "id": "8A7P_o1FkONy"
      },
      "outputs": [],
      "source": [
        "%tensorflow_version 2.x\n",
        "from demo import BaitAnalysis\n",
        "\n",
        "analysis = BaitAnalysis()\n",
        "analysis.analyze()"
      ]
    }
  ],
  "metadata": {
    "accelerator": "GPU",
    "colab": {
      "collapsed_sections": [],
      "name": "Barmajan: Qawafi Colab Demo.ipynb",
      "provenance": []
    },
    "kernelspec": {
      "display_name": "Python 3",
      "name": "python3"
    },
    "language_info": {
      "name": "python"
    }
  },
  "nbformat": 4,
  "nbformat_minor": 0
}
