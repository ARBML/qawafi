{
  "nbformat": 4,
  "nbformat_minor": 0,
  "metadata": {
    "colab": {
      "name": "Barmajan: Qawafi Colab Demo.ipynb",
      "provenance": [],
      "collapsed_sections": []
    },
    "kernelspec": {
      "name": "python3",
      "display_name": "Python 3"
    },
    "language_info": {
      "name": "python"
    },
    "accelerator": "GPU"
  },
  "cells": [
    {
      "cell_type": "code",
      "execution_count": null,
      "metadata": {
        "id": "teotLzJ8gkbK"
      },
      "outputs": [],
      "source": [
        "%%capture\n",
        "!git clone https://github.com/MagedSaeed/qawafi\n",
        "!git clone https://github.com/zaidalyafeai/shakkelha"
      ]
    },
    {
      "cell_type": "code",
      "source": [
        "%%capture\n",
        "!pip install -r requirements.txt"
      ],
      "metadata": {
        "id": "Z7cEZ4bjiel0"
      },
      "execution_count": null,
      "outputs": []
    },
    {
      "cell_type": "code",
      "source": [
        "%cd /content/qawafi/demo"
      ],
      "metadata": {
        "colab": {
          "base_uri": "https://localhost:8080/"
        },
        "id": "QnTOorXzBx5Q",
        "outputId": "7512683b-eb86-4ca7-a335-4ccbec5b95aa"
      },
      "execution_count": null,
      "outputs": [
        {
          "output_type": "stream",
          "name": "stdout",
          "text": [
            "/content/qawafi/demo\n"
          ]
        }
      ]
    },
    {
      "cell_type": "markdown",
      "source": [
        "ادخل البيت في سطر منفصل"
      ],
      "metadata": {
        "id": "f60xT8iS_Hqw"
      }
    },
    {
      "cell_type": "code",
      "source": [
        "from utils import process_and_write\n",
        "input = \"\"\"\n",
        "ألاليت شعري هل أبيتن ليلة\n",
        "بجنب الغضى أزجي القِلاص النواجيا\n",
        "\"\"\"\n",
        "process_and_write(input)"
      ],
      "metadata": {
        "id": "x5NdsE_1_AQL"
      },
      "execution_count": null,
      "outputs": []
    },
    {
      "cell_type": "code",
      "source": [
        "%tensorflow_version 1.x\n",
        "%cd /content/qawafi/demo\n",
        "!bash diacritization_command.bash"
      ],
      "metadata": {
        "colab": {
          "base_uri": "https://localhost:8080/"
        },
        "id": "clrfKHBss3jy",
        "outputId": "474d0677-fae3-43ec-8cf3-eaaefeae8fe3"
      },
      "execution_count": null,
      "outputs": [
        {
          "output_type": "stream",
          "name": "stdout",
          "text": [
            "TensorFlow 1.x selected.\n",
            "/content/qawafi/demo\n",
            "Using TensorFlow backend.\n",
            "WARNING:tensorflow:From predict.py:148: The name tf.logging.set_verbosity is deprecated. Please use tf.compat.v1.logging.set_verbosity instead.\n",
            "\n",
            "WARNING:tensorflow:From predict.py:148: The name tf.logging.ERROR is deprecated. Please use tf.compat.v1.logging.ERROR instead.\n",
            "\n",
            "Loading model from: models/rnn_models/3_normalized_model/big_data/avg_20.ckpt\n",
            "Model loaded successfully!\n",
            "Loading data...\n",
            "1 lines loaded\n",
            "Loading constants...\n",
            "Start predicting...\n",
            "1/1 (100.00)\n",
            "Write predictions...\n",
            "/content/qawafi/demo\n"
          ]
        }
      ]
    },
    {
      "cell_type": "code",
      "source": [
        "%tensorflow_version 2.x\n",
        "from demo import BaitAnalysis\n",
        "\n",
        "analysis = BaitAnalysis()\n",
        "analysis.analyze()"
      ],
      "metadata": {
        "colab": {
          "base_uri": "https://localhost:8080/"
        },
        "id": "8A7P_o1FkONy",
        "outputId": "07436212-004a-40f4-e714-9c119728b104"
      },
      "execution_count": null,
      "outputs": [
        {
          "output_type": "stream",
          "name": "stdout",
          "text": [
            "TensorFlow 2.x selected.\n",
            "load meter classification model ...\n",
            "load embedding model ...\n",
            "load era classification model ...\n",
            "load theme classification model ...\n"
          ]
        },
        {
          "output_type": "stream",
          "name": "stderr",
          "text": [
            "Loading cached processed dataset at /content/qawafi/qawafi_server/deep-learning-models/baits_embeddings/cache-7f04c9abd9262b83.arrow\n"
          ]
        },
        {
          "output_type": "stream",
          "name": "stdout",
          "text": [
            "{'arudi_style': [['ألاليت شعري هل أبيتنن ليلتن بجنب لغضى أزجلقلاص ننواجيا',\n",
            "                  '1101011010101101011011011010110101011010110110']],\n",
            " 'closest_baits': [[('ألاليت شعري هل أبيتن ليلة # بجنب الغضى أزجي القِلاص '\n",
            "                     'النواجيا',\n",
            "                     [0.38896721601486206])]],\n",
            " 'closest_patterns': [('1101011010101101011011011010110101011010110110',\n",
            "                       1.0,\n",
            "                       'فعولنْ مفاعيلنْ فعولنْ مفاعلنْ # فعولنْ مفاعيلنْ '\n",
            "                       'فعولنْ مفاعلنْ')],\n",
            " 'diacritized': ['أَلَالَيْتُ شِعْرِي هَلْ أَبِيتَنَّ لَيْلَةً # بِجَنْبِ '\n",
            "                 'الْغَضَى أَزْجِي الْقِلَاصَ النَّوَاجِيَا'],\n",
            " 'era': ['العصر الحديث', 'العصر العثماني'],\n",
            " 'meter': 'الطويل',\n",
            " 'qafiyah': ('ي',\n",
            "             'قافية بحرف الروي: ي ،  زاد لها الوصل بإشباع رويها زاد لها '\n",
            "             'التأسيس'),\n",
            " 'theme': ['قصيدة رومنسيه', 'قصيدة شوق', 'قصيدة غزل']}\n"
          ]
        }
      ]
    }
  ]
}