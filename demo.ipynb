{
  "cells": [
    {
      "cell_type": "code",
      "execution_count": null,
      "metadata": {
        "id": "teotLzJ8gkbK"
      },
      "outputs": [],
      "source": [
        "%%capture\n",
        "!git clone https://github.com/ARBML/qawafi\n",
        "!pip install -r qawafi/demo_requirements.txt"
      ]
    },
    {
      "cell_type": "code",
      "execution_count": null,
      "metadata": {
        "colab": {
          "base_uri": "https://localhost:8080/"
        },
        "id": "8dXcUOyHQgg-",
        "outputId": "151ee8d7-d46f-446e-ce92-cb66441493ed"
      },
      "outputs": [
        {
          "output_type": "stream",
          "name": "stdout",
          "text": [
            "/content/qawafi/qawafi_server\n"
          ]
        }
      ],
      "source": [
        "%cd /content/qawafi/qawafi_server"
      ]
    },
    {
      "cell_type": "code",
      "execution_count": null,
      "metadata": {
        "id": "MibmOukkOXMm"
      },
      "outputs": [],
      "source": [
        "import sys\n",
        "server_path = '/content/qawafi/qawafi_server'\n",
        "if server_path not in sys.path:\n",
        "  sys.path.append(server_path)\n",
        "\n",
        "server_path = '/content/qawafi/qawafi_server/Arabic_Diacritization'\n",
        "if server_path not in sys.path:\n",
        "  sys.path.append(server_path)"
      ]
    },
    {
      "cell_type": "markdown",
      "metadata": {
        "id": "f60xT8iS_Hqw"
      },
      "source": [
        "ادخل الشطر في سطر منفصل"
      ]
    },
    {
      "cell_type": "code",
      "execution_count": null,
      "metadata": {
        "id": "x5NdsE_1_AQL"
      },
      "outputs": [],
      "source": [
        "shatrs = \"\"\"\n",
        "القلب أعلم يا عذول بدائه\n",
        "وأحق منك بجفنه وبمائه\n",
        "مهلا فإن العذل من أسقامه\n",
        "وترفقا فالسمع من أعضائه\n",
        "لا تعذل المشتاق في أشواقه\n",
        "حتى يكون حشاك في أحشائه\n",
        "\"\"\"\n",
        "shatrs = shatrs.split(\"\\n\")[1:-1]\n",
        "baits = [' # '.join(shatrs[2*i:2*i+2]) for i in range(len(shatrs)//2)]"
      ]
    },
    {
      "cell_type": "code",
      "source": [
        "!git clone https://github.com/zaidalyafeai/Arabic_Diacritization"
      ],
      "metadata": {
        "id": "JvRVRcQUL9d9",
        "outputId": "1e717aa7-00ea-4cb4-b509-6c6f4b31187d",
        "colab": {
          "base_uri": "https://localhost:8080/"
        }
      },
      "execution_count": null,
      "outputs": [
        {
          "output_type": "stream",
          "name": "stdout",
          "text": [
            "Cloning into 'Arabic_Diacritization'...\n",
            "remote: Enumerating objects: 92, done.\u001b[K\n",
            "remote: Counting objects: 100% (92/92), done.\u001b[K\n",
            "remote: Compressing objects: 100% (84/84), done.\u001b[K\n",
            "remote: Total 92 (delta 42), reused 27 (delta 6), pack-reused 0\u001b[K\n",
            "Unpacking objects: 100% (92/92), done.\n"
          ]
        }
      ]
    },
    {
      "cell_type": "code",
      "execution_count": null,
      "metadata": {
        "colab": {
          "base_uri": "https://localhost:8080/",
          "height": 391,
          "referenced_widgets": [
            "d5513466e0d740adbb0a7e235d40c09b",
            "8e350c57fd304edf9394e820b140a1bf",
            "64a509f0800c4c269f1238462560f1ef",
            "5af4aee711bc498a80d4c98b07acef95",
            "426400d796504e18b9e2ea493cebce4f",
            "9a426c1c7a584406839db3809d0240fe",
            "9dd89f06c745482dac9161db53646d38",
            "c55910518d5e450f8671751b02df6bed",
            "cf10967d520b42db9da3be8fe2b63ba5",
            "41779622d0634bb3ad4dc01b347a67b3",
            "d656ee1310c349f898510fc664036f16",
            "1b1bbd20b6ce41b2ba43586a5fdb5df8",
            "f538ea2aef3d421bba3c383d20740451",
            "37148bc3c49949c6b66a07571aa57498",
            "7a3e76db7e3c48a2b7bc921e85df3249",
            "252e5b228e4f4e2ea63a3706c14c7263",
            "6a3b97f699a944099d89b974f065e1f9",
            "c1eac0269baf4a90ae7beab7b0dba332",
            "41ff190021554e02965517a9f8cfc3e8",
            "bee929a1cf404dd083ee11f94eeec143",
            "12526a213e3c45f1bc15d3990a42a6f4",
            "0a5bedb51a6c4069bd62e43b0b35d886",
            "308a2e472d0d46cc8628263e67ebf9a1",
            "e54e4c8491a14d52aee3c335279d3d08",
            "475418c0c0ae4fe8b5f13092ba603dc3",
            "c4ce011aaa074726ab2a30a93e879e3c",
            "9aa39433a4e44a97afdc23af762a6595",
            "acc0b9227f8e4bda97ed69dde14ce6c9",
            "11914630c6f44f229d97ada03670b921",
            "2362adc29578415abbcac76940542ba1",
            "c91ff873d22b48a684daa1e801c2f22e",
            "af75cabd991d40b3b6395952abdbffca",
            "d8fc07dd26a84248a2912713a5f1094e"
          ]
        },
        "id": "8A7P_o1FkONy",
        "outputId": "4852b291-a751-4a79-b6ce-1e50b090225f"
      },
      "outputs": [
        {
          "output_type": "stream",
          "name": "stdout",
          "text": [
            "load diacritization model ... \n",
            "Exporting the pretrained models ... \n"
          ]
        },
        {
          "output_type": "stream",
          "name": "stderr",
          "text": [
            "Cached Downloading: model.zip\n",
            "Downloading...\n",
            "From: https://drive.google.com/uc?id=12aYNY7cbsLNzhdPdC2K3u1sgrb1lpzwO\n",
            "To: /root/.cache/gdown/tmpnbicd4l5/dl\n",
            "100%|██████████| 164M/164M [00:45<00:00, 3.65MB/s]\n"
          ]
        },
        {
          "output_type": "stream",
          "name": "stdout",
          "text": [
            "WARNING: could not check git hash. 'git_hash'\n",
            "loading from CA_MSA.base.cbhg/models/175000-snapshot.pt\n",
            "load meter classification model ...\n",
            "load embedding model ...\n",
            "load era classification model ...\n",
            "load theme classification model ...\n"
          ]
        },
        {
          "output_type": "display_data",
          "data": {
            "text/plain": [
              "  0%|          | 0/69 [00:00<?, ?ba/s]"
            ],
            "application/vnd.jupyter.widget-view+json": {
              "version_major": 2,
              "version_minor": 0,
              "model_id": "d5513466e0d740adbb0a7e235d40c09b"
            }
          },
          "metadata": {}
        },
        {
          "output_type": "display_data",
          "data": {
            "text/plain": [
              "  0%|          | 0/69 [00:00<?, ?ba/s]"
            ],
            "application/vnd.jupyter.widget-view+json": {
              "version_major": 2,
              "version_minor": 0,
              "model_id": "1b1bbd20b6ce41b2ba43586a5fdb5df8"
            }
          },
          "metadata": {}
        },
        {
          "output_type": "display_data",
          "data": {
            "text/plain": [
              "  0%|          | 0/69 [00:00<?, ?ba/s]"
            ],
            "application/vnd.jupyter.widget-view+json": {
              "version_major": 2,
              "version_minor": 0,
              "model_id": "308a2e472d0d46cc8628263e67ebf9a1"
            }
          },
          "metadata": {}
        },
        {
          "output_type": "stream",
          "name": "stderr",
          "text": [
            "Loading cached processed dataset at deep-learning-models/baits_embeddings/cache-4d854944fb79e268.arrow\n",
            "Loading cached processed dataset at deep-learning-models/baits_embeddings/cache-c6f7e42676590c27.arrow\n",
            "Loading cached processed dataset at deep-learning-models/baits_embeddings/cache-1e2d804abe027c06.arrow\n"
          ]
        }
      ],
      "source": [
        "%tensorflow_version 2.x\n",
        "from qawafi_server.bait_analysis import BaitAnalysis\n",
        "\n",
        "analysis = BaitAnalysis()\n",
        "output = analysis.analyze(baits,override_tashkeel=True)"
      ]
    },
    {
      "cell_type": "code",
      "source": [
        "from qawafi_server.utils import get_output_df, display_highlighted_patterns\n",
        "df = get_output_df(output)\n",
        "display_highlighted_patterns(df)\n"
      ],
      "metadata": {
        "colab": {
          "base_uri": "https://localhost:8080/",
          "height": 258
        },
        "id": "z0B9uHYgX-mE",
        "outputId": "209fd1c1-d6ce-4162-9ede-db22070bc61b"
      },
      "execution_count": null,
      "outputs": [
        {
          "output_type": "display_data",
          "data": {
            "text/plain": [
              "<IPython.core.display.HTML object>"
            ],
            "text/html": [
              "\n",
              "    <html>\n",
              "    <head>\n",
              "    <style>\n",
              "    table {\n",
              "      font-family: arial, sans-serif;\n",
              "      border-collapse: collapse;\n",
              "      width: 100%;\n",
              "    }\n",
              "\n",
              "    td, th {\n",
              "      border: 1px solid #dddddd;\n",
              "      text-align: left;\n",
              "      padding: 8px;\n",
              "    }\n",
              "\n",
              "    tr:nth-child(even) {\n",
              "      background-color: #555555;\n",
              "    }\n",
              "    </style>\n",
              "    </head>\n",
              "\n",
              "    <table>\n",
              "        <thead>\n",
              "            <th> المشكل </th><th> الكتابة العروضية </th><th> التفعيله </th><th> النمط </th><th> البحر </th><th> الحقبة الزمنية </th><th> العاطفة </th><th> القافية </th>\n",
              "        </thead>\n",
              "    <tbody><tr><td> الْقَلْبُ أَعْلَمُ يَا عَذُولُ بِدَائِهِ </td><td> ألقلب أعلم يا عذول بدائهي </td><td> متْفاعلنْ متفاعلنْ متفاعلنْ </td><td> <span style=\"color: #36AE7C\">1</span><span style=\"color: #36AE7C\">0</span><span style=\"color: #36AE7C\">1</span><span style=\"color: #36AE7C\">0</span><span style=\"color: #36AE7C\">1</span><span style=\"color: #36AE7C\">1</span><span style=\"color: #36AE7C\">0</span><span style=\"color: #36AE7C\">1</span><span style=\"color: #36AE7C\">1</span><span style=\"color: #36AE7C\">1</span><span style=\"color: #36AE7C\">0</span><span style=\"color: #36AE7C\">1</span><span style=\"color: #36AE7C\">1</span><span style=\"color: #36AE7C\">0</span><span style=\"color: #36AE7C\">1</span><span style=\"color: #36AE7C\">1</span><span style=\"color: #36AE7C\">1</span><span style=\"color: #36AE7C\">0</span><span style=\"color: #36AE7C\">1</span><span style=\"color: #36AE7C\">1</span><span style=\"color: #36AE7C\">0</span> </td><td> الكامل </td><td> العصر العباسي </td><td> قصيدة حزينه </td><td> ء قافية بحرف الروي: ء ،  و زاد لها الوصل و الخَروج زاد لها الردف </td></tr><tr><td> وَأَحَقَّ مِنْكَ بِجَفْنِهِ وَبِمَائِهِ </td><td> وأحقق منك بجفنهي وبمائهي </td><td> متفاعلنْ متفاعلنْ متفاعلنْ </td><td> <span style=\"color: #36AE7C\">1</span><span style=\"color: #36AE7C\">1</span><span style=\"color: #36AE7C\">1</span><span style=\"color: #36AE7C\">0</span><span style=\"color: #36AE7C\">1</span><span style=\"color: #36AE7C\">1</span><span style=\"color: #36AE7C\">0</span><span style=\"color: #36AE7C\">1</span><span style=\"color: #36AE7C\">1</span><span style=\"color: #36AE7C\">1</span><span style=\"color: #36AE7C\">0</span><span style=\"color: #36AE7C\">1</span><span style=\"color: #36AE7C\">1</span><span style=\"color: #36AE7C\">0</span><span style=\"color: #36AE7C\">1</span><span style=\"color: #36AE7C\">1</span><span style=\"color: #36AE7C\">1</span><span style=\"color: #36AE7C\">0</span><span style=\"color: #36AE7C\">1</span><span style=\"color: #36AE7C\">1</span><span style=\"color: #36AE7C\">0</span> </td><td>  </td><td>  </td><td>  </td><td>  </td></tr><tr><td> مَهْلًا فَإِنَّ الْعَذْلَ مِنْ أَسْقَامِهِ </td><td> مهلنا فإنن لعذل من أسقامهي </td><td> متْفاعلنْ متْفاعلنْ متْفاعلنْ </td><td> <span style=\"color: #36AE7C\">1</span><span style=\"color: #36AE7C\">0</span><span style=\"color: #36AE7C\">1</span><span style=\"color: #36AE7C\">0</span><span style=\"color: #EB5353\">1</span><span style=\"color: #36AE7C\">1</span><span style=\"color: #36AE7C\">1</span><span style=\"color: #36AE7C\">0</span><span style=\"color: #36AE7C\">1</span><span style=\"color: #36AE7C\">0</span><span style=\"color: #36AE7C\">1</span><span style=\"color: #36AE7C\">0</span><span style=\"color: #36AE7C\">1</span><span style=\"color: #36AE7C\">1</span><span style=\"color: #36AE7C\">0</span><span style=\"color: #36AE7C\">1</span><span style=\"color: #36AE7C\">0</span><span style=\"color: #36AE7C\">1</span><span style=\"color: #36AE7C\">0</span><span style=\"color: #36AE7C\">1</span><span style=\"color: #36AE7C\">1</span><span style=\"color: #36AE7C\">0</span> </td><td>  </td><td>  </td><td>  </td><td>  </td></tr><tr><td> وَتَرَفُّقًا فَالسَّمْعُ مِنْ أَعْضَائِهِ </td><td> وترففقنا فسسمع من أعضائهي </td><td> متفاعلنْ متفاعلنْ متْفاعلنْ </td><td> <span style=\"color: #36AE7C\">1</span><span style=\"color: #36AE7C\">1</span><span style=\"color: #36AE7C\">1</span><span style=\"color: #36AE7C\">0</span><span style=\"color: #36AE7C\">1</span><span style=\"color: #36AE7C\">1</span><span style=\"color: #36AE7C\">0</span><span style=\"color: #36AE7C\">1</span><span style=\"color: #36AE7C\">1</span><span style=\"color: #EB5353\">0</span><span style=\"color: #36AE7C\">1</span><span style=\"color: #36AE7C\">0</span><span style=\"color: #36AE7C\">1</span><span style=\"color: #36AE7C\">1</span><span style=\"color: #36AE7C\">0</span><span style=\"color: #36AE7C\">1</span><span style=\"color: #36AE7C\">0</span><span style=\"color: #36AE7C\">1</span><span style=\"color: #36AE7C\">0</span><span style=\"color: #36AE7C\">1</span><span style=\"color: #36AE7C\">1</span><span style=\"color: #36AE7C\">0</span> </td><td>  </td><td>  </td><td>  </td><td>  </td></tr><tr><td> لاَ تَعْذُلِ الْمُشْتَاقَ فِي أَشْوَاقِهِ </td><td> لا تعذل لمشتاق في أشواقهي </td><td> متفاعلنْ متْفاعلنْ متْفاعلنْ </td><td> <span style=\"color: #36AE7C\">1</span><span style=\"color: #36AE7C\">1</span><span style=\"color: #36AE7C\">1</span><span style=\"color: #36AE7C\">0</span><span style=\"color: #36AE7C\">1</span><span style=\"color: #36AE7C\">1</span><span style=\"color: #36AE7C\">0</span><span style=\"color: #36AE7C\">1</span><span style=\"color: #36AE7C\">0</span><span style=\"color: #36AE7C\">1</span><span style=\"color: #36AE7C\">0</span><span style=\"color: #36AE7C\">1</span><span style=\"color: #36AE7C\">1</span><span style=\"color: #36AE7C\">0</span><span style=\"color: #36AE7C\">1</span><span style=\"color: #36AE7C\">0</span><span style=\"color: #36AE7C\">1</span><span style=\"color: #36AE7C\">0</span><span style=\"color: #36AE7C\">1</span><span style=\"color: #36AE7C\">1</span><span style=\"color: #36AE7C\">0</span> </td><td>  </td><td>  </td><td>  </td><td>  </td></tr><tr><td> حَتَّى يَكُونَ حَشَاكَ فِي أَحْشَائِهِ </td><td> حتتى يكون حشاك في أحشائهي </td><td> متْفاعلنْ متفاعلنْ متْفاعلنْ </td><td> <span style=\"color: #36AE7C\">1</span><span style=\"color: #36AE7C\">0</span><span style=\"color: #36AE7C\">1</span><span style=\"color: #36AE7C\">0</span><span style=\"color: #36AE7C\">1</span><span style=\"color: #36AE7C\">1</span><span style=\"color: #36AE7C\">0</span><span style=\"color: #36AE7C\">1</span><span style=\"color: #36AE7C\">1</span><span style=\"color: #36AE7C\">1</span><span style=\"color: #36AE7C\">0</span><span style=\"color: #36AE7C\">1</span><span style=\"color: #36AE7C\">1</span><span style=\"color: #36AE7C\">0</span><span style=\"color: #36AE7C\">1</span><span style=\"color: #36AE7C\">0</span><span style=\"color: #36AE7C\">1</span><span style=\"color: #36AE7C\">0</span><span style=\"color: #36AE7C\">1</span><span style=\"color: #36AE7C\">1</span><span style=\"color: #36AE7C\">0</span> </td><td>  </td><td>  </td><td>  </td><td>  </td></tr></tbody></table></html>"
            ]
          },
          "metadata": {}
        }
      ]
    }
  ],
  "metadata": {
    "accelerator": "GPU",
    "colab": {
      "collapsed_sections": [],
      "name": "Copy of Barmajan: Qawafi Colab Demo.ipynb",
      "provenance": []
    },
    "kernelspec": {
      "display_name": "Python 3",
      "name": "python3"
    },
    "language_info": {
      "name": "python"
    },
    "widgets": {
      "application/vnd.jupyter.widget-state+json": {
        "d5513466e0d740adbb0a7e235d40c09b": {
          "model_module": "@jupyter-widgets/controls",
          "model_name": "HBoxModel",
          "model_module_version": "1.5.0",
          "state": {
            "_dom_classes": [],
            "_model_module": "@jupyter-widgets/controls",
            "_model_module_version": "1.5.0",
            "_model_name": "HBoxModel",
            "_view_count": null,
            "_view_module": "@jupyter-widgets/controls",
            "_view_module_version": "1.5.0",
            "_view_name": "HBoxView",
            "box_style": "",
            "children": [
              "IPY_MODEL_8e350c57fd304edf9394e820b140a1bf",
              "IPY_MODEL_64a509f0800c4c269f1238462560f1ef",
              "IPY_MODEL_5af4aee711bc498a80d4c98b07acef95"
            ],
            "layout": "IPY_MODEL_426400d796504e18b9e2ea493cebce4f"
          }
        },
        "8e350c57fd304edf9394e820b140a1bf": {
          "model_module": "@jupyter-widgets/controls",
          "model_name": "HTMLModel",
          "model_module_version": "1.5.0",
          "state": {
            "_dom_classes": [],
            "_model_module": "@jupyter-widgets/controls",
            "_model_module_version": "1.5.0",
            "_model_name": "HTMLModel",
            "_view_count": null,
            "_view_module": "@jupyter-widgets/controls",
            "_view_module_version": "1.5.0",
            "_view_name": "HTMLView",
            "description": "",
            "description_tooltip": null,
            "layout": "IPY_MODEL_9a426c1c7a584406839db3809d0240fe",
            "placeholder": "​",
            "style": "IPY_MODEL_9dd89f06c745482dac9161db53646d38",
            "value": "100%"
          }
        },
        "64a509f0800c4c269f1238462560f1ef": {
          "model_module": "@jupyter-widgets/controls",
          "model_name": "FloatProgressModel",
          "model_module_version": "1.5.0",
          "state": {
            "_dom_classes": [],
            "_model_module": "@jupyter-widgets/controls",
            "_model_module_version": "1.5.0",
            "_model_name": "FloatProgressModel",
            "_view_count": null,
            "_view_module": "@jupyter-widgets/controls",
            "_view_module_version": "1.5.0",
            "_view_name": "ProgressView",
            "bar_style": "success",
            "description": "",
            "description_tooltip": null,
            "layout": "IPY_MODEL_c55910518d5e450f8671751b02df6bed",
            "max": 69,
            "min": 0,
            "orientation": "horizontal",
            "style": "IPY_MODEL_cf10967d520b42db9da3be8fe2b63ba5",
            "value": 69
          }
        },
        "5af4aee711bc498a80d4c98b07acef95": {
          "model_module": "@jupyter-widgets/controls",
          "model_name": "HTMLModel",
          "model_module_version": "1.5.0",
          "state": {
            "_dom_classes": [],
            "_model_module": "@jupyter-widgets/controls",
            "_model_module_version": "1.5.0",
            "_model_name": "HTMLModel",
            "_view_count": null,
            "_view_module": "@jupyter-widgets/controls",
            "_view_module_version": "1.5.0",
            "_view_name": "HTMLView",
            "description": "",
            "description_tooltip": null,
            "layout": "IPY_MODEL_41779622d0634bb3ad4dc01b347a67b3",
            "placeholder": "​",
            "style": "IPY_MODEL_d656ee1310c349f898510fc664036f16",
            "value": " 69/69 [00:04&lt;00:00, 16.12ba/s]"
          }
        },
        "426400d796504e18b9e2ea493cebce4f": {
          "model_module": "@jupyter-widgets/base",
          "model_name": "LayoutModel",
          "model_module_version": "1.2.0",
          "state": {
            "_model_module": "@jupyter-widgets/base",
            "_model_module_version": "1.2.0",
            "_model_name": "LayoutModel",
            "_view_count": null,
            "_view_module": "@jupyter-widgets/base",
            "_view_module_version": "1.2.0",
            "_view_name": "LayoutView",
            "align_content": null,
            "align_items": null,
            "align_self": null,
            "border": null,
            "bottom": null,
            "display": null,
            "flex": null,
            "flex_flow": null,
            "grid_area": null,
            "grid_auto_columns": null,
            "grid_auto_flow": null,
            "grid_auto_rows": null,
            "grid_column": null,
            "grid_gap": null,
            "grid_row": null,
            "grid_template_areas": null,
            "grid_template_columns": null,
            "grid_template_rows": null,
            "height": null,
            "justify_content": null,
            "justify_items": null,
            "left": null,
            "margin": null,
            "max_height": null,
            "max_width": null,
            "min_height": null,
            "min_width": null,
            "object_fit": null,
            "object_position": null,
            "order": null,
            "overflow": null,
            "overflow_x": null,
            "overflow_y": null,
            "padding": null,
            "right": null,
            "top": null,
            "visibility": null,
            "width": null
          }
        },
        "9a426c1c7a584406839db3809d0240fe": {
          "model_module": "@jupyter-widgets/base",
          "model_name": "LayoutModel",
          "model_module_version": "1.2.0",
          "state": {
            "_model_module": "@jupyter-widgets/base",
            "_model_module_version": "1.2.0",
            "_model_name": "LayoutModel",
            "_view_count": null,
            "_view_module": "@jupyter-widgets/base",
            "_view_module_version": "1.2.0",
            "_view_name": "LayoutView",
            "align_content": null,
            "align_items": null,
            "align_self": null,
            "border": null,
            "bottom": null,
            "display": null,
            "flex": null,
            "flex_flow": null,
            "grid_area": null,
            "grid_auto_columns": null,
            "grid_auto_flow": null,
            "grid_auto_rows": null,
            "grid_column": null,
            "grid_gap": null,
            "grid_row": null,
            "grid_template_areas": null,
            "grid_template_columns": null,
            "grid_template_rows": null,
            "height": null,
            "justify_content": null,
            "justify_items": null,
            "left": null,
            "margin": null,
            "max_height": null,
            "max_width": null,
            "min_height": null,
            "min_width": null,
            "object_fit": null,
            "object_position": null,
            "order": null,
            "overflow": null,
            "overflow_x": null,
            "overflow_y": null,
            "padding": null,
            "right": null,
            "top": null,
            "visibility": null,
            "width": null
          }
        },
        "9dd89f06c745482dac9161db53646d38": {
          "model_module": "@jupyter-widgets/controls",
          "model_name": "DescriptionStyleModel",
          "model_module_version": "1.5.0",
          "state": {
            "_model_module": "@jupyter-widgets/controls",
            "_model_module_version": "1.5.0",
            "_model_name": "DescriptionStyleModel",
            "_view_count": null,
            "_view_module": "@jupyter-widgets/base",
            "_view_module_version": "1.2.0",
            "_view_name": "StyleView",
            "description_width": ""
          }
        },
        "c55910518d5e450f8671751b02df6bed": {
          "model_module": "@jupyter-widgets/base",
          "model_name": "LayoutModel",
          "model_module_version": "1.2.0",
          "state": {
            "_model_module": "@jupyter-widgets/base",
            "_model_module_version": "1.2.0",
            "_model_name": "LayoutModel",
            "_view_count": null,
            "_view_module": "@jupyter-widgets/base",
            "_view_module_version": "1.2.0",
            "_view_name": "LayoutView",
            "align_content": null,
            "align_items": null,
            "align_self": null,
            "border": null,
            "bottom": null,
            "display": null,
            "flex": null,
            "flex_flow": null,
            "grid_area": null,
            "grid_auto_columns": null,
            "grid_auto_flow": null,
            "grid_auto_rows": null,
            "grid_column": null,
            "grid_gap": null,
            "grid_row": null,
            "grid_template_areas": null,
            "grid_template_columns": null,
            "grid_template_rows": null,
            "height": null,
            "justify_content": null,
            "justify_items": null,
            "left": null,
            "margin": null,
            "max_height": null,
            "max_width": null,
            "min_height": null,
            "min_width": null,
            "object_fit": null,
            "object_position": null,
            "order": null,
            "overflow": null,
            "overflow_x": null,
            "overflow_y": null,
            "padding": null,
            "right": null,
            "top": null,
            "visibility": null,
            "width": null
          }
        },
        "cf10967d520b42db9da3be8fe2b63ba5": {
          "model_module": "@jupyter-widgets/controls",
          "model_name": "ProgressStyleModel",
          "model_module_version": "1.5.0",
          "state": {
            "_model_module": "@jupyter-widgets/controls",
            "_model_module_version": "1.5.0",
            "_model_name": "ProgressStyleModel",
            "_view_count": null,
            "_view_module": "@jupyter-widgets/base",
            "_view_module_version": "1.2.0",
            "_view_name": "StyleView",
            "bar_color": null,
            "description_width": ""
          }
        },
        "41779622d0634bb3ad4dc01b347a67b3": {
          "model_module": "@jupyter-widgets/base",
          "model_name": "LayoutModel",
          "model_module_version": "1.2.0",
          "state": {
            "_model_module": "@jupyter-widgets/base",
            "_model_module_version": "1.2.0",
            "_model_name": "LayoutModel",
            "_view_count": null,
            "_view_module": "@jupyter-widgets/base",
            "_view_module_version": "1.2.0",
            "_view_name": "LayoutView",
            "align_content": null,
            "align_items": null,
            "align_self": null,
            "border": null,
            "bottom": null,
            "display": null,
            "flex": null,
            "flex_flow": null,
            "grid_area": null,
            "grid_auto_columns": null,
            "grid_auto_flow": null,
            "grid_auto_rows": null,
            "grid_column": null,
            "grid_gap": null,
            "grid_row": null,
            "grid_template_areas": null,
            "grid_template_columns": null,
            "grid_template_rows": null,
            "height": null,
            "justify_content": null,
            "justify_items": null,
            "left": null,
            "margin": null,
            "max_height": null,
            "max_width": null,
            "min_height": null,
            "min_width": null,
            "object_fit": null,
            "object_position": null,
            "order": null,
            "overflow": null,
            "overflow_x": null,
            "overflow_y": null,
            "padding": null,
            "right": null,
            "top": null,
            "visibility": null,
            "width": null
          }
        },
        "d656ee1310c349f898510fc664036f16": {
          "model_module": "@jupyter-widgets/controls",
          "model_name": "DescriptionStyleModel",
          "model_module_version": "1.5.0",
          "state": {
            "_model_module": "@jupyter-widgets/controls",
            "_model_module_version": "1.5.0",
            "_model_name": "DescriptionStyleModel",
            "_view_count": null,
            "_view_module": "@jupyter-widgets/base",
            "_view_module_version": "1.2.0",
            "_view_name": "StyleView",
            "description_width": ""
          }
        },
        "1b1bbd20b6ce41b2ba43586a5fdb5df8": {
          "model_module": "@jupyter-widgets/controls",
          "model_name": "HBoxModel",
          "model_module_version": "1.5.0",
          "state": {
            "_dom_classes": [],
            "_model_module": "@jupyter-widgets/controls",
            "_model_module_version": "1.5.0",
            "_model_name": "HBoxModel",
            "_view_count": null,
            "_view_module": "@jupyter-widgets/controls",
            "_view_module_version": "1.5.0",
            "_view_name": "HBoxView",
            "box_style": "",
            "children": [
              "IPY_MODEL_f538ea2aef3d421bba3c383d20740451",
              "IPY_MODEL_37148bc3c49949c6b66a07571aa57498",
              "IPY_MODEL_7a3e76db7e3c48a2b7bc921e85df3249"
            ],
            "layout": "IPY_MODEL_252e5b228e4f4e2ea63a3706c14c7263"
          }
        },
        "f538ea2aef3d421bba3c383d20740451": {
          "model_module": "@jupyter-widgets/controls",
          "model_name": "HTMLModel",
          "model_module_version": "1.5.0",
          "state": {
            "_dom_classes": [],
            "_model_module": "@jupyter-widgets/controls",
            "_model_module_version": "1.5.0",
            "_model_name": "HTMLModel",
            "_view_count": null,
            "_view_module": "@jupyter-widgets/controls",
            "_view_module_version": "1.5.0",
            "_view_name": "HTMLView",
            "description": "",
            "description_tooltip": null,
            "layout": "IPY_MODEL_6a3b97f699a944099d89b974f065e1f9",
            "placeholder": "​",
            "style": "IPY_MODEL_c1eac0269baf4a90ae7beab7b0dba332",
            "value": "100%"
          }
        },
        "37148bc3c49949c6b66a07571aa57498": {
          "model_module": "@jupyter-widgets/controls",
          "model_name": "FloatProgressModel",
          "model_module_version": "1.5.0",
          "state": {
            "_dom_classes": [],
            "_model_module": "@jupyter-widgets/controls",
            "_model_module_version": "1.5.0",
            "_model_name": "FloatProgressModel",
            "_view_count": null,
            "_view_module": "@jupyter-widgets/controls",
            "_view_module_version": "1.5.0",
            "_view_name": "ProgressView",
            "bar_style": "success",
            "description": "",
            "description_tooltip": null,
            "layout": "IPY_MODEL_41ff190021554e02965517a9f8cfc3e8",
            "max": 69,
            "min": 0,
            "orientation": "horizontal",
            "style": "IPY_MODEL_bee929a1cf404dd083ee11f94eeec143",
            "value": 69
          }
        },
        "7a3e76db7e3c48a2b7bc921e85df3249": {
          "model_module": "@jupyter-widgets/controls",
          "model_name": "HTMLModel",
          "model_module_version": "1.5.0",
          "state": {
            "_dom_classes": [],
            "_model_module": "@jupyter-widgets/controls",
            "_model_module_version": "1.5.0",
            "_model_name": "HTMLModel",
            "_view_count": null,
            "_view_module": "@jupyter-widgets/controls",
            "_view_module_version": "1.5.0",
            "_view_name": "HTMLView",
            "description": "",
            "description_tooltip": null,
            "layout": "IPY_MODEL_12526a213e3c45f1bc15d3990a42a6f4",
            "placeholder": "​",
            "style": "IPY_MODEL_0a5bedb51a6c4069bd62e43b0b35d886",
            "value": " 69/69 [00:04&lt;00:00, 16.32ba/s]"
          }
        },
        "252e5b228e4f4e2ea63a3706c14c7263": {
          "model_module": "@jupyter-widgets/base",
          "model_name": "LayoutModel",
          "model_module_version": "1.2.0",
          "state": {
            "_model_module": "@jupyter-widgets/base",
            "_model_module_version": "1.2.0",
            "_model_name": "LayoutModel",
            "_view_count": null,
            "_view_module": "@jupyter-widgets/base",
            "_view_module_version": "1.2.0",
            "_view_name": "LayoutView",
            "align_content": null,
            "align_items": null,
            "align_self": null,
            "border": null,
            "bottom": null,
            "display": null,
            "flex": null,
            "flex_flow": null,
            "grid_area": null,
            "grid_auto_columns": null,
            "grid_auto_flow": null,
            "grid_auto_rows": null,
            "grid_column": null,
            "grid_gap": null,
            "grid_row": null,
            "grid_template_areas": null,
            "grid_template_columns": null,
            "grid_template_rows": null,
            "height": null,
            "justify_content": null,
            "justify_items": null,
            "left": null,
            "margin": null,
            "max_height": null,
            "max_width": null,
            "min_height": null,
            "min_width": null,
            "object_fit": null,
            "object_position": null,
            "order": null,
            "overflow": null,
            "overflow_x": null,
            "overflow_y": null,
            "padding": null,
            "right": null,
            "top": null,
            "visibility": null,
            "width": null
          }
        },
        "6a3b97f699a944099d89b974f065e1f9": {
          "model_module": "@jupyter-widgets/base",
          "model_name": "LayoutModel",
          "model_module_version": "1.2.0",
          "state": {
            "_model_module": "@jupyter-widgets/base",
            "_model_module_version": "1.2.0",
            "_model_name": "LayoutModel",
            "_view_count": null,
            "_view_module": "@jupyter-widgets/base",
            "_view_module_version": "1.2.0",
            "_view_name": "LayoutView",
            "align_content": null,
            "align_items": null,
            "align_self": null,
            "border": null,
            "bottom": null,
            "display": null,
            "flex": null,
            "flex_flow": null,
            "grid_area": null,
            "grid_auto_columns": null,
            "grid_auto_flow": null,
            "grid_auto_rows": null,
            "grid_column": null,
            "grid_gap": null,
            "grid_row": null,
            "grid_template_areas": null,
            "grid_template_columns": null,
            "grid_template_rows": null,
            "height": null,
            "justify_content": null,
            "justify_items": null,
            "left": null,
            "margin": null,
            "max_height": null,
            "max_width": null,
            "min_height": null,
            "min_width": null,
            "object_fit": null,
            "object_position": null,
            "order": null,
            "overflow": null,
            "overflow_x": null,
            "overflow_y": null,
            "padding": null,
            "right": null,
            "top": null,
            "visibility": null,
            "width": null
          }
        },
        "c1eac0269baf4a90ae7beab7b0dba332": {
          "model_module": "@jupyter-widgets/controls",
          "model_name": "DescriptionStyleModel",
          "model_module_version": "1.5.0",
          "state": {
            "_model_module": "@jupyter-widgets/controls",
            "_model_module_version": "1.5.0",
            "_model_name": "DescriptionStyleModel",
            "_view_count": null,
            "_view_module": "@jupyter-widgets/base",
            "_view_module_version": "1.2.0",
            "_view_name": "StyleView",
            "description_width": ""
          }
        },
        "41ff190021554e02965517a9f8cfc3e8": {
          "model_module": "@jupyter-widgets/base",
          "model_name": "LayoutModel",
          "model_module_version": "1.2.0",
          "state": {
            "_model_module": "@jupyter-widgets/base",
            "_model_module_version": "1.2.0",
            "_model_name": "LayoutModel",
            "_view_count": null,
            "_view_module": "@jupyter-widgets/base",
            "_view_module_version": "1.2.0",
            "_view_name": "LayoutView",
            "align_content": null,
            "align_items": null,
            "align_self": null,
            "border": null,
            "bottom": null,
            "display": null,
            "flex": null,
            "flex_flow": null,
            "grid_area": null,
            "grid_auto_columns": null,
            "grid_auto_flow": null,
            "grid_auto_rows": null,
            "grid_column": null,
            "grid_gap": null,
            "grid_row": null,
            "grid_template_areas": null,
            "grid_template_columns": null,
            "grid_template_rows": null,
            "height": null,
            "justify_content": null,
            "justify_items": null,
            "left": null,
            "margin": null,
            "max_height": null,
            "max_width": null,
            "min_height": null,
            "min_width": null,
            "object_fit": null,
            "object_position": null,
            "order": null,
            "overflow": null,
            "overflow_x": null,
            "overflow_y": null,
            "padding": null,
            "right": null,
            "top": null,
            "visibility": null,
            "width": null
          }
        },
        "bee929a1cf404dd083ee11f94eeec143": {
          "model_module": "@jupyter-widgets/controls",
          "model_name": "ProgressStyleModel",
          "model_module_version": "1.5.0",
          "state": {
            "_model_module": "@jupyter-widgets/controls",
            "_model_module_version": "1.5.0",
            "_model_name": "ProgressStyleModel",
            "_view_count": null,
            "_view_module": "@jupyter-widgets/base",
            "_view_module_version": "1.2.0",
            "_view_name": "StyleView",
            "bar_color": null,
            "description_width": ""
          }
        },
        "12526a213e3c45f1bc15d3990a42a6f4": {
          "model_module": "@jupyter-widgets/base",
          "model_name": "LayoutModel",
          "model_module_version": "1.2.0",
          "state": {
            "_model_module": "@jupyter-widgets/base",
            "_model_module_version": "1.2.0",
            "_model_name": "LayoutModel",
            "_view_count": null,
            "_view_module": "@jupyter-widgets/base",
            "_view_module_version": "1.2.0",
            "_view_name": "LayoutView",
            "align_content": null,
            "align_items": null,
            "align_self": null,
            "border": null,
            "bottom": null,
            "display": null,
            "flex": null,
            "flex_flow": null,
            "grid_area": null,
            "grid_auto_columns": null,
            "grid_auto_flow": null,
            "grid_auto_rows": null,
            "grid_column": null,
            "grid_gap": null,
            "grid_row": null,
            "grid_template_areas": null,
            "grid_template_columns": null,
            "grid_template_rows": null,
            "height": null,
            "justify_content": null,
            "justify_items": null,
            "left": null,
            "margin": null,
            "max_height": null,
            "max_width": null,
            "min_height": null,
            "min_width": null,
            "object_fit": null,
            "object_position": null,
            "order": null,
            "overflow": null,
            "overflow_x": null,
            "overflow_y": null,
            "padding": null,
            "right": null,
            "top": null,
            "visibility": null,
            "width": null
          }
        },
        "0a5bedb51a6c4069bd62e43b0b35d886": {
          "model_module": "@jupyter-widgets/controls",
          "model_name": "DescriptionStyleModel",
          "model_module_version": "1.5.0",
          "state": {
            "_model_module": "@jupyter-widgets/controls",
            "_model_module_version": "1.5.0",
            "_model_name": "DescriptionStyleModel",
            "_view_count": null,
            "_view_module": "@jupyter-widgets/base",
            "_view_module_version": "1.2.0",
            "_view_name": "StyleView",
            "description_width": ""
          }
        },
        "308a2e472d0d46cc8628263e67ebf9a1": {
          "model_module": "@jupyter-widgets/controls",
          "model_name": "HBoxModel",
          "model_module_version": "1.5.0",
          "state": {
            "_dom_classes": [],
            "_model_module": "@jupyter-widgets/controls",
            "_model_module_version": "1.5.0",
            "_model_name": "HBoxModel",
            "_view_count": null,
            "_view_module": "@jupyter-widgets/controls",
            "_view_module_version": "1.5.0",
            "_view_name": "HBoxView",
            "box_style": "",
            "children": [
              "IPY_MODEL_e54e4c8491a14d52aee3c335279d3d08",
              "IPY_MODEL_475418c0c0ae4fe8b5f13092ba603dc3",
              "IPY_MODEL_c4ce011aaa074726ab2a30a93e879e3c"
            ],
            "layout": "IPY_MODEL_9aa39433a4e44a97afdc23af762a6595"
          }
        },
        "e54e4c8491a14d52aee3c335279d3d08": {
          "model_module": "@jupyter-widgets/controls",
          "model_name": "HTMLModel",
          "model_module_version": "1.5.0",
          "state": {
            "_dom_classes": [],
            "_model_module": "@jupyter-widgets/controls",
            "_model_module_version": "1.5.0",
            "_model_name": "HTMLModel",
            "_view_count": null,
            "_view_module": "@jupyter-widgets/controls",
            "_view_module_version": "1.5.0",
            "_view_name": "HTMLView",
            "description": "",
            "description_tooltip": null,
            "layout": "IPY_MODEL_acc0b9227f8e4bda97ed69dde14ce6c9",
            "placeholder": "​",
            "style": "IPY_MODEL_11914630c6f44f229d97ada03670b921",
            "value": "100%"
          }
        },
        "475418c0c0ae4fe8b5f13092ba603dc3": {
          "model_module": "@jupyter-widgets/controls",
          "model_name": "FloatProgressModel",
          "model_module_version": "1.5.0",
          "state": {
            "_dom_classes": [],
            "_model_module": "@jupyter-widgets/controls",
            "_model_module_version": "1.5.0",
            "_model_name": "FloatProgressModel",
            "_view_count": null,
            "_view_module": "@jupyter-widgets/controls",
            "_view_module_version": "1.5.0",
            "_view_name": "ProgressView",
            "bar_style": "success",
            "description": "",
            "description_tooltip": null,
            "layout": "IPY_MODEL_2362adc29578415abbcac76940542ba1",
            "max": 69,
            "min": 0,
            "orientation": "horizontal",
            "style": "IPY_MODEL_c91ff873d22b48a684daa1e801c2f22e",
            "value": 69
          }
        },
        "c4ce011aaa074726ab2a30a93e879e3c": {
          "model_module": "@jupyter-widgets/controls",
          "model_name": "HTMLModel",
          "model_module_version": "1.5.0",
          "state": {
            "_dom_classes": [],
            "_model_module": "@jupyter-widgets/controls",
            "_model_module_version": "1.5.0",
            "_model_name": "HTMLModel",
            "_view_count": null,
            "_view_module": "@jupyter-widgets/controls",
            "_view_module_version": "1.5.0",
            "_view_name": "HTMLView",
            "description": "",
            "description_tooltip": null,
            "layout": "IPY_MODEL_af75cabd991d40b3b6395952abdbffca",
            "placeholder": "​",
            "style": "IPY_MODEL_d8fc07dd26a84248a2912713a5f1094e",
            "value": " 69/69 [00:04&lt;00:00, 15.54ba/s]"
          }
        },
        "9aa39433a4e44a97afdc23af762a6595": {
          "model_module": "@jupyter-widgets/base",
          "model_name": "LayoutModel",
          "model_module_version": "1.2.0",
          "state": {
            "_model_module": "@jupyter-widgets/base",
            "_model_module_version": "1.2.0",
            "_model_name": "LayoutModel",
            "_view_count": null,
            "_view_module": "@jupyter-widgets/base",
            "_view_module_version": "1.2.0",
            "_view_name": "LayoutView",
            "align_content": null,
            "align_items": null,
            "align_self": null,
            "border": null,
            "bottom": null,
            "display": null,
            "flex": null,
            "flex_flow": null,
            "grid_area": null,
            "grid_auto_columns": null,
            "grid_auto_flow": null,
            "grid_auto_rows": null,
            "grid_column": null,
            "grid_gap": null,
            "grid_row": null,
            "grid_template_areas": null,
            "grid_template_columns": null,
            "grid_template_rows": null,
            "height": null,
            "justify_content": null,
            "justify_items": null,
            "left": null,
            "margin": null,
            "max_height": null,
            "max_width": null,
            "min_height": null,
            "min_width": null,
            "object_fit": null,
            "object_position": null,
            "order": null,
            "overflow": null,
            "overflow_x": null,
            "overflow_y": null,
            "padding": null,
            "right": null,
            "top": null,
            "visibility": null,
            "width": null
          }
        },
        "acc0b9227f8e4bda97ed69dde14ce6c9": {
          "model_module": "@jupyter-widgets/base",
          "model_name": "LayoutModel",
          "model_module_version": "1.2.0",
          "state": {
            "_model_module": "@jupyter-widgets/base",
            "_model_module_version": "1.2.0",
            "_model_name": "LayoutModel",
            "_view_count": null,
            "_view_module": "@jupyter-widgets/base",
            "_view_module_version": "1.2.0",
            "_view_name": "LayoutView",
            "align_content": null,
            "align_items": null,
            "align_self": null,
            "border": null,
            "bottom": null,
            "display": null,
            "flex": null,
            "flex_flow": null,
            "grid_area": null,
            "grid_auto_columns": null,
            "grid_auto_flow": null,
            "grid_auto_rows": null,
            "grid_column": null,
            "grid_gap": null,
            "grid_row": null,
            "grid_template_areas": null,
            "grid_template_columns": null,
            "grid_template_rows": null,
            "height": null,
            "justify_content": null,
            "justify_items": null,
            "left": null,
            "margin": null,
            "max_height": null,
            "max_width": null,
            "min_height": null,
            "min_width": null,
            "object_fit": null,
            "object_position": null,
            "order": null,
            "overflow": null,
            "overflow_x": null,
            "overflow_y": null,
            "padding": null,
            "right": null,
            "top": null,
            "visibility": null,
            "width": null
          }
        },
        "11914630c6f44f229d97ada03670b921": {
          "model_module": "@jupyter-widgets/controls",
          "model_name": "DescriptionStyleModel",
          "model_module_version": "1.5.0",
          "state": {
            "_model_module": "@jupyter-widgets/controls",
            "_model_module_version": "1.5.0",
            "_model_name": "DescriptionStyleModel",
            "_view_count": null,
            "_view_module": "@jupyter-widgets/base",
            "_view_module_version": "1.2.0",
            "_view_name": "StyleView",
            "description_width": ""
          }
        },
        "2362adc29578415abbcac76940542ba1": {
          "model_module": "@jupyter-widgets/base",
          "model_name": "LayoutModel",
          "model_module_version": "1.2.0",
          "state": {
            "_model_module": "@jupyter-widgets/base",
            "_model_module_version": "1.2.0",
            "_model_name": "LayoutModel",
            "_view_count": null,
            "_view_module": "@jupyter-widgets/base",
            "_view_module_version": "1.2.0",
            "_view_name": "LayoutView",
            "align_content": null,
            "align_items": null,
            "align_self": null,
            "border": null,
            "bottom": null,
            "display": null,
            "flex": null,
            "flex_flow": null,
            "grid_area": null,
            "grid_auto_columns": null,
            "grid_auto_flow": null,
            "grid_auto_rows": null,
            "grid_column": null,
            "grid_gap": null,
            "grid_row": null,
            "grid_template_areas": null,
            "grid_template_columns": null,
            "grid_template_rows": null,
            "height": null,
            "justify_content": null,
            "justify_items": null,
            "left": null,
            "margin": null,
            "max_height": null,
            "max_width": null,
            "min_height": null,
            "min_width": null,
            "object_fit": null,
            "object_position": null,
            "order": null,
            "overflow": null,
            "overflow_x": null,
            "overflow_y": null,
            "padding": null,
            "right": null,
            "top": null,
            "visibility": null,
            "width": null
          }
        },
        "c91ff873d22b48a684daa1e801c2f22e": {
          "model_module": "@jupyter-widgets/controls",
          "model_name": "ProgressStyleModel",
          "model_module_version": "1.5.0",
          "state": {
            "_model_module": "@jupyter-widgets/controls",
            "_model_module_version": "1.5.0",
            "_model_name": "ProgressStyleModel",
            "_view_count": null,
            "_view_module": "@jupyter-widgets/base",
            "_view_module_version": "1.2.0",
            "_view_name": "StyleView",
            "bar_color": null,
            "description_width": ""
          }
        },
        "af75cabd991d40b3b6395952abdbffca": {
          "model_module": "@jupyter-widgets/base",
          "model_name": "LayoutModel",
          "model_module_version": "1.2.0",
          "state": {
            "_model_module": "@jupyter-widgets/base",
            "_model_module_version": "1.2.0",
            "_model_name": "LayoutModel",
            "_view_count": null,
            "_view_module": "@jupyter-widgets/base",
            "_view_module_version": "1.2.0",
            "_view_name": "LayoutView",
            "align_content": null,
            "align_items": null,
            "align_self": null,
            "border": null,
            "bottom": null,
            "display": null,
            "flex": null,
            "flex_flow": null,
            "grid_area": null,
            "grid_auto_columns": null,
            "grid_auto_flow": null,
            "grid_auto_rows": null,
            "grid_column": null,
            "grid_gap": null,
            "grid_row": null,
            "grid_template_areas": null,
            "grid_template_columns": null,
            "grid_template_rows": null,
            "height": null,
            "justify_content": null,
            "justify_items": null,
            "left": null,
            "margin": null,
            "max_height": null,
            "max_width": null,
            "min_height": null,
            "min_width": null,
            "object_fit": null,
            "object_position": null,
            "order": null,
            "overflow": null,
            "overflow_x": null,
            "overflow_y": null,
            "padding": null,
            "right": null,
            "top": null,
            "visibility": null,
            "width": null
          }
        },
        "d8fc07dd26a84248a2912713a5f1094e": {
          "model_module": "@jupyter-widgets/controls",
          "model_name": "DescriptionStyleModel",
          "model_module_version": "1.5.0",
          "state": {
            "_model_module": "@jupyter-widgets/controls",
            "_model_module_version": "1.5.0",
            "_model_name": "DescriptionStyleModel",
            "_view_count": null,
            "_view_module": "@jupyter-widgets/base",
            "_view_module_version": "1.2.0",
            "_view_name": "StyleView",
            "description_width": ""
          }
        }
      }
    }
  },
  "nbformat": 4,
  "nbformat_minor": 0
}